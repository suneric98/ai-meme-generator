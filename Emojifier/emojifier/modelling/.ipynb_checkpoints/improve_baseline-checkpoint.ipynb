{
 "cells": [
  {
   "cell_type": "code",
   "execution_count": 13,
   "metadata": {},
   "outputs": [],
   "source": [
    "import pandas as pd\n",
    "import numpy as np\n",
    "import nltk\n",
    "import string\n",
    "import re\n",
    "import emoji\n",
    "import torch\n",
    "import json\n",
    "import time\n",
    "\n",
    "from sklearn.utils import shuffle\n",
    "from gensim.models import Word2Vec\n",
    "from sklearn.preprocessing import StandardScaler\n",
    "from sklearn.feature_extraction.text import TfidfVectorizer, CountVectorizer\n",
    "from sklearn.ensemble import RandomForestClassifier\n",
    "from sklearn.model_selection import cross_val_score\n",
    "from sklearn.model_selection import train_test_split"
   ]
  },
  {
   "cell_type": "code",
   "execution_count": 2,
   "metadata": {},
   "outputs": [
    {
     "name": "stdout",
     "output_type": "stream",
     "text": [
      "Tweets\n",
      "['💫 IT’S BURGER MONDAY, CBUS! 💫 Order any Gourmet Burger with a draft beer 🍔🍺 ifor just $9.99 when you dine in. 💪 Cer…', 'Stay strong 💪 You are an amazing man. I appreciate the truth that is told.', 'Code Sale Awesome from Styli 💪']\n",
      "122179\n",
      "Chosen emojis\n",
      "['😂', '😍', '😭', '😊', '💕', '😒', '😉', '👌', '👍', '🙏', '👀', '🔥', '💯', '👏', '💪']\n",
      "15\n"
     ]
    }
   ],
   "source": [
    "# getting the twitter comments\n",
    "DATA_PATH = '../data/twitter-data-cleaned.txt'\n",
    "with open(DATA_PATH, 'r',  encoding=\"utf-8\") as f:\n",
    "    data = f.readlines()\n",
    "data = [d.strip() for d in data if d.strip() != '']\n",
    "print('Tweets')\n",
    "print(data[:3])\n",
    "print(len(data))\n",
    "\n",
    "# getting our chosen emojis\n",
    "SELECTED_EMOJIS_PATH = '../data/best-emojis.json'\n",
    "with open(SELECTED_EMOJIS_PATH, 'r') as f:\n",
    "    EMOJIS = json.load(f)\n",
    "EMOJI_CHARS = [e['char'] for e in EMOJIS]\n",
    "print('Chosen emojis')\n",
    "print(EMOJI_CHARS)\n",
    "print(len(EMOJI_CHARS))\n",
    "\n",
    "ALL_EMOJIS = set(emoji.emojize(emoji_code) for emoji_code in emoji.UNICODE_EMOJI.values())"
   ]
  },
  {
   "cell_type": "code",
   "execution_count": 4,
   "metadata": {
    "scrolled": true
   },
   "outputs": [
    {
     "name": "stdout",
     "output_type": "stream",
     "text": [
      "😂\n",
      "8458\n",
      "[['familiar', 'with', 'my', 'face', 'too'], ['bollywood', 'reality'], ['though', 'your', 'debates', 'be', 'blasphemy']]\n",
      "😍\n",
      "7330\n",
      "[['figura', 'is', 'a', 'start', 'today'], ['200', 'days', 'to', 'go'], ['200', 'days', 'to', 'go']]\n",
      "😭\n",
      "7464\n",
      "[['lol', 'procrastination', 'almost', 'had', 'me'], ['just', 'change', 'my', 'first', 'diaper'], ['52', 'yuan', 'for', 'this', 'set']]\n",
      "😊\n",
      "6352\n",
      "[['you', 'today', 'credit', 'stacie', 'swift'], ['fantastic', 'well', 'done', 'ladies'], ['congratulations', 'fam', 'all', 'the', 'best']]\n",
      "💕\n",
      "6485\n",
      "[['happy', 'birthday', 'my', 'mochiiii', 'saranghae'], ['got', 'this', 'soon', 'youre', 'done'], ['we', 'got', 'this']]\n",
      "😒\n",
      "5873\n",
      "[['️', 'dunk', 'it', 'ang', 'hina'], ['comes', '17', 'on', 'uber', 'eats'], ['comes', '17', 'on', 'uber', 'eats']]\n",
      "😉\n",
      "5932\n",
      "[['start', 'today', 'choose', 'your', 'package'], ['the', 'richest', 'man', 'your', 'age'], ['yall', 'know', 'the', 'rest']]\n",
      "👌\n",
      "6035\n",
      "[['yess'], ['nice', 'one', 'you', 'are', 'a'], ['the', 'best', 'and', 'great', 'artist']]\n",
      "👍\n",
      "6463\n",
      "[['promises', 'made'], ['88m', 'tweets', 'on', 'sarkaruvaaripaata'], ['you', 'succeed', 'we', 'all', 'succeed']]\n",
      "🙏\n",
      "6741\n",
      "[['keep', 'going', 'more', 'power', 'to'], ['facts', 'i’m', 'very', 'interested', 'and'], ['the', 'thread', 'and', 'tweet', 'well']]\n",
      "👀\n",
      "5920\n",
      "[['we', 'you', 'post', 'this', 'on'], ['live', 'tonight', 'at', '7pm', 'mst'], ['make', 'it', '5', 'k', 'tweets']]\n",
      "🔥\n",
      "9914\n",
      "[['wickets', 'broken'], ['nnz'], ['nnz']]\n",
      "💯\n",
      "6364\n",
      "[['it', 'up', 'bro', 'full', 'support'], ['age', 'i', 'didn’t', 'say', 'that'], ['200', 'days', 'to', 'go']]\n",
      "👏\n",
      "9216\n",
      "[['future', 'this', 'young', 'mans', 'got'], ['。', '。', '。'], ['trump', '2020']]\n",
      "💪\n",
      "6479\n",
      "[['999', 'when', 'you', 'dine', 'in'], ['stay', 'strong', 'you', 'are', 'an'], ['code', 'sale', 'awesome', 'from', 'styli']]\n"
     ]
    }
   ],
   "source": [
    "# preprocessing the data\n",
    "from parsing import Tokenizer, TokenType, Token\n",
    "tokenizer = Tokenizer(EMOJI_CHARS)\n",
    "# take 3 previous words as context for the emoji\n",
    "context = {e:[] for e in EMOJI_CHARS}\n",
    "emojiToId = {e:i for i,e in enumerate(EMOJI_CHARS)}\n",
    "\n",
    "for tweet in data:\n",
    "    tokens = tokenizer.tokenize(tweet)\n",
    "    for i,token in enumerate(tokens):\n",
    "        if token.token_type == TokenType.EMOJIS:\n",
    "            closest = tokenizer.findClosestNWords(5, tokens, i)\n",
    "            if closest:\n",
    "                context[token.raw].append(closest)\n",
    "\n",
    "for e, words in context.items():\n",
    "    print(e)\n",
    "    print(len(words))\n",
    "    print(words[:3])"
   ]
  },
  {
   "cell_type": "code",
   "execution_count": 5,
   "metadata": {
    "scrolled": true
   },
   "outputs": [
    {
     "name": "stdout",
     "output_type": "stream",
     "text": [
      "75537\n"
     ]
    }
   ],
   "source": [
    "# making X and y for TFIDF as a baseline idea of how good our accuracy can expect to be\n",
    "X_words = []\n",
    "y = []\n",
    "sentences = set()\n",
    "for e, words in context.items():\n",
    "    for i,word_list in enumerate(words):\n",
    "        sentence = ' '.join(word_list)\n",
    "        if sentence in sentences:\n",
    "            continue\n",
    "        sentences.add(sentence)\n",
    "        X_words.append(sentence)\n",
    "        y.append(emojiToId[e])\n",
    "print(len(y))"
   ]
  },
  {
   "cell_type": "code",
   "execution_count": 8,
   "metadata": {},
   "outputs": [
    {
     "name": "stdout",
     "output_type": "stream",
     "text": [
      "Accuracy: 0.20 (+/- 0.01)\n"
     ]
    }
   ],
   "source": [
    "# attempting to use tfidf and RF\n",
    "# WARNING: can take a decent amount of time: 5 mins or so?\n",
    "vectorizer = TfidfVectorizer()\n",
    "X = vectorizer.fit_transform(X_words)\n",
    "\n",
    "model = RandomForestClassifier(n_estimators=100)\n",
    "scores = cross_val_score(model, X, y, cv=5)\n",
    "print(\"Accuracy: %0.2f (+/- %0.2f)\" % (scores.mean(), scores.std() * 2))"
   ]
  },
  {
   "cell_type": "code",
   "execution_count": 14,
   "metadata": {
    "scrolled": true
   },
   "outputs": [
    {
     "ename": "ValueError",
     "evalue": "Cannot center sparse matrices: pass `with_mean=False` instead. See docstring for motivation and alternatives.",
     "output_type": "error",
     "traceback": [
      "\u001b[0;31m---------------------------------------------------------------------------\u001b[0m",
      "\u001b[0;31mValueError\u001b[0m                                Traceback (most recent call last)",
      "\u001b[0;32m<ipython-input-14-0731b3804dbc>\u001b[0m in \u001b[0;36m<module>\u001b[0;34m\u001b[0m\n\u001b[1;32m      4\u001b[0m \u001b[0mX\u001b[0m \u001b[0;34m=\u001b[0m \u001b[0mvectorizer\u001b[0m\u001b[0;34m.\u001b[0m\u001b[0mfit_transform\u001b[0m\u001b[0;34m(\u001b[0m\u001b[0mX_words\u001b[0m\u001b[0;34m)\u001b[0m\u001b[0;34m\u001b[0m\u001b[0;34m\u001b[0m\u001b[0m\n\u001b[1;32m      5\u001b[0m \u001b[0mscaler\u001b[0m \u001b[0;34m=\u001b[0m \u001b[0mStandardScaler\u001b[0m\u001b[0;34m(\u001b[0m\u001b[0;34m)\u001b[0m\u001b[0;34m\u001b[0m\u001b[0;34m\u001b[0m\u001b[0m\n\u001b[0;32m----> 6\u001b[0;31m \u001b[0mX\u001b[0m \u001b[0;34m=\u001b[0m \u001b[0mscaler\u001b[0m\u001b[0;34m.\u001b[0m\u001b[0mfit_transform\u001b[0m\u001b[0;34m(\u001b[0m\u001b[0mX\u001b[0m\u001b[0;34m)\u001b[0m\u001b[0;34m\u001b[0m\u001b[0;34m\u001b[0m\u001b[0m\n\u001b[0m\u001b[1;32m      7\u001b[0m \u001b[0;34m\u001b[0m\u001b[0m\n\u001b[1;32m      8\u001b[0m \u001b[0mmodel\u001b[0m \u001b[0;34m=\u001b[0m \u001b[0mRandomForestClassifier\u001b[0m\u001b[0;34m(\u001b[0m\u001b[0mn_estimators\u001b[0m\u001b[0;34m=\u001b[0m\u001b[0;36m100\u001b[0m\u001b[0;34m)\u001b[0m\u001b[0;34m\u001b[0m\u001b[0;34m\u001b[0m\u001b[0m\n",
      "\u001b[0;32m~/anaconda3/lib/python3.7/site-packages/sklearn/base.py\u001b[0m in \u001b[0;36mfit_transform\u001b[0;34m(self, X, y, **fit_params)\u001b[0m\n\u001b[1;32m    688\u001b[0m         \u001b[0;32mif\u001b[0m \u001b[0my\u001b[0m \u001b[0;32mis\u001b[0m \u001b[0;32mNone\u001b[0m\u001b[0;34m:\u001b[0m\u001b[0;34m\u001b[0m\u001b[0;34m\u001b[0m\u001b[0m\n\u001b[1;32m    689\u001b[0m             \u001b[0;31m# fit method of arity 1 (unsupervised transformation)\u001b[0m\u001b[0;34m\u001b[0m\u001b[0;34m\u001b[0m\u001b[0;34m\u001b[0m\u001b[0m\n\u001b[0;32m--> 690\u001b[0;31m             \u001b[0;32mreturn\u001b[0m \u001b[0mself\u001b[0m\u001b[0;34m.\u001b[0m\u001b[0mfit\u001b[0m\u001b[0;34m(\u001b[0m\u001b[0mX\u001b[0m\u001b[0;34m,\u001b[0m \u001b[0;34m**\u001b[0m\u001b[0mfit_params\u001b[0m\u001b[0;34m)\u001b[0m\u001b[0;34m.\u001b[0m\u001b[0mtransform\u001b[0m\u001b[0;34m(\u001b[0m\u001b[0mX\u001b[0m\u001b[0;34m)\u001b[0m\u001b[0;34m\u001b[0m\u001b[0;34m\u001b[0m\u001b[0m\n\u001b[0m\u001b[1;32m    691\u001b[0m         \u001b[0;32melse\u001b[0m\u001b[0;34m:\u001b[0m\u001b[0;34m\u001b[0m\u001b[0;34m\u001b[0m\u001b[0m\n\u001b[1;32m    692\u001b[0m             \u001b[0;31m# fit method of arity 2 (supervised transformation)\u001b[0m\u001b[0;34m\u001b[0m\u001b[0;34m\u001b[0m\u001b[0;34m\u001b[0m\u001b[0m\n",
      "\u001b[0;32m~/anaconda3/lib/python3.7/site-packages/sklearn/preprocessing/_data.py\u001b[0m in \u001b[0;36mfit\u001b[0;34m(self, X, y)\u001b[0m\n\u001b[1;32m    665\u001b[0m         \u001b[0;31m# Reset internal state before fitting\u001b[0m\u001b[0;34m\u001b[0m\u001b[0;34m\u001b[0m\u001b[0;34m\u001b[0m\u001b[0m\n\u001b[1;32m    666\u001b[0m         \u001b[0mself\u001b[0m\u001b[0;34m.\u001b[0m\u001b[0m_reset\u001b[0m\u001b[0;34m(\u001b[0m\u001b[0;34m)\u001b[0m\u001b[0;34m\u001b[0m\u001b[0;34m\u001b[0m\u001b[0m\n\u001b[0;32m--> 667\u001b[0;31m         \u001b[0;32mreturn\u001b[0m \u001b[0mself\u001b[0m\u001b[0;34m.\u001b[0m\u001b[0mpartial_fit\u001b[0m\u001b[0;34m(\u001b[0m\u001b[0mX\u001b[0m\u001b[0;34m,\u001b[0m \u001b[0my\u001b[0m\u001b[0;34m)\u001b[0m\u001b[0;34m\u001b[0m\u001b[0;34m\u001b[0m\u001b[0m\n\u001b[0m\u001b[1;32m    668\u001b[0m \u001b[0;34m\u001b[0m\u001b[0m\n\u001b[1;32m    669\u001b[0m     \u001b[0;32mdef\u001b[0m \u001b[0mpartial_fit\u001b[0m\u001b[0;34m(\u001b[0m\u001b[0mself\u001b[0m\u001b[0;34m,\u001b[0m \u001b[0mX\u001b[0m\u001b[0;34m,\u001b[0m \u001b[0my\u001b[0m\u001b[0;34m=\u001b[0m\u001b[0;32mNone\u001b[0m\u001b[0;34m)\u001b[0m\u001b[0;34m:\u001b[0m\u001b[0;34m\u001b[0m\u001b[0;34m\u001b[0m\u001b[0m\n",
      "\u001b[0;32m~/anaconda3/lib/python3.7/site-packages/sklearn/preprocessing/_data.py\u001b[0m in \u001b[0;36mpartial_fit\u001b[0;34m(self, X, y)\u001b[0m\n\u001b[1;32m    713\u001b[0m             \u001b[0;32mif\u001b[0m \u001b[0mself\u001b[0m\u001b[0;34m.\u001b[0m\u001b[0mwith_mean\u001b[0m\u001b[0;34m:\u001b[0m\u001b[0;34m\u001b[0m\u001b[0;34m\u001b[0m\u001b[0m\n\u001b[1;32m    714\u001b[0m                 raise ValueError(\n\u001b[0;32m--> 715\u001b[0;31m                     \u001b[0;34m\"Cannot center sparse matrices: pass `with_mean=False` \"\u001b[0m\u001b[0;34m\u001b[0m\u001b[0;34m\u001b[0m\u001b[0m\n\u001b[0m\u001b[1;32m    716\u001b[0m                     \"instead. See docstring for motivation and alternatives.\")\n\u001b[1;32m    717\u001b[0m \u001b[0;34m\u001b[0m\u001b[0m\n",
      "\u001b[0;31mValueError\u001b[0m: Cannot center sparse matrices: pass `with_mean=False` instead. See docstring for motivation and alternatives."
     ]
    }
   ],
   "source": [
    "# attempting to use count_vectorizer and RF\n",
    "# WARNING: can take a decent amount of time: 5 mins or so?\n",
    "vectorizer = CountVectorizer()\n",
    "X = vectorizer.fit_transform(X_words)\n",
    "scaler = StandardScaler(with_mean=False)\n",
    "X = scaler.fit_transform(X)\n",
    "\n",
    "model = RandomForestClassifier(n_estimators=100)\n",
    "scores = cross_val_score(model, X, y, cv=5)\n",
    "print(\"Accuracy: %0.2f (+/- %0.2f)\" % (scores.mean(), scores.std() * 2))"
   ]
  },
  {
   "cell_type": "code",
   "execution_count": 15,
   "metadata": {},
   "outputs": [
    {
     "name": "stdout",
     "output_type": "stream",
     "text": [
      "['familiar', 'with', 'my', 'face', 'too']\n",
      "75537\n"
     ]
    }
   ],
   "source": [
    "# making X and y for RNN\n",
    "X_words = []\n",
    "y = []\n",
    "sentences = set()\n",
    "for e, words in context.items():\n",
    "    for i, sentence in enumerate(words):\n",
    "        check = ' '.join(sentence)\n",
    "        if check in sentences:\n",
    "            continue\n",
    "        sentences.add(check)\n",
    "        X_words.append(sentence)\n",
    "        y.append(emojiToId[e])\n",
    "print(X_words[0])\n",
    "print(len(y))"
   ]
  },
  {
   "cell_type": "code",
   "execution_count": 16,
   "metadata": {},
   "outputs": [],
   "source": [
    "# making word embeddings for RNN\n",
    "UNK = \"<unk>\"\n",
    "WORDEMBSIZE = 32\n",
    "W2V_WINDOW = 7\n",
    "W2V_COUNT = 1\n",
    "W2V_EPOCH=100\n",
    "\n",
    "def makeVocab(text):\n",
    "    vocab = set()\n",
    "    for sentences in text:\n",
    "        for word in sentences:\n",
    "            vocab.add(word)\n",
    "    return vocab\n",
    "\n",
    "def makeEmbModel(data):\n",
    "    docs = [[UNK]]\n",
    "    docs.extend(data)\n",
    "    model = Word2Vec(window=W2V_WINDOW, min_count=W2V_COUNT, size=WORDEMBSIZE)\n",
    "    model.build_vocab(docs)\n",
    "    model.train(docs, total_examples=len(docs), epochs=W2V_EPOCH)\n",
    "    print(model)\n",
    "    return model\n",
    "\n",
    "def makeEmbeddings(data, model, vocab):\n",
    "    vecData = []\n",
    "    for sentence in data:\n",
    "        wordEmbs = []\n",
    "        for word in sentence:\n",
    "            if word in vocab:\n",
    "#                 print(type(model[word]))\n",
    "#                 print(model[word])\n",
    "                wordEmbs.append(model[word])\n",
    "            else:\n",
    "                wordEmbs.append(np.zeros(WORDEMBSIZE))\n",
    "        wordEmbs = torch.FloatTensor(wordEmbs)\n",
    "        vecData.append(wordEmbs)\n",
    "    return vecData"
   ]
  },
  {
   "cell_type": "code",
   "execution_count": 18,
   "metadata": {
    "scrolled": true
   },
   "outputs": [
    {
     "name": "stdout",
     "output_type": "stream",
     "text": [
      "Word2Vec(vocab=28504, size=64, alpha=0.025)\n"
     ]
    },
    {
     "name": "stderr",
     "output_type": "stream",
     "text": [
      "/Users/ericsun/anaconda3/lib/python3.7/site-packages/ipykernel_launcher.py:32: DeprecationWarning: Call to deprecated `__getitem__` (Method will be removed in 4.0.0, use self.wv.__getitem__() instead).\n"
     ]
    },
    {
     "name": "stdout",
     "output_type": "stream",
     "text": [
      "['in', 'such', 'a', 'distinguished', 'list']\n",
      "tensor([[-1.7283e+00, -4.0847e-01,  1.0551e+00,  3.9535e-01,  2.3846e-01,\n",
      "         -4.8657e-01,  2.7928e-01, -2.3061e+00, -3.0334e+00, -6.1305e-01,\n",
      "         -1.9482e+00, -8.4794e-01,  9.2922e-01,  1.0158e+00,  6.7960e-01,\n",
      "          1.0427e+00,  1.6248e+00,  1.7842e-01,  1.8113e+00,  2.0307e+00,\n",
      "          2.8751e-01, -7.8694e-01,  1.7978e+00, -1.2655e+00,  2.3116e-01,\n",
      "         -1.7247e+00,  1.8191e+00, -7.4418e-01, -2.4973e-01,  1.4937e-01,\n",
      "          9.1150e-01, -1.5408e+00, -1.6699e+00, -6.7079e-01,  2.5512e-02,\n",
      "         -1.3191e+00,  2.2699e-01,  8.3313e-02,  2.5308e+00,  3.5827e-01,\n",
      "          2.9905e-02,  3.5009e-01,  7.1662e-01,  1.3336e+00,  1.3198e+00,\n",
      "          6.2618e-01,  6.8009e-01,  9.7643e-01, -3.7402e-02,  2.9115e-01,\n",
      "          6.3057e-02, -2.0480e+00,  2.2243e+00,  4.7334e-01,  1.1688e+00,\n",
      "          7.0880e-01, -7.7619e-01, -2.7164e-01, -2.9492e-01, -8.8393e-01,\n",
      "         -1.1925e+00, -1.5357e+00, -1.5316e+00,  5.8354e-01],\n",
      "        [-2.5921e+00,  1.4615e+00, -3.5959e+00,  7.9267e-02, -1.5113e+00,\n",
      "          1.9000e+00,  4.8106e-01, -1.5246e+00, -1.5002e+00, -7.7844e-02,\n",
      "          2.2644e-01, -1.4489e+00,  8.6388e-01,  3.7366e+00,  4.0437e-01,\n",
      "         -1.5145e-02,  4.8651e-01,  3.1244e-01,  2.0605e+00,  1.1796e+00,\n",
      "          1.2497e+00,  2.7100e+00,  9.5491e-01, -2.2837e+00,  2.3463e+00,\n",
      "          1.9163e+00, -4.4233e-02,  8.0438e-02, -4.8641e-01,  4.9045e-01,\n",
      "          3.2184e+00, -1.2778e+00,  1.6769e+00, -1.7267e+00,  2.0253e+00,\n",
      "          1.3163e+00,  2.6351e+00,  1.5831e+00,  9.6182e-01, -1.6680e+00,\n",
      "          1.3637e-01,  3.1622e+00,  3.3351e+00,  1.1927e+00,  8.3129e-01,\n",
      "          1.9334e-01,  7.6912e-01, -6.2769e-02,  4.2588e-02, -2.1919e+00,\n",
      "         -2.4072e-01, -2.9512e+00,  1.7047e+00,  1.6560e-01,  6.3539e-01,\n",
      "          8.6090e-01, -7.0689e-01,  1.4752e+00, -4.6386e-01, -1.5841e+00,\n",
      "         -6.3680e-01,  1.6461e+00,  2.6162e-01, -2.3836e+00],\n",
      "        [-1.5253e+00,  2.6172e-01, -2.7554e+00,  1.9098e+00,  7.8870e-01,\n",
      "          3.5174e-01,  1.2323e-02, -8.3196e-01, -3.7391e-01, -2.9392e-01,\n",
      "         -2.1099e+00, -7.8347e-01,  2.0067e+00,  1.8458e-02, -3.4131e-01,\n",
      "         -3.1949e-01, -7.8799e-01,  7.7973e-01,  1.1944e+00, -5.5412e-01,\n",
      "          1.3093e+00, -1.1396e+00,  1.7684e-01, -7.7734e-01, -1.0830e+00,\n",
      "          1.0771e+00,  1.4829e+00,  1.3864e+00,  3.4771e-01, -3.4012e-01,\n",
      "         -1.5130e-01, -1.4789e+00,  1.8202e+00, -5.0073e-01,  1.3974e-01,\n",
      "          5.6652e-01,  1.1894e+00,  6.1090e-01,  1.6706e+00, -1.0082e+00,\n",
      "         -3.0858e-01,  4.1991e-01,  3.0061e+00, -6.6485e-01, -1.3224e+00,\n",
      "          5.3680e-01,  6.9729e-01, -1.1467e-01,  2.9441e-01, -1.2113e+00,\n",
      "         -1.7084e+00,  5.7342e-01,  1.5045e+00, -9.1575e-01,  1.4218e+00,\n",
      "          3.5560e-01,  1.4591e+00, -1.3892e+00, -6.3539e-01, -1.3050e+00,\n",
      "          7.4963e-01, -1.5601e+00,  7.1602e-01, -5.5193e-01],\n",
      "        [ 3.3491e-01, -3.9293e-01, -4.0044e-01, -5.8051e-01,  2.5881e-01,\n",
      "          4.8952e-01, -1.5987e-01,  7.4770e-01,  2.3126e-01, -3.4168e-01,\n",
      "         -7.1845e-01,  1.3426e-01, -8.7864e-01,  1.0554e+00, -3.4768e-01,\n",
      "         -4.4416e-02,  3.5600e-01,  2.4366e-01, -4.7585e-01,  3.6307e-01,\n",
      "         -2.1959e-01,  3.5699e-02,  3.0827e-01,  8.2465e-02, -6.5308e-01,\n",
      "         -2.0822e-01,  5.4256e-01,  3.5297e-01,  1.6520e-01, -2.5941e-01,\n",
      "         -5.7884e-01,  2.6027e-02, -2.8706e-01, -3.3596e-02, -2.2223e-01,\n",
      "          4.4889e-01,  6.9586e-01,  3.6994e-01, -7.3167e-01, -2.6545e-01,\n",
      "          8.2141e-01,  4.5271e-01,  6.3996e-01, -5.0800e-01, -2.7008e-01,\n",
      "         -1.7470e-01, -6.4414e-01,  2.8779e-01, -5.5963e-01,  2.2836e-01,\n",
      "          4.3617e-02, -5.2780e-02, -2.6896e-01,  2.0941e-03,  2.0772e-01,\n",
      "         -1.1734e-01,  2.2626e-01, -4.9461e-01,  1.7077e-01, -1.6854e-01,\n",
      "          6.6843e-03,  3.6020e-01, -4.5451e-01, -1.8398e-01],\n",
      "        [-9.4895e-01, -1.3083e+00, -3.7888e-01,  1.1354e-01, -1.5429e-01,\n",
      "         -1.2179e+00,  2.7491e+00,  2.3199e+00, -1.6637e+00, -4.1980e-02,\n",
      "          8.1878e-01,  1.9612e+00,  1.8591e+00,  1.3711e+00, -1.4443e+00,\n",
      "         -4.7236e-01, -1.1084e+00,  3.6175e-01,  2.8179e+00,  1.2081e-01,\n",
      "          5.9155e-01, -2.3582e+00, -4.0228e-01, -1.6052e-01,  2.8564e-01,\n",
      "         -1.1307e+00,  8.7067e-02,  3.1154e+00, -1.9431e+00,  1.0444e+00,\n",
      "          4.0932e-01, -8.4697e-01, -1.6164e+00, -1.1539e+00,  1.4371e+00,\n",
      "         -1.5843e+00,  1.1137e+00, -8.0684e-01,  1.4630e-01, -2.2347e+00,\n",
      "          1.5191e+00,  2.0972e+00,  6.6505e-01,  1.4720e-02, -7.5242e-01,\n",
      "          6.5988e-01, -4.5738e-01,  1.1712e-01, -5.8418e-01, -7.2524e-01,\n",
      "         -6.2173e-01,  1.0792e+00,  7.4213e-01,  3.8245e-01,  1.6722e+00,\n",
      "         -1.2146e+00,  1.4365e+00, -6.5923e-01,  9.6977e-01, -8.7981e-01,\n",
      "          1.3472e+00,  5.0018e-01, -8.2594e-01,  1.7455e+00]])\n",
      "3\n"
     ]
    }
   ],
   "source": [
    "# continue making word embeddings\n",
    "X_words_train, X_words_test, y_train, y_test = train_test_split(X_words, y, train_size=0.8, test_size=0.2, random_state=42)\n",
    "vocab = makeVocab(X_words_train)\n",
    "emb_model = makeEmbModel(X_words_train)\n",
    "vocab = set(list(emb_model.wv.vocab.keys()))\n",
    "X_train = makeEmbeddings(X_words_train, emb_model, vocab)\n",
    "X_test = makeEmbeddings(X_words_test, emb_model, vocab)\n",
    "\n",
    "print(X_words_train[0])\n",
    "print(X_train[0])\n",
    "print(y_train[0])"
   ]
  },
  {
   "cell_type": "code",
   "execution_count": 19,
   "metadata": {},
   "outputs": [],
   "source": [
    "# RNN building to predict result\n",
    "import torch\n",
    "import torch.nn as nn\n",
    "import torch.optim as optim\n",
    "import random\n",
    "from tqdm.notebook import tqdm\n",
    "from sklearn.utils import shuffle\n",
    "import matplotlib.pyplot as plt"
   ]
  },
  {
   "cell_type": "code",
   "execution_count": 20,
   "metadata": {},
   "outputs": [],
   "source": [
    "# RNN model\n",
    "class RNN(nn.Module):\n",
    "    def __init__(self, input_dim, h, output_dim = 15):\n",
    "        super(RNN, self).__init__()\n",
    "        self.rnn = nn.RNN(input_dim, h, dropout=0.2)\n",
    "        self.finalLayer = nn.Linear(h, output_dim)\n",
    "        self.input_dim = input_dim\n",
    "        self.hidden_dim = h\n",
    "        self.output_dim =  output_dim\n",
    "#         self.word_embeddings = nn.Embedding(vocab_size, input_dim)\n",
    "        self.softmax = nn.LogSoftmax()\n",
    "        self.loss = nn.NLLLoss()\n",
    "    \n",
    "    def compute_loss(self, predicted_vector, gold_label):\n",
    "        return self.loss(predicted_vector, gold_label)\n",
    "    \n",
    "    def forward(self, inputs):\n",
    "        out, hidden = self.rnn(inputs)\n",
    "        hidden = hidden.contiguous().view(-1,self.hidden_dim)\n",
    "        predicted_vector = self.softmax(self.finalLayer(hidden))\n",
    "        return predicted_vector"
   ]
  },
  {
   "cell_type": "code",
   "execution_count": 21,
   "metadata": {
    "scrolled": true
   },
   "outputs": [
    {
     "name": "stdout",
     "output_type": "stream",
     "text": [
      "\n",
      "\n",
      "-------------\n",
      "EPOCH: 1\n",
      "Training started for epoch:1\n"
     ]
    },
    {
     "name": "stderr",
     "output_type": "stream",
     "text": [
      "/Users/ericsun/anaconda3/lib/python3.7/site-packages/torch/nn/modules/rnn.py:50: UserWarning: dropout option adds dropout after all but last recurrent layer, so non-zero dropout expects num_layers greater than 1, but got dropout=0.2 and num_layers=1\n",
      "  \"num_layers={}\".format(dropout, num_layers))\n"
     ]
    },
    {
     "data": {
      "application/vnd.jupyter.widget-view+json": {
       "model_id": "28f676f16f944605975f398d44d49b34",
       "version_major": 2,
       "version_minor": 0
      },
      "text/plain": [
       "HBox(children=(HTML(value=''), FloatProgress(value=0.0, max=3776.0), HTML(value='')))"
      ]
     },
     "metadata": {},
     "output_type": "display_data"
    },
    {
     "name": "stderr",
     "output_type": "stream",
     "text": [
      "/Users/ericsun/anaconda3/lib/python3.7/site-packages/ipykernel_launcher.py:20: UserWarning: Implicit dimension choice for log_softmax has been deprecated. Change the call to include dim=X as an argument.\n"
     ]
    },
    {
     "name": "stdout",
     "output_type": "stream",
     "text": [
      "\n",
      "Training completed for epoch: 1\n",
      "Time for train: 95.93112516403198\n",
      "Accuracy: 0.14896716101694915\n",
      "Validation started for epoch:1\n"
     ]
    },
    {
     "data": {
      "application/vnd.jupyter.widget-view+json": {
       "model_id": "facb33d595364354af4972c83d1f6ee1",
       "version_major": 2,
       "version_minor": 0
      },
      "text/plain": [
       "HBox(children=(HTML(value=''), FloatProgress(value=0.0, max=944.0), HTML(value='')))"
      ]
     },
     "metadata": {},
     "output_type": "display_data"
    },
    {
     "name": "stdout",
     "output_type": "stream",
     "text": [
      "\n",
      "Validation completed for epoch: 1\n",
      "Time for validation: 10.063143253326416\n",
      "Accuracy: 0.17478813559322035\n",
      "\n",
      "\n",
      "-------------\n",
      "EPOCH: 2\n",
      "Training started for epoch:2\n"
     ]
    },
    {
     "data": {
      "application/vnd.jupyter.widget-view+json": {
       "model_id": "1c374236445f4cd8be93104e8b4fffa4",
       "version_major": 2,
       "version_minor": 0
      },
      "text/plain": [
       "HBox(children=(HTML(value=''), FloatProgress(value=0.0, max=3776.0), HTML(value='')))"
      ]
     },
     "metadata": {},
     "output_type": "display_data"
    },
    {
     "name": "stdout",
     "output_type": "stream",
     "text": [
      "\n",
      "Training completed for epoch: 2\n",
      "Time for train: 91.85907673835754\n",
      "Accuracy: 0.18359375\n",
      "Validation started for epoch:2\n"
     ]
    },
    {
     "data": {
      "application/vnd.jupyter.widget-view+json": {
       "model_id": "a84b476fee70412f9a14330ebd2c0273",
       "version_major": 2,
       "version_minor": 0
      },
      "text/plain": [
       "HBox(children=(HTML(value=''), FloatProgress(value=0.0, max=944.0), HTML(value='')))"
      ]
     },
     "metadata": {},
     "output_type": "display_data"
    },
    {
     "name": "stdout",
     "output_type": "stream",
     "text": [
      "\n",
      "Validation completed for epoch: 2\n",
      "Time for validation: 11.174176931381226\n",
      "Accuracy: 0.1841896186440678\n",
      "\n",
      "\n",
      "-------------\n",
      "EPOCH: 3\n",
      "Training started for epoch:3\n"
     ]
    },
    {
     "data": {
      "application/vnd.jupyter.widget-view+json": {
       "model_id": "30eb9570bf5e4ac2bd56cce6f923e1b6",
       "version_major": 2,
       "version_minor": 0
      },
      "text/plain": [
       "HBox(children=(HTML(value=''), FloatProgress(value=0.0, max=3776.0), HTML(value='')))"
      ]
     },
     "metadata": {},
     "output_type": "display_data"
    },
    {
     "name": "stdout",
     "output_type": "stream",
     "text": [
      "\n",
      "Training completed for epoch: 3\n",
      "Time for train: 89.48292803764343\n",
      "Accuracy: 0.1917372881355932\n",
      "Validation started for epoch:3\n"
     ]
    },
    {
     "data": {
      "application/vnd.jupyter.widget-view+json": {
       "model_id": "4243d5df13bc4daf8b0a002999fc15f9",
       "version_major": 2,
       "version_minor": 0
      },
      "text/plain": [
       "HBox(children=(HTML(value=''), FloatProgress(value=0.0, max=944.0), HTML(value='')))"
      ]
     },
     "metadata": {},
     "output_type": "display_data"
    },
    {
     "name": "stdout",
     "output_type": "stream",
     "text": [
      "\n",
      "Validation completed for epoch: 3\n",
      "Time for validation: 10.802212238311768\n",
      "Accuracy: 0.18730137711864406\n",
      "\n",
      "\n",
      "-------------\n",
      "EPOCH: 4\n",
      "Training started for epoch:4\n"
     ]
    },
    {
     "data": {
      "application/vnd.jupyter.widget-view+json": {
       "model_id": "853870dee8cb473c878085cfbfa22c8d",
       "version_major": 2,
       "version_minor": 0
      },
      "text/plain": [
       "HBox(children=(HTML(value=''), FloatProgress(value=0.0, max=3776.0), HTML(value='')))"
      ]
     },
     "metadata": {},
     "output_type": "display_data"
    },
    {
     "name": "stdout",
     "output_type": "stream",
     "text": [
      "\n",
      "Training completed for epoch: 4\n",
      "Time for train: 96.02989077568054\n",
      "Accuracy: 0.19618975105932204\n",
      "Validation started for epoch:4\n"
     ]
    },
    {
     "data": {
      "application/vnd.jupyter.widget-view+json": {
       "model_id": "4eb29a8aa2204cf48bbfd87ef0841472",
       "version_major": 2,
       "version_minor": 0
      },
      "text/plain": [
       "HBox(children=(HTML(value=''), FloatProgress(value=0.0, max=944.0), HTML(value='')))"
      ]
     },
     "metadata": {},
     "output_type": "display_data"
    },
    {
     "name": "stdout",
     "output_type": "stream",
     "text": [
      "\n",
      "Validation completed for epoch: 4\n",
      "Time for validation: 10.16031002998352\n",
      "Accuracy: 0.1876324152542373\n",
      "\n",
      "\n",
      "-------------\n",
      "EPOCH: 5\n",
      "Training started for epoch:5\n"
     ]
    },
    {
     "data": {
      "application/vnd.jupyter.widget-view+json": {
       "model_id": "1ddfb03a03414f4aba44b842b2724d6c",
       "version_major": 2,
       "version_minor": 0
      },
      "text/plain": [
       "HBox(children=(HTML(value=''), FloatProgress(value=0.0, max=3776.0), HTML(value='')))"
      ]
     },
     "metadata": {},
     "output_type": "display_data"
    },
    {
     "name": "stdout",
     "output_type": "stream",
     "text": [
      "\n",
      "Training completed for epoch: 5\n",
      "Time for train: 91.27945518493652\n",
      "Accuracy: 0.2013870497881356\n",
      "Validation started for epoch:5\n"
     ]
    },
    {
     "data": {
      "application/vnd.jupyter.widget-view+json": {
       "model_id": "1d8b8df2bfcb4941a7ecb1469f4befc9",
       "version_major": 2,
       "version_minor": 0
      },
      "text/plain": [
       "HBox(children=(HTML(value=''), FloatProgress(value=0.0, max=944.0), HTML(value='')))"
      ]
     },
     "metadata": {},
     "output_type": "display_data"
    },
    {
     "name": "stdout",
     "output_type": "stream",
     "text": [
      "\n",
      "Validation completed for epoch: 5\n",
      "Time for validation: 10.115947008132935\n",
      "Accuracy: 0.19299523305084745\n",
      "\n",
      "\n",
      "-------------\n",
      "EPOCH: 6\n",
      "Training started for epoch:6\n"
     ]
    },
    {
     "data": {
      "application/vnd.jupyter.widget-view+json": {
       "model_id": "e301ec514743425d901332df96cf878c",
       "version_major": 2,
       "version_minor": 0
      },
      "text/plain": [
       "HBox(children=(HTML(value=''), FloatProgress(value=0.0, max=3776.0), HTML(value='')))"
      ]
     },
     "metadata": {},
     "output_type": "display_data"
    },
    {
     "name": "stdout",
     "output_type": "stream",
     "text": [
      "\n",
      "Training completed for epoch: 6\n",
      "Time for train: 91.73944592475891\n",
      "Accuracy: 0.20742849576271186\n",
      "Validation started for epoch:6\n"
     ]
    },
    {
     "data": {
      "application/vnd.jupyter.widget-view+json": {
       "model_id": "9f061bc9d90b42b0911ff8b42327139a",
       "version_major": 2,
       "version_minor": 0
      },
      "text/plain": [
       "HBox(children=(HTML(value=''), FloatProgress(value=0.0, max=944.0), HTML(value='')))"
      ]
     },
     "metadata": {},
     "output_type": "display_data"
    },
    {
     "name": "stdout",
     "output_type": "stream",
     "text": [
      "\n",
      "Validation completed for epoch: 6\n",
      "Time for validation: 28.765470266342163\n",
      "Accuracy: 0.19001588983050846\n",
      "\n",
      "\n",
      "-------------\n",
      "EPOCH: 7\n",
      "Training started for epoch:7\n"
     ]
    },
    {
     "data": {
      "application/vnd.jupyter.widget-view+json": {
       "model_id": "6b58720553dc48c9a59496e9a841e40b",
       "version_major": 2,
       "version_minor": 0
      },
      "text/plain": [
       "HBox(children=(HTML(value=''), FloatProgress(value=0.0, max=3776.0), HTML(value='')))"
      ]
     },
     "metadata": {},
     "output_type": "display_data"
    },
    {
     "name": "stdout",
     "output_type": "stream",
     "text": [
      "\n",
      "Training completed for epoch: 7\n",
      "Time for train: 97.8590190410614\n",
      "Accuracy: 0.21007680084745764\n",
      "Validation started for epoch:7\n"
     ]
    },
    {
     "data": {
      "application/vnd.jupyter.widget-view+json": {
       "model_id": "b8136ca6066a4008acdfc67f0e6f629e",
       "version_major": 2,
       "version_minor": 0
      },
      "text/plain": [
       "HBox(children=(HTML(value=''), FloatProgress(value=0.0, max=944.0), HTML(value='')))"
      ]
     },
     "metadata": {},
     "output_type": "display_data"
    },
    {
     "name": "stdout",
     "output_type": "stream",
     "text": [
      "\n",
      "Validation completed for epoch: 7\n",
      "Time for validation: 18.662205934524536\n",
      "Accuracy: 0.1937897245762712\n",
      "\n",
      "\n",
      "-------------\n",
      "EPOCH: 8\n",
      "Training started for epoch:8\n"
     ]
    },
    {
     "data": {
      "application/vnd.jupyter.widget-view+json": {
       "model_id": "8c4accd26622471da7962c1d58073ef5",
       "version_major": 2,
       "version_minor": 0
      },
      "text/plain": [
       "HBox(children=(HTML(value=''), FloatProgress(value=0.0, max=3776.0), HTML(value='')))"
      ]
     },
     "metadata": {},
     "output_type": "display_data"
    },
    {
     "name": "stdout",
     "output_type": "stream",
     "text": [
      "\n",
      "Training completed for epoch: 8\n",
      "Time for train: 95.65928411483765\n",
      "Accuracy: 0.2131885593220339\n",
      "Validation started for epoch:8\n"
     ]
    },
    {
     "data": {
      "application/vnd.jupyter.widget-view+json": {
       "model_id": "2493cdb753ee4572addd5a8fd02a8fc2",
       "version_major": 2,
       "version_minor": 0
      },
      "text/plain": [
       "HBox(children=(HTML(value=''), FloatProgress(value=0.0, max=944.0), HTML(value='')))"
      ]
     },
     "metadata": {},
     "output_type": "display_data"
    },
    {
     "name": "stdout",
     "output_type": "stream",
     "text": [
      "\n",
      "Validation completed for epoch: 8\n",
      "Time for validation: 10.066689014434814\n",
      "Accuracy: 0.1951800847457627\n",
      "\n",
      "\n",
      "-------------\n",
      "EPOCH: 9\n",
      "Training started for epoch:9\n"
     ]
    },
    {
     "data": {
      "application/vnd.jupyter.widget-view+json": {
       "model_id": "7b57799c55084c9187a39144a35ff54d",
       "version_major": 2,
       "version_minor": 0
      },
      "text/plain": [
       "HBox(children=(HTML(value=''), FloatProgress(value=0.0, max=3776.0), HTML(value='')))"
      ]
     },
     "metadata": {},
     "output_type": "display_data"
    },
    {
     "name": "stdout",
     "output_type": "stream",
     "text": [
      "\n",
      "Training completed for epoch: 9\n",
      "Time for train: 109.23164486885071\n",
      "Accuracy: 0.21800516419491525\n",
      "Validation started for epoch:9\n"
     ]
    },
    {
     "data": {
      "application/vnd.jupyter.widget-view+json": {
       "model_id": "7fd73f4a7c4441cb8323f4e1414759e5",
       "version_major": 2,
       "version_minor": 0
      },
      "text/plain": [
       "HBox(children=(HTML(value=''), FloatProgress(value=0.0, max=944.0), HTML(value='')))"
      ]
     },
     "metadata": {},
     "output_type": "display_data"
    },
    {
     "name": "stdout",
     "output_type": "stream",
     "text": [
      "\n",
      "Validation completed for epoch: 9\n",
      "Time for validation: 13.88037109375\n",
      "Accuracy: 0.1939883474576271\n",
      "\n",
      "\n",
      "-------------\n",
      "EPOCH: 10\n",
      "Training started for epoch:10\n"
     ]
    },
    {
     "data": {
      "application/vnd.jupyter.widget-view+json": {
       "model_id": "753ba62085a04c79aa11e7f4274e8ab6",
       "version_major": 2,
       "version_minor": 0
      },
      "text/plain": [
       "HBox(children=(HTML(value=''), FloatProgress(value=0.0, max=3776.0), HTML(value='')))"
      ]
     },
     "metadata": {},
     "output_type": "display_data"
    },
    {
     "name": "stdout",
     "output_type": "stream",
     "text": [
      "\n",
      "Training completed for epoch: 10\n",
      "Time for train: 88.83085298538208\n",
      "Accuracy: 0.22028932733050846\n",
      "Validation started for epoch:10\n"
     ]
    },
    {
     "data": {
      "application/vnd.jupyter.widget-view+json": {
       "model_id": "7e5a262450164286a7451854abc98a18",
       "version_major": 2,
       "version_minor": 0
      },
      "text/plain": [
       "HBox(children=(HTML(value=''), FloatProgress(value=0.0, max=944.0), HTML(value='')))"
      ]
     },
     "metadata": {},
     "output_type": "display_data"
    },
    {
     "name": "stdout",
     "output_type": "stream",
     "text": [
      "\n",
      "Validation completed for epoch: 10\n",
      "Time for validation: 9.643594026565552\n",
      "Accuracy: 0.1918697033898305\n",
      "\n",
      "\n",
      "-------------\n",
      "EPOCH: 11\n",
      "Training started for epoch:11\n"
     ]
    },
    {
     "data": {
      "application/vnd.jupyter.widget-view+json": {
       "model_id": "e5e84a6dd3aa411e940374f809d962ed",
       "version_major": 2,
       "version_minor": 0
      },
      "text/plain": [
       "HBox(children=(HTML(value=''), FloatProgress(value=0.0, max=3776.0), HTML(value='')))"
      ]
     },
     "metadata": {},
     "output_type": "display_data"
    },
    {
     "name": "stdout",
     "output_type": "stream",
     "text": [
      "\n",
      "Training completed for epoch: 11\n",
      "Time for train: 88.09929418563843\n",
      "Accuracy: 0.22343418961864406\n",
      "Validation started for epoch:11\n"
     ]
    },
    {
     "data": {
      "application/vnd.jupyter.widget-view+json": {
       "model_id": "ac439121b1ec48ddadc77947dbfda5a9",
       "version_major": 2,
       "version_minor": 0
      },
      "text/plain": [
       "HBox(children=(HTML(value=''), FloatProgress(value=0.0, max=944.0), HTML(value='')))"
      ]
     },
     "metadata": {},
     "output_type": "display_data"
    },
    {
     "name": "stdout",
     "output_type": "stream",
     "text": [
      "\n",
      "Validation completed for epoch: 11\n",
      "Time for validation: 9.595454216003418\n",
      "Accuracy: 0.1960407838983051\n",
      "\n",
      "\n",
      "-------------\n",
      "EPOCH: 12\n",
      "Training started for epoch:12\n"
     ]
    },
    {
     "data": {
      "application/vnd.jupyter.widget-view+json": {
       "model_id": "e046ae3f7ca4448bbd3932a53653bda6",
       "version_major": 2,
       "version_minor": 0
      },
      "text/plain": [
       "HBox(children=(HTML(value=''), FloatProgress(value=0.0, max=3776.0), HTML(value='')))"
      ]
     },
     "metadata": {},
     "output_type": "display_data"
    },
    {
     "name": "stdout",
     "output_type": "stream",
     "text": [
      "\n",
      "Training completed for epoch: 12\n",
      "Time for train: 88.22367811203003\n",
      "Accuracy: 0.2278038930084746\n",
      "Validation started for epoch:12\n"
     ]
    },
    {
     "data": {
      "application/vnd.jupyter.widget-view+json": {
       "model_id": "e59086c1259c41a3890ac79dc4bcd244",
       "version_major": 2,
       "version_minor": 0
      },
      "text/plain": [
       "HBox(children=(HTML(value=''), FloatProgress(value=0.0, max=944.0), HTML(value='')))"
      ]
     },
     "metadata": {},
     "output_type": "display_data"
    },
    {
     "name": "stdout",
     "output_type": "stream",
     "text": [
      "\n",
      "Validation completed for epoch: 12\n",
      "Time for validation: 9.877168893814087\n",
      "Accuracy: 0.192333156779661\n",
      "\n",
      "\n",
      "-------------\n",
      "EPOCH: 13\n",
      "Training started for epoch:13\n"
     ]
    },
    {
     "data": {
      "application/vnd.jupyter.widget-view+json": {
       "model_id": "8bb4b70a0f1d4244b2ae08447f88efc7",
       "version_major": 2,
       "version_minor": 0
      },
      "text/plain": [
       "HBox(children=(HTML(value=''), FloatProgress(value=0.0, max=3776.0), HTML(value='')))"
      ]
     },
     "metadata": {},
     "output_type": "display_data"
    },
    {
     "name": "stdout",
     "output_type": "stream",
     "text": [
      "\n",
      "Training completed for epoch: 13\n",
      "Time for train: 90.72325491905212\n",
      "Accuracy: 0.2299556408898305\n",
      "Validation started for epoch:13\n"
     ]
    },
    {
     "data": {
      "application/vnd.jupyter.widget-view+json": {
       "model_id": "94a13fb347f145c98af2ac89aa9ecf8f",
       "version_major": 2,
       "version_minor": 0
      },
      "text/plain": [
       "HBox(children=(HTML(value=''), FloatProgress(value=0.0, max=944.0), HTML(value='')))"
      ]
     },
     "metadata": {},
     "output_type": "display_data"
    },
    {
     "name": "stdout",
     "output_type": "stream",
     "text": [
      "\n",
      "Validation completed for epoch: 13\n",
      "Time for validation: 10.000356912612915\n",
      "Accuracy: 0.19690148305084745\n",
      "\n",
      "\n",
      "-------------\n",
      "EPOCH: 14\n",
      "Training started for epoch:14\n"
     ]
    },
    {
     "data": {
      "application/vnd.jupyter.widget-view+json": {
       "model_id": "563d2ba3118e4e4c8e1fa4f5aa92aca1",
       "version_major": 2,
       "version_minor": 0
      },
      "text/plain": [
       "HBox(children=(HTML(value=''), FloatProgress(value=0.0, max=3776.0), HTML(value='')))"
      ]
     },
     "metadata": {},
     "output_type": "display_data"
    },
    {
     "name": "stdout",
     "output_type": "stream",
     "text": [
      "\n",
      "Training completed for epoch: 14\n",
      "Time for train: 111.60158514976501\n",
      "Accuracy: 0.23397775423728814\n",
      "Validation started for epoch:14\n"
     ]
    },
    {
     "data": {
      "application/vnd.jupyter.widget-view+json": {
       "model_id": "5de7afce510d43899677cd9d882c9c6e",
       "version_major": 2,
       "version_minor": 0
      },
      "text/plain": [
       "HBox(children=(HTML(value=''), FloatProgress(value=0.0, max=944.0), HTML(value='')))"
      ]
     },
     "metadata": {},
     "output_type": "display_data"
    },
    {
     "name": "stdout",
     "output_type": "stream",
     "text": [
      "\n",
      "Validation completed for epoch: 14\n",
      "Time for validation: 11.04136610031128\n",
      "Accuracy: 0.1972987288135593\n",
      "\n",
      "\n",
      "-------------\n",
      "EPOCH: 15\n",
      "Training started for epoch:15\n"
     ]
    },
    {
     "data": {
      "application/vnd.jupyter.widget-view+json": {
       "model_id": "56c65b33c36743edaa7e224b7ac0423f",
       "version_major": 2,
       "version_minor": 0
      },
      "text/plain": [
       "HBox(children=(HTML(value=''), FloatProgress(value=0.0, max=3776.0), HTML(value='')))"
      ]
     },
     "metadata": {},
     "output_type": "display_data"
    },
    {
     "name": "stdout",
     "output_type": "stream",
     "text": [
      "\n",
      "Training completed for epoch: 15\n",
      "Time for train: 94.6759729385376\n",
      "Accuracy: 0.23889367055084745\n",
      "Validation started for epoch:15\n"
     ]
    },
    {
     "data": {
      "application/vnd.jupyter.widget-view+json": {
       "model_id": "768977db60c24f89988a02124a3fd97e",
       "version_major": 2,
       "version_minor": 0
      },
      "text/plain": [
       "HBox(children=(HTML(value=''), FloatProgress(value=0.0, max=944.0), HTML(value='')))"
      ]
     },
     "metadata": {},
     "output_type": "display_data"
    },
    {
     "name": "stdout",
     "output_type": "stream",
     "text": [
      "\n",
      "Validation completed for epoch: 15\n",
      "Time for validation: 10.288959980010986\n",
      "Accuracy: 0.196239406779661\n",
      "\n",
      "\n",
      "-------------\n",
      "EPOCH: 16\n",
      "Training started for epoch:16\n"
     ]
    },
    {
     "data": {
      "application/vnd.jupyter.widget-view+json": {
       "model_id": "3902879be24f4290a464f9ef5ba1d857",
       "version_major": 2,
       "version_minor": 0
      },
      "text/plain": [
       "HBox(children=(HTML(value=''), FloatProgress(value=0.0, max=3776.0), HTML(value='')))"
      ]
     },
     "metadata": {},
     "output_type": "display_data"
    },
    {
     "name": "stdout",
     "output_type": "stream",
     "text": [
      "\n",
      "Training completed for epoch: 16\n",
      "Time for train: 90.84682106971741\n",
      "Accuracy: 0.2421543961864407\n",
      "Validation started for epoch:16\n"
     ]
    },
    {
     "data": {
      "application/vnd.jupyter.widget-view+json": {
       "model_id": "d0bbf5c071a143daae214c2c65a28b33",
       "version_major": 2,
       "version_minor": 0
      },
      "text/plain": [
       "HBox(children=(HTML(value=''), FloatProgress(value=0.0, max=944.0), HTML(value='')))"
      ]
     },
     "metadata": {},
     "output_type": "display_data"
    },
    {
     "name": "stdout",
     "output_type": "stream",
     "text": [
      "\n",
      "Validation completed for epoch: 16\n",
      "Time for validation: 10.57941222190857\n",
      "Accuracy: 0.1994835805084746\n",
      "\n",
      "\n",
      "-------------\n",
      "EPOCH: 17\n",
      "Training started for epoch:17\n"
     ]
    },
    {
     "data": {
      "application/vnd.jupyter.widget-view+json": {
       "model_id": "6526132129814f719672960d1acc647b",
       "version_major": 2,
       "version_minor": 0
      },
      "text/plain": [
       "HBox(children=(HTML(value=''), FloatProgress(value=0.0, max=3776.0), HTML(value='')))"
      ]
     },
     "metadata": {},
     "output_type": "display_data"
    },
    {
     "name": "stdout",
     "output_type": "stream",
     "text": [
      "\n",
      "Training completed for epoch: 17\n",
      "Time for train: 101.02442693710327\n",
      "Accuracy: 0.24649099576271186\n",
      "Validation started for epoch:17\n"
     ]
    },
    {
     "data": {
      "application/vnd.jupyter.widget-view+json": {
       "model_id": "5417831dfb4847c291b574b9dfc1101e",
       "version_major": 2,
       "version_minor": 0
      },
      "text/plain": [
       "HBox(children=(HTML(value=''), FloatProgress(value=0.0, max=944.0), HTML(value='')))"
      ]
     },
     "metadata": {},
     "output_type": "display_data"
    },
    {
     "name": "stdout",
     "output_type": "stream",
     "text": [
      "\n",
      "Validation completed for epoch: 17\n",
      "Time for validation: 9.770579099655151\n",
      "Accuracy: 0.1933262711864407\n",
      "\n",
      "\n",
      "-------------\n",
      "EPOCH: 18\n",
      "Training started for epoch:18\n"
     ]
    },
    {
     "data": {
      "application/vnd.jupyter.widget-view+json": {
       "model_id": "7afbe606e9a3442488c2c420b24f02f8",
       "version_major": 2,
       "version_minor": 0
      },
      "text/plain": [
       "HBox(children=(HTML(value=''), FloatProgress(value=0.0, max=3776.0), HTML(value='')))"
      ]
     },
     "metadata": {},
     "output_type": "display_data"
    },
    {
     "name": "stdout",
     "output_type": "stream",
     "text": [
      "\n",
      "Training completed for epoch: 18\n",
      "Time for train: 89.76984882354736\n",
      "Accuracy: 0.24822894597457626\n",
      "Validation started for epoch:18\n"
     ]
    },
    {
     "data": {
      "application/vnd.jupyter.widget-view+json": {
       "model_id": "a9be0eb56ded43fcb47c3758e1559af7",
       "version_major": 2,
       "version_minor": 0
      },
      "text/plain": [
       "HBox(children=(HTML(value=''), FloatProgress(value=0.0, max=944.0), HTML(value='')))"
      ]
     },
     "metadata": {},
     "output_type": "display_data"
    },
    {
     "name": "stdout",
     "output_type": "stream",
     "text": [
      "\n",
      "Validation completed for epoch: 18\n",
      "Time for validation: 9.632574796676636\n",
      "Accuracy: 0.19551112288135594\n",
      "\n",
      "\n",
      "-------------\n",
      "EPOCH: 19\n",
      "Training started for epoch:19\n"
     ]
    },
    {
     "data": {
      "application/vnd.jupyter.widget-view+json": {
       "model_id": "9154b5f740b745a7b936d15bd1cce0b8",
       "version_major": 2,
       "version_minor": 0
      },
      "text/plain": [
       "HBox(children=(HTML(value=''), FloatProgress(value=0.0, max=3776.0), HTML(value='')))"
      ]
     },
     "metadata": {},
     "output_type": "display_data"
    },
    {
     "name": "stdout",
     "output_type": "stream",
     "text": [
      "\n",
      "Training completed for epoch: 19\n",
      "Time for train: 92.02487182617188\n",
      "Accuracy: 0.252052436440678\n",
      "Validation started for epoch:19\n"
     ]
    },
    {
     "data": {
      "application/vnd.jupyter.widget-view+json": {
       "model_id": "05e15d63ae1a4341ab9d35ee3ff54065",
       "version_major": 2,
       "version_minor": 0
      },
      "text/plain": [
       "HBox(children=(HTML(value=''), FloatProgress(value=0.0, max=944.0), HTML(value='')))"
      ]
     },
     "metadata": {},
     "output_type": "display_data"
    },
    {
     "name": "stdout",
     "output_type": "stream",
     "text": [
      "\n",
      "Validation completed for epoch: 19\n",
      "Time for validation: 9.689014911651611\n",
      "Accuracy: 0.194385593220339\n",
      "\n",
      "\n",
      "-------------\n",
      "EPOCH: 20\n",
      "Training started for epoch:20\n"
     ]
    },
    {
     "data": {
      "application/vnd.jupyter.widget-view+json": {
       "model_id": "59e5dff38cfa497ea96323f3e43244d1",
       "version_major": 2,
       "version_minor": 0
      },
      "text/plain": [
       "HBox(children=(HTML(value=''), FloatProgress(value=0.0, max=3776.0), HTML(value='')))"
      ]
     },
     "metadata": {},
     "output_type": "display_data"
    },
    {
     "name": "stdout",
     "output_type": "stream",
     "text": [
      "\n",
      "Training completed for epoch: 20\n",
      "Time for train: 100.64957284927368\n",
      "Accuracy: 0.2552635063559322\n",
      "Validation started for epoch:20\n"
     ]
    },
    {
     "data": {
      "application/vnd.jupyter.widget-view+json": {
       "model_id": "bd0df0ceea214b84bb2c68b583a27b6b",
       "version_major": 2,
       "version_minor": 0
      },
      "text/plain": [
       "HBox(children=(HTML(value=''), FloatProgress(value=0.0, max=944.0), HTML(value='')))"
      ]
     },
     "metadata": {},
     "output_type": "display_data"
    },
    {
     "name": "stdout",
     "output_type": "stream",
     "text": [
      "\n",
      "Validation completed for epoch: 20\n",
      "Time for validation: 11.442238092422485\n",
      "Accuracy: 0.19676906779661016\n",
      "\n",
      "\n",
      "-------------\n",
      "EPOCH: 21\n",
      "Training started for epoch:21\n"
     ]
    },
    {
     "data": {
      "application/vnd.jupyter.widget-view+json": {
       "model_id": "082d53406c7e4f54baa550e63a197a3c",
       "version_major": 2,
       "version_minor": 0
      },
      "text/plain": [
       "HBox(children=(HTML(value=''), FloatProgress(value=0.0, max=3776.0), HTML(value='')))"
      ]
     },
     "metadata": {},
     "output_type": "display_data"
    },
    {
     "name": "stdout",
     "output_type": "stream",
     "text": [
      "\n",
      "Training completed for epoch: 21\n",
      "Time for train: 105.50145292282104\n",
      "Accuracy: 0.2573821504237288\n",
      "Validation started for epoch:21\n"
     ]
    },
    {
     "data": {
      "application/vnd.jupyter.widget-view+json": {
       "model_id": "31b7f6e2ace84890971dd333f4bd0355",
       "version_major": 2,
       "version_minor": 0
      },
      "text/plain": [
       "HBox(children=(HTML(value=''), FloatProgress(value=0.0, max=944.0), HTML(value='')))"
      ]
     },
     "metadata": {},
     "output_type": "display_data"
    },
    {
     "name": "stdout",
     "output_type": "stream",
     "text": [
      "\n",
      "Validation completed for epoch: 21\n",
      "Time for validation: 11.28217887878418\n",
      "Accuracy: 0.1945842161016949\n",
      "\n",
      "\n",
      "-------------\n",
      "EPOCH: 22\n",
      "Training started for epoch:22\n"
     ]
    },
    {
     "data": {
      "application/vnd.jupyter.widget-view+json": {
       "model_id": "72b3dea5bbef4071bf7ab4033a028f9a",
       "version_major": 2,
       "version_minor": 0
      },
      "text/plain": [
       "HBox(children=(HTML(value=''), FloatProgress(value=0.0, max=3776.0), HTML(value='')))"
      ]
     },
     "metadata": {},
     "output_type": "display_data"
    },
    {
     "name": "stdout",
     "output_type": "stream",
     "text": [
      "\n",
      "Training completed for epoch: 22\n",
      "Time for train: 91.81104278564453\n",
      "Accuracy: 0.2603283898305085\n",
      "Validation started for epoch:22\n"
     ]
    },
    {
     "data": {
      "application/vnd.jupyter.widget-view+json": {
       "model_id": "e0e00cbc4e004ce39972e41c8f2b104b",
       "version_major": 2,
       "version_minor": 0
      },
      "text/plain": [
       "HBox(children=(HTML(value=''), FloatProgress(value=0.0, max=944.0), HTML(value='')))"
      ]
     },
     "metadata": {},
     "output_type": "display_data"
    },
    {
     "name": "stdout",
     "output_type": "stream",
     "text": [
      "\n",
      "Validation completed for epoch: 22\n",
      "Time for validation: 12.954815149307251\n",
      "Accuracy: 0.19643802966101695\n",
      "\n",
      "\n",
      "-------------\n",
      "EPOCH: 23\n",
      "Training started for epoch:23\n"
     ]
    },
    {
     "data": {
      "application/vnd.jupyter.widget-view+json": {
       "model_id": "1837d2dd18c640ffbc7db2ef32be86a9",
       "version_major": 2,
       "version_minor": 0
      },
      "text/plain": [
       "HBox(children=(HTML(value=''), FloatProgress(value=0.0, max=3776.0), HTML(value='')))"
      ]
     },
     "metadata": {},
     "output_type": "display_data"
    },
    {
     "name": "stdout",
     "output_type": "stream",
     "text": [
      "\n",
      "Training completed for epoch: 23\n",
      "Time for train: 148.53427028656006\n",
      "Accuracy: 0.2639863612288136\n",
      "Validation started for epoch:23\n"
     ]
    },
    {
     "data": {
      "application/vnd.jupyter.widget-view+json": {
       "model_id": "4568155e32704ecba6ba92fca5bc1340",
       "version_major": 2,
       "version_minor": 0
      },
      "text/plain": [
       "HBox(children=(HTML(value=''), FloatProgress(value=0.0, max=944.0), HTML(value='')))"
      ]
     },
     "metadata": {},
     "output_type": "display_data"
    },
    {
     "name": "stdout",
     "output_type": "stream",
     "text": [
      "\n",
      "Validation completed for epoch: 23\n",
      "Time for validation: 42.966962814331055\n",
      "Accuracy: 0.1990863347457627\n",
      "\n",
      "\n",
      "-------------\n",
      "EPOCH: 24\n",
      "Training started for epoch:24\n"
     ]
    },
    {
     "data": {
      "application/vnd.jupyter.widget-view+json": {
       "model_id": "98192858af9a488d923c33691694654f",
       "version_major": 2,
       "version_minor": 0
      },
      "text/plain": [
       "HBox(children=(HTML(value=''), FloatProgress(value=0.0, max=3776.0), HTML(value='')))"
      ]
     },
     "metadata": {},
     "output_type": "display_data"
    },
    {
     "name": "stdout",
     "output_type": "stream",
     "text": [
      "\n",
      "Training completed for epoch: 24\n",
      "Time for train: 215.50362968444824\n",
      "Accuracy: 0.2671643273305085\n",
      "Validation started for epoch:24\n"
     ]
    },
    {
     "data": {
      "application/vnd.jupyter.widget-view+json": {
       "model_id": "84b7bdd744394d448005b927c1ff4a5a",
       "version_major": 2,
       "version_minor": 0
      },
      "text/plain": [
       "HBox(children=(HTML(value=''), FloatProgress(value=0.0, max=944.0), HTML(value='')))"
      ]
     },
     "metadata": {},
     "output_type": "display_data"
    },
    {
     "name": "stdout",
     "output_type": "stream",
     "text": [
      "\n",
      "Validation completed for epoch: 24\n",
      "Time for validation: 10.087035894393921\n",
      "Accuracy: 0.19061175847457626\n",
      "\n",
      "\n",
      "-------------\n",
      "EPOCH: 25\n",
      "Training started for epoch:25\n"
     ]
    },
    {
     "data": {
      "application/vnd.jupyter.widget-view+json": {
       "model_id": "2e3affa889a9449f912837616af4cffd",
       "version_major": 2,
       "version_minor": 0
      },
      "text/plain": [
       "HBox(children=(HTML(value=''), FloatProgress(value=0.0, max=3776.0), HTML(value='')))"
      ]
     },
     "metadata": {},
     "output_type": "display_data"
    },
    {
     "name": "stdout",
     "output_type": "stream",
     "text": [
      "\n",
      "Training completed for epoch: 25\n",
      "Time for train: 89.40113997459412\n",
      "Accuracy: 0.2713354078389831\n",
      "Validation started for epoch:25\n"
     ]
    },
    {
     "data": {
      "application/vnd.jupyter.widget-view+json": {
       "model_id": "bdd4daa2ff134b58a18f2418d95c5f32",
       "version_major": 2,
       "version_minor": 0
      },
      "text/plain": [
       "HBox(children=(HTML(value=''), FloatProgress(value=0.0, max=944.0), HTML(value='')))"
      ]
     },
     "metadata": {},
     "output_type": "display_data"
    },
    {
     "name": "stdout",
     "output_type": "stream",
     "text": [
      "\n",
      "Validation completed for epoch: 25\n",
      "Time for validation: 9.681769132614136\n",
      "Accuracy: 0.19226694915254236\n",
      "\n",
      "\n",
      "-------------\n",
      "EPOCH: 26\n",
      "Training started for epoch:26\n"
     ]
    },
    {
     "data": {
      "application/vnd.jupyter.widget-view+json": {
       "model_id": "a02435afa70243d795fc5c9cca587c8b",
       "version_major": 2,
       "version_minor": 0
      },
      "text/plain": [
       "HBox(children=(HTML(value=''), FloatProgress(value=0.0, max=3776.0), HTML(value='')))"
      ]
     },
     "metadata": {},
     "output_type": "display_data"
    },
    {
     "name": "stdout",
     "output_type": "stream",
     "text": [
      "\n",
      "Training completed for epoch: 26\n",
      "Time for train: 93.93307995796204\n",
      "Accuracy: 0.2753244173728814\n",
      "Validation started for epoch:26\n"
     ]
    },
    {
     "data": {
      "application/vnd.jupyter.widget-view+json": {
       "model_id": "c06f46ee585c4b889b74684813978a4c",
       "version_major": 2,
       "version_minor": 0
      },
      "text/plain": [
       "HBox(children=(HTML(value=''), FloatProgress(value=0.0, max=944.0), HTML(value='')))"
      ]
     },
     "metadata": {},
     "output_type": "display_data"
    },
    {
     "name": "stdout",
     "output_type": "stream",
     "text": [
      "\n",
      "Validation completed for epoch: 26\n",
      "Time for validation: 10.766692161560059\n",
      "Accuracy: 0.18802966101694915\n",
      "\n",
      "\n",
      "-------------\n",
      "EPOCH: 27\n",
      "Training started for epoch:27\n"
     ]
    },
    {
     "data": {
      "application/vnd.jupyter.widget-view+json": {
       "model_id": "051c83923e9144e4b8b67194bc18b344",
       "version_major": 2,
       "version_minor": 0
      },
      "text/plain": [
       "HBox(children=(HTML(value=''), FloatProgress(value=0.0, max=3776.0), HTML(value='')))"
      ]
     },
     "metadata": {},
     "output_type": "display_data"
    },
    {
     "name": "stdout",
     "output_type": "stream",
     "text": [
      "\n",
      "Training completed for epoch: 27\n",
      "Time for train: 89.68461608886719\n",
      "Accuracy: 0.2788334216101695\n",
      "Validation started for epoch:27\n"
     ]
    },
    {
     "data": {
      "application/vnd.jupyter.widget-view+json": {
       "model_id": "52d026eba9784a5a892f7fc576f72e41",
       "version_major": 2,
       "version_minor": 0
      },
      "text/plain": [
       "HBox(children=(HTML(value=''), FloatProgress(value=0.0, max=944.0), HTML(value='')))"
      ]
     },
     "metadata": {},
     "output_type": "display_data"
    },
    {
     "name": "stdout",
     "output_type": "stream",
     "text": [
      "\n",
      "Validation completed for epoch: 27\n",
      "Time for validation: 12.116496801376343\n",
      "Accuracy: 0.18981726694915255\n",
      "\n",
      "\n",
      "-------------\n",
      "EPOCH: 28\n",
      "Training started for epoch:28\n"
     ]
    },
    {
     "data": {
      "application/vnd.jupyter.widget-view+json": {
       "model_id": "7b2462ed16f64a43b6ae02e6cf1db5da",
       "version_major": 2,
       "version_minor": 0
      },
      "text/plain": [
       "HBox(children=(HTML(value=''), FloatProgress(value=0.0, max=3776.0), HTML(value='')))"
      ]
     },
     "metadata": {},
     "output_type": "display_data"
    },
    {
     "name": "stdout",
     "output_type": "stream",
     "text": [
      "\n",
      "Training completed for epoch: 28\n",
      "Time for train: 91.66417193412781\n",
      "Accuracy: 0.2806044756355932\n",
      "Validation started for epoch:28\n"
     ]
    },
    {
     "data": {
      "application/vnd.jupyter.widget-view+json": {
       "model_id": "30bec80e7ed94254a616fcf3961be193",
       "version_major": 2,
       "version_minor": 0
      },
      "text/plain": [
       "HBox(children=(HTML(value=''), FloatProgress(value=0.0, max=944.0), HTML(value='')))"
      ]
     },
     "metadata": {},
     "output_type": "display_data"
    },
    {
     "name": "stdout",
     "output_type": "stream",
     "text": [
      "\n",
      "Validation completed for epoch: 28\n",
      "Time for validation: 9.925866842269897\n",
      "Accuracy: 0.1880958686440678\n",
      "\n",
      "\n",
      "-------------\n",
      "EPOCH: 29\n",
      "Training started for epoch:29\n"
     ]
    },
    {
     "data": {
      "application/vnd.jupyter.widget-view+json": {
       "model_id": "62e6007ecd2d454985cc9b94247160ca",
       "version_major": 2,
       "version_minor": 0
      },
      "text/plain": [
       "HBox(children=(HTML(value=''), FloatProgress(value=0.0, max=3776.0), HTML(value='')))"
      ]
     },
     "metadata": {},
     "output_type": "display_data"
    },
    {
     "name": "stdout",
     "output_type": "stream",
     "text": [
      "\n",
      "Training completed for epoch: 29\n",
      "Time for train: 115.79609179496765\n",
      "Accuracy: 0.2841465836864407\n",
      "Validation started for epoch:29\n"
     ]
    },
    {
     "data": {
      "application/vnd.jupyter.widget-view+json": {
       "model_id": "341780e74af34d1281533b2bcaef8a96",
       "version_major": 2,
       "version_minor": 0
      },
      "text/plain": [
       "HBox(children=(HTML(value=''), FloatProgress(value=0.0, max=944.0), HTML(value='')))"
      ]
     },
     "metadata": {},
     "output_type": "display_data"
    },
    {
     "name": "stdout",
     "output_type": "stream",
     "text": [
      "\n",
      "Validation completed for epoch: 29\n",
      "Time for validation: 9.738513231277466\n",
      "Accuracy: 0.18650688559322035\n",
      "\n",
      "\n",
      "-------------\n",
      "EPOCH: 30\n",
      "Training started for epoch:30\n"
     ]
    },
    {
     "data": {
      "application/vnd.jupyter.widget-view+json": {
       "model_id": "bcf22f998c15435a8a5038cacb299afb",
       "version_major": 2,
       "version_minor": 0
      },
      "text/plain": [
       "HBox(children=(HTML(value=''), FloatProgress(value=0.0, max=3776.0), HTML(value='')))"
      ]
     },
     "metadata": {},
     "output_type": "display_data"
    },
    {
     "name": "stdout",
     "output_type": "stream",
     "text": [
      "\n",
      "Training completed for epoch: 30\n",
      "Time for train: 92.70784187316895\n",
      "Accuracy: 0.2883176641949153\n",
      "Validation started for epoch:30\n"
     ]
    },
    {
     "data": {
      "application/vnd.jupyter.widget-view+json": {
       "model_id": "bfcf4d9fec0644eeb36ed0d9677c1420",
       "version_major": 2,
       "version_minor": 0
      },
      "text/plain": [
       "HBox(children=(HTML(value=''), FloatProgress(value=0.0, max=944.0), HTML(value='')))"
      ]
     },
     "metadata": {},
     "output_type": "display_data"
    },
    {
     "name": "stdout",
     "output_type": "stream",
     "text": [
      "\n",
      "Validation completed for epoch: 30\n",
      "Time for validation: 9.941138982772827\n",
      "Accuracy: 0.1873675847457627\n"
     ]
    },
    {
     "data": {
      "image/png": "[encoded data removed]",
      "text/plain": [
       "<Figure size 432x288 with 1 Axes>"
      ]
     },
     "metadata": {
      "needs_background": "light"
     },
     "output_type": "display_data"
    },
    {
     "data": {
      "image/png": "[encoded data removed]",
      "text/plain": [
       "<Figure size 432x288 with 1 Axes>"
      ]
     },
     "metadata": {
      "needs_background": "light"
     },
     "output_type": "display_data"
    }
   ],
   "source": [
    "# running epochs for training and validation\n",
    "HIDDEN_DIM = 128\n",
    "EPOCHS = 30\n",
    "minibatch_size = 16\n",
    "\n",
    "model = RNN(WORDEMBSIZE, HIDDEN_DIM, 15)\n",
    "optimizer = optim.SGD(model.parameters(),lr=0.001, momentum=0.9)\n",
    "train_loss = []\n",
    "train_acc = []\n",
    "test_loss = []\n",
    "test_acc = []\n",
    "for epoch in range(EPOCHS):\n",
    "    print(\"\\n\\n-------------\")\n",
    "    print(\"EPOCH: {}\".format(epoch + 1))\n",
    "    running_loss = 0.0\n",
    "    model.train()\n",
    "    optimizer.zero_grad()\n",
    "    print(\"Training started for epoch: {}\".format(epoch + 1))\n",
    "    X_train, y_train = shuffle(X_train, y_train)\n",
    "    start_time = time.time()\n",
    "    correct = total = 0\n",
    "    N = len(y_train)\n",
    "    for minibatch_idx in tqdm(range(N // minibatch_size)):\n",
    "        optimizer.zero_grad()\n",
    "        loss = None\n",
    "        for idx in range(minibatch_size):\n",
    "            text = X_train[minibatch_idx * minibatch_size + idx]\n",
    "            text = torch.unsqueeze(text, 1)\n",
    "            labelIdx = y_train[minibatch_idx * minibatch_size + idx]\n",
    "            log_probs = model(text)\n",
    "            text_loss = model.compute_loss(log_probs.view(1,-1), torch.tensor([labelIdx]))\n",
    "            running_loss += text_loss\n",
    "            if loss is None:\n",
    "                loss = text_loss\n",
    "            else:\n",
    "                loss += text_loss\n",
    "            pred_label = torch.argmax(log_probs)\n",
    "            correct += int(pred_label == labelIdx)\n",
    "            total += 1\n",
    "        loss = loss / minibatch_size\n",
    "        loss.backward()\n",
    "        optimizer.step()\n",
    "    train_loss.append(running_loss / N)\n",
    "    train_acc.append(correct / total)\n",
    "    print(\"Training completed for epoch: {}\".format(epoch + 1))\n",
    "    print(\"Time for train: {}\".format(time.time() - start_time))\n",
    "    print(\"Accuracy: {}\".format(correct / total))\n",
    "    \n",
    "    #validation\n",
    "    running_loss = 0.0\n",
    "    model.eval()\n",
    "    optimizer.zero_grad()\n",
    "    print(\"Validation started for epoch: {}\".format(epoch + 1))\n",
    "    X_test, y_test = shuffle(X_test, y_test)\n",
    "    start_time = time.time()\n",
    "    correct = total = 0\n",
    "    N = len(y_test)\n",
    "    for minibatch_idx in tqdm(range(N // minibatch_size)):\n",
    "        optimizer.zero_grad()\n",
    "        for idx in range(minibatch_size):\n",
    "            text = X_test[minibatch_idx * minibatch_size + idx]\n",
    "            text = torch.unsqueeze(text, 1)\n",
    "            labelIdx = y_test[minibatch_idx * minibatch_size + idx]\n",
    "            log_probs = model(text)\n",
    "            text_loss = model.compute_loss(log_probs.view(1,-1), torch.tensor([labelIdx]))\n",
    "            running_loss += text_loss\n",
    "            pred_label = torch.argmax(log_probs)\n",
    "            correct += int(pred_label == labelIdx)\n",
    "            total += 1\n",
    "    test_loss.append(running_loss / N)\n",
    "    test_acc.append(correct / total)\n",
    "    print(\"Validation completed for epoch: {}\".format(epoch + 1))\n",
    "    print(\"Time for validation: {}\".format(time.time() - start_time))\n",
    "    print(\"Accuracy: {}\".format(correct / total))\n",
    "\n",
    "plt.plot(train_loss, label='train loss')\n",
    "plt.plot(test_loss, label='test loss')\n",
    "plt.legend()\n",
    "plt.show()\n",
    "\n",
    "plt.plot(train_acc, label='train acc')\n",
    "plt.plot(test_acc, label='test acc')\n",
    "plt.legend()\n",
    "plt.show()"
   ]
  }
 ],
 "metadata": {
  "kernelspec": {
   "display_name": "Python 3",
   "language": "python",
   "name": "python3"
  },
  "language_info": {
   "codemirror_mode": {
    "name": "ipython",
    "version": 3
   },
   "file_extension": ".py",
   "mimetype": "text/x-python",
   "name": "python",
   "nbconvert_exporter": "python",
   "pygments_lexer": "ipython3",
   "version": "3.7.1"
  }
 },
 "nbformat": 4,
 "nbformat_minor": 4
}
