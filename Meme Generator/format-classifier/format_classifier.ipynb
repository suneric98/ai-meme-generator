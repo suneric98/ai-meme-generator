{
 "cells": [
  {
   "cell_type": "code",
   "execution_count": 5,
   "metadata": {},
   "outputs": [],
   "source": [
    "import json\n",
    "import time\n",
    "import pandas as pd"
   ]
  },
  {
   "cell_type": "code",
   "execution_count": 8,
   "metadata": {
    "scrolled": true
   },
   "outputs": [
    {
     "name": "stdout",
     "output_type": "stream",
     "text": [
      "/Users/ericsun/Documents/Cornell 2020 Fall/ai-meme-generator/Meme Generator/data/popular_100_memes.csv\n"
     ]
    },
    {
     "data": {
      "text/html": [
       "<div>\n",
       "<style scoped>\n",
       "    .dataframe tbody tr th:only-of-type {\n",
       "        vertical-align: middle;\n",
       "    }\n",
       "\n",
       "    .dataframe tbody tr th {\n",
       "        vertical-align: top;\n",
       "    }\n",
       "\n",
       "    .dataframe thead th {\n",
       "        text-align: right;\n",
       "    }\n",
       "</style>\n",
       "<table border=\"1\" class=\"dataframe\">\n",
       "  <thead>\n",
       "    <tr style=\"text-align: right;\">\n",
       "      <th></th>\n",
       "      <th>ID</th>\n",
       "      <th>Name</th>\n",
       "      <th>Alternate Names</th>\n",
       "    </tr>\n",
       "  </thead>\n",
       "  <tbody>\n",
       "    <tr>\n",
       "      <th>0</th>\n",
       "      <td>112126428</td>\n",
       "      <td>Distracted Boyfriend</td>\n",
       "      <td>distracted bf, guy checking out another girl, ...</td>\n",
       "    </tr>\n",
       "    <tr>\n",
       "      <th>1</th>\n",
       "      <td>438680</td>\n",
       "      <td>Batman Slapping Robin</td>\n",
       "      <td>NaN</td>\n",
       "    </tr>\n",
       "    <tr>\n",
       "      <th>2</th>\n",
       "      <td>87743020</td>\n",
       "      <td>Two Buttons</td>\n",
       "      <td>2 red buttons, choice button, which button, da...</td>\n",
       "    </tr>\n",
       "    <tr>\n",
       "      <th>3</th>\n",
       "      <td>181913649</td>\n",
       "      <td>Drake Hotline Bling</td>\n",
       "      <td>drakeposting, drakepost, drake hotline approve...</td>\n",
       "    </tr>\n",
       "    <tr>\n",
       "      <th>4</th>\n",
       "      <td>61579</td>\n",
       "      <td>One Does Not Simply</td>\n",
       "      <td>one does not simply walk into morder, lord of ...</td>\n",
       "    </tr>\n",
       "  </tbody>\n",
       "</table>\n",
       "</div>"
      ],
      "text/plain": [
       "          ID                   Name  \\\n",
       "0  112126428   Distracted Boyfriend   \n",
       "1     438680  Batman Slapping Robin   \n",
       "2   87743020            Two Buttons   \n",
       "3  181913649    Drake Hotline Bling   \n",
       "4      61579    One Does Not Simply   \n",
       "\n",
       "                                     Alternate Names  \n",
       "0  distracted bf, guy checking out another girl, ...  \n",
       "1                                                NaN  \n",
       "2  2 red buttons, choice button, which button, da...  \n",
       "3  drakeposting, drakepost, drake hotline approve...  \n",
       "4  one does not simply walk into morder, lord of ...  "
      ]
     },
     "execution_count": 8,
     "metadata": {},
     "output_type": "execute_result"
    }
   ],
   "source": [
    "TOP_100_PATH = '../data/popular_100_memes.csv'\n",
    "TOP_100 = pd.read_csv(TOP_100_PATH, encoding = \"ISO-8859-1\")\n",
    "\n",
    "TOP_100.head()"
   ]
  }
 ],
 "metadata": {
  "kernelspec": {
   "display_name": "Python 3",
   "language": "python",
   "name": "python3"
  },
  "language_info": {
   "codemirror_mode": {
    "name": "ipython",
    "version": 3
   },
   "file_extension": ".py",
   "mimetype": "text/x-python",
   "name": "python",
   "nbconvert_exporter": "python",
   "pygments_lexer": "ipython3",
   "version": "3.7.1"
  }
 },
 "nbformat": 4,
 "nbformat_minor": 4
}
