{
 "cells": [
  {
   "cell_type": "code",
   "execution_count": 1,
   "metadata": {},
   "outputs": [],
   "source": [
    "import pandas as pd\n",
    "import numpy as np\n",
    "import nltk\n",
    "import string\n",
    "import re\n",
    "import emoji\n",
    "from os.path import join\n",
    "import json\n",
    "import time\n",
    "\n",
    "from sklearn.utils import shuffle\n",
    "from gensim.models import Word2Vec\n",
    "from sklearn.preprocessing import StandardScaler\n",
    "from sklearn.feature_extraction.text import TfidfVectorizer, CountVectorizer\n",
    "from sklearn.ensemble import RandomForestClassifier\n",
    "from sklearn.model_selection import cross_val_score\n",
    "from sklearn.model_selection import train_test_split\n"
   ]
  },
  {
   "cell_type": "code",
   "execution_count": 2,
   "metadata": {
    "scrolled": true
   },
   "outputs": [
    {
     "name": "stdout",
     "output_type": "stream",
     "text": [
      "Tweets\n",
      "['💫 IT’S BURGER MONDAY, CBUS! 💫 Order any Gourmet Burger with a draft beer 🍔🍺 ifor just $9.99 when you dine in. 💪 Cer…', 'Stay strong 💪 You are an amazing man. I appreciate the truth that is told.', 'Code Sale Awesome from Styli 💪']\n",
      "122179\n",
      "Chosen emojis\n",
      "['😂', '😍', '😭', '😊', '💕', '😒', '😉', '👌', '👍', '🙏', '👀', '🔥', '💯', '👏', '💪']\n",
      "15\n"
     ]
    }
   ],
   "source": [
    "# getting the twitter comments\n",
    "DATA_PATH = join('..','data','twitter-data-cleaned.txt')\n",
    "with open(DATA_PATH, 'r',  encoding=\"utf-8\") as f:\n",
    "    data = f.readlines()\n",
    "data = [d.strip() for d in data if d.strip() != '']\n",
    "print('Tweets')\n",
    "print(data[:3])\n",
    "print(len(data))\n",
    "\n",
    "# getting our chosen emojis\n",
    "SELECTED_EMOJIS_PATH = join('..','data','best-emojis.json')\n",
    "with open(SELECTED_EMOJIS_PATH, 'r', encoding='utf-8') as f:\n",
    "    EMOJIS = json.load(f)\n",
    "EMOJI_CHARS = [e['char'] for e in EMOJIS]\n",
    "print('Chosen emojis')\n",
    "print(EMOJI_CHARS)\n",
    "print(len(EMOJI_CHARS))\n",
    "\n",
    "ALL_EMOJIS = set(emoji.emojize(emoji_code) for emoji_code in emoji.UNICODE_EMOJI.values())"
   ]
  },
  {
   "cell_type": "code",
   "execution_count": 3,
   "metadata": {
    "scrolled": true
   },
   "outputs": [
    {
     "name": "stdout",
     "output_type": "stream",
     "text": [
      "😂\n",
      "8458\n",
      "[['familiar', 'with', 'my', 'face', 'too'], ['bollywood', 'reality'], ['though', 'your', 'debates', 'be', 'blasphemy']]\n",
      "😍\n",
      "7330\n",
      "[['figura', 'is', 'a', 'start', 'today'], ['200', 'days', 'to', 'go'], ['200', 'days', 'to', 'go']]\n",
      "😭\n",
      "7464\n",
      "[['lol', 'procrastination', 'almost', 'had', 'me'], ['just', 'change', 'my', 'first', 'diaper'], ['52', 'yuan', 'for', 'this', 'set']]\n",
      "😊\n",
      "6352\n",
      "[['you', 'today', 'credit', 'stacie', 'swift'], ['fantastic', 'well', 'done', 'ladies'], ['congratulations', 'fam', 'all', 'the', 'best']]\n",
      "💕\n",
      "6485\n",
      "[['happy', 'birthday', 'my', 'mochiiii', 'saranghae'], ['got', 'this', 'soon', 'youre', 'done'], ['we', 'got', 'this']]\n",
      "😒\n",
      "5873\n",
      "[['️', 'dunk', 'it', 'ang', 'hina'], ['comes', '17', 'on', 'uber', 'eats'], ['comes', '17', 'on', 'uber', 'eats']]\n",
      "😉\n",
      "5932\n",
      "[['start', 'today', 'choose', 'your', 'package'], ['the', 'richest', 'man', 'your', 'age'], ['yall', 'know', 'the', 'rest']]\n",
      "👌\n",
      "6035\n",
      "[['yess'], ['nice', 'one', 'you', 'are', 'a'], ['the', 'best', 'and', 'great', 'artist']]\n",
      "👍\n",
      "6463\n",
      "[['promises', 'made'], ['88m', 'tweets', 'on', 'sarkaruvaaripaata'], ['you', 'succeed', 'we', 'all', 'succeed']]\n",
      "🙏\n",
      "6741\n",
      "[['keep', 'going', 'more', 'power', 'to'], ['facts', 'i’m', 'very', 'interested', 'and'], ['the', 'thread', 'and', 'tweet', 'well']]\n",
      "👀\n",
      "5920\n",
      "[['we', 'you', 'post', 'this', 'on'], ['live', 'tonight', 'at', '7pm', 'mst'], ['make', 'it', '5', 'k', 'tweets']]\n",
      "🔥\n",
      "9914\n",
      "[['wickets', 'broken'], ['nnz'], ['nnz']]\n",
      "💯\n",
      "6364\n",
      "[['it', 'up', 'bro', 'full', 'support'], ['age', 'i', 'didn’t', 'say', 'that'], ['200', 'days', 'to', 'go']]\n",
      "👏\n",
      "9216\n",
      "[['future', 'this', 'young', 'mans', 'got'], ['。', '。', '。'], ['trump', '2020']]\n",
      "💪\n",
      "6479\n",
      "[['999', 'when', 'you', 'dine', 'in'], ['stay', 'strong', 'you', 'are', 'an'], ['code', 'sale', 'awesome', 'from', 'styli']]\n"
     ]
    }
   ],
   "source": [
    "# preprocessing the data\n",
    "from parsing import Tokenizer, TokenType, Token\n",
    "tokenizer = Tokenizer(EMOJI_CHARS)\n",
    "# take 3 previous words as context for the emoji\n",
    "context = {e:[] for e in EMOJI_CHARS}\n",
    "emojiToId = {e:i for i,e in enumerate(EMOJI_CHARS)}\n",
    "\n",
    "for tweet in data:\n",
    "    tokens = tokenizer.tokenize(tweet)\n",
    "    for i,token in enumerate(tokens):\n",
    "        if token.token_type == TokenType.EMOJIS:\n",
    "            closest = tokenizer.findClosestNWords(5, tokens, i)\n",
    "            if closest:\n",
    "                context[token.raw].append(closest)\n",
    "\n",
    "for e, words in context.items():\n",
    "    print(e)\n",
    "    print(len(words))\n",
    "    print(words[:3])"
   ]
  },
  {
   "cell_type": "code",
   "execution_count": 4,
   "metadata": {
    "scrolled": true
   },
   "outputs": [
    {
     "name": "stdout",
     "output_type": "stream",
     "text": [
      "75537\n"
     ]
    }
   ],
   "source": [
    "# making X and y for TFIDF as a baseline idea of how good our accuracy can expect to be\n",
    "X_words = []\n",
    "y = []\n",
    "sentences = set()\n",
    "for e, words in context.items():\n",
    "    for i,word_list in enumerate(words):\n",
    "        sentence = ' '.join(word_list)\n",
    "        if sentence in sentences:\n",
    "            continue\n",
    "        sentences.add(sentence)\n",
    "        X_words.append(sentence)\n",
    "        y.append(emojiToId[e])\n",
    "print(len(y))"
   ]
  },
  {
   "cell_type": "code",
   "execution_count": 5,
   "metadata": {},
   "outputs": [],
   "source": [
    "# FFNN building to predict result\n",
    "import torch\n",
    "import torch.nn as nn\n",
    "import torch.optim as optim\n",
    "import random\n",
    "from tqdm.notebook import tqdm\n",
    "from sklearn.utils import shuffle\n",
    "import matplotlib.pyplot as plt"
   ]
  },
  {
   "cell_type": "code",
   "execution_count": 6,
   "metadata": {},
   "outputs": [
    {
     "name": "stdout",
     "output_type": "stream",
     "text": [
      "['familiar', 'with', 'my', 'face', 'too']\n",
      "75537\n"
     ]
    }
   ],
   "source": [
    "# making X and y for RNN\n",
    "X_words = []\n",
    "y = []\n",
    "sentences = set()\n",
    "for e, words in context.items():\n",
    "    for i, sentence in enumerate(words):\n",
    "        check = ' '.join(sentence)\n",
    "        if check in sentences:\n",
    "            continue\n",
    "        sentences.add(check)\n",
    "        X_words.append(sentence)\n",
    "        y.append(emojiToId[e])\n",
    "print(X_words[0])\n",
    "print(len(y))"
   ]
  },
  {
   "cell_type": "code",
   "execution_count": 7,
   "metadata": {},
   "outputs": [],
   "source": [
    "# making word embeddings for RNN\n",
    "UNK = \"<unk>\"\n",
    "WORDEMBSIZE = 32\n",
    "W2V_WINDOW = 7\n",
    "W2V_COUNT = 1\n",
    "W2V_EPOCH=100\n",
    "\n",
    "def makeVocab(text):\n",
    "    vocab = set()\n",
    "    for sentences in text:\n",
    "        for word in sentences:\n",
    "            vocab.add(word)\n",
    "    return vocab\n",
    "\n",
    "def makeEmbModel(data):\n",
    "    docs = [[UNK]]\n",
    "    docs.extend(data)\n",
    "    model = Word2Vec(window=W2V_WINDOW, min_count=W2V_COUNT, size=WORDEMBSIZE)\n",
    "    model.build_vocab(docs)\n",
    "    model.train(docs, total_examples=len(docs), epochs=W2V_EPOCH)\n",
    "    print(model)\n",
    "    return model\n",
    "\n",
    "def makeEmbeddings(data, model, vocab):\n",
    "    vecData = []\n",
    "    for sentence in data:\n",
    "        wordEmbs = []\n",
    "        for word in sentence:\n",
    "            if word in vocab:\n",
    "#                 print(type(model[word]))\n",
    "#                 print(model[word])\n",
    "                wordEmbs.append(model[word])\n",
    "            else:\n",
    "                wordEmbs.append(np.zeros(WORDEMBSIZE))\n",
    "        wordEmbs = torch.FloatTensor(wordEmbs)\n",
    "        vecData.append(wordEmbs)\n",
    "    return vecData"
   ]
  },
  {
   "cell_type": "code",
   "execution_count": 8,
   "metadata": {
    "scrolled": true
   },
   "outputs": [
    {
     "name": "stdout",
     "output_type": "stream",
     "text": [
      "Word2Vec(vocab=28504, size=32, alpha=0.025)\n"
     ]
    },
    {
     "name": "stderr",
     "output_type": "stream",
     "text": [
      "<ipython-input-7-194dbdb9ddbd>:32: DeprecationWarning: Call to deprecated `__getitem__` (Method will be removed in 4.0.0, use self.wv.__getitem__() instead).\n",
      "  wordEmbs.append(model[word])\n"
     ]
    },
    {
     "name": "stdout",
     "output_type": "stream",
     "text": [
      "['in', 'such', 'a', 'distinguished', 'list']\n",
      "tensor([[ 1.3990e+00,  8.8683e-02,  9.9880e-01, -7.6809e-01, -4.7173e-01,\n",
      "         -1.6840e+00, -1.2902e+00, -9.2626e-01,  8.1890e-01, -1.3432e+00,\n",
      "          2.2312e-03,  1.2770e+00,  7.9036e-01, -6.7012e-01,  8.8616e-01,\n",
      "          1.3248e+00,  2.5153e-02,  1.0273e-01, -5.2508e-01,  3.3964e+00,\n",
      "          8.3041e-01,  2.7098e+00,  7.5951e-01, -8.9021e-01,  4.2830e-01,\n",
      "          1.0009e+00,  1.3329e-01,  1.6721e+00,  4.2446e-01,  2.1832e-01,\n",
      "          2.1828e+00, -2.7460e-01],\n",
      "        [ 4.8968e-01,  9.5036e-01, -2.1633e+00,  3.9993e+00,  2.3069e+00,\n",
      "         -7.3582e-01, -1.9375e+00,  8.9038e-01,  1.6005e+00,  2.5409e+00,\n",
      "          3.5766e-02,  2.2253e+00,  2.1776e-01, -7.7692e-01,  4.5747e+00,\n",
      "          4.3748e-01,  1.8620e+00, -3.7540e+00, -3.2051e+00, -3.6358e-01,\n",
      "          2.3482e+00,  1.8590e+00, -3.0874e+00, -8.3399e-02, -6.1779e-01,\n",
      "          1.6027e+00,  2.8262e+00,  1.0645e+00,  2.7621e+00, -2.6386e+00,\n",
      "         -2.4000e-01, -1.6485e+00],\n",
      "        [-7.4232e-01,  1.9863e+00, -1.2829e+00,  1.9641e+00,  4.8616e-01,\n",
      "         -1.7509e-01, -7.1843e-01,  3.5634e-01,  2.1239e+00, -5.3893e-01,\n",
      "          1.7419e+00,  1.0164e-01, -7.0470e-01,  5.3091e-02,  5.6038e-01,\n",
      "         -2.9987e-01, -1.1809e-01, -1.3119e+00,  5.6444e-01, -6.8870e-01,\n",
      "          5.8405e-01, -5.8998e-01, -1.2815e+00, -4.0742e-01, -2.7669e+00,\n",
      "          7.5066e-01,  1.3919e-01,  1.3113e+00,  2.4791e-01, -6.5766e-01,\n",
      "          2.9356e+00, -7.9258e-01],\n",
      "        [-5.9277e-01, -1.7901e-01, -2.6547e-01,  5.1605e-01,  5.4189e-01,\n",
      "         -5.1279e-01, -3.7357e-01, -2.2088e-01,  6.4738e-01,  6.9952e-01,\n",
      "         -2.7311e-01,  9.6363e-01, -1.2453e+00, -1.0428e+00, -4.0001e-01,\n",
      "         -6.9715e-03, -1.8678e-01, -8.4482e-01,  8.2855e-01,  5.8805e-01,\n",
      "          1.5541e-01, -5.4399e-01,  3.7284e-02, -2.7318e-01,  3.5879e-01,\n",
      "         -3.4766e-01, -7.7212e-01, -3.1219e-01,  1.1666e-01,  7.5426e-01,\n",
      "          5.7289e-01, -9.1968e-01],\n",
      "        [-9.3011e-01,  2.3607e+00, -3.1638e+00, -1.3692e+00,  1.6240e+00,\n",
      "         -5.9883e-01, -1.0814e+00, -1.6841e+00,  4.3054e-01,  1.2263e+00,\n",
      "          3.0357e+00,  1.7216e-01,  6.5213e-01, -1.5080e+00,  3.1232e+00,\n",
      "          3.1948e-01,  6.8335e-01,  5.0272e-01, -5.1586e-02,  2.1934e-01,\n",
      "         -1.9210e+00, -1.1558e+00,  9.5266e-01, -2.5089e+00,  1.1007e-01,\n",
      "         -1.5567e+00, -9.9409e-01,  1.8444e+00,  2.5270e+00, -1.4947e+00,\n",
      "          1.9376e+00,  1.6982e-01]])\n",
      "3\n"
     ]
    }
   ],
   "source": [
    "# continue making word embeddings\n",
    "X_words_train, X_words_test, y_train, y_test = train_test_split(X_words, y, train_size=0.8, test_size=0.2, random_state=42)\n",
    "vocab = makeVocab(X_words_train)\n",
    "emb_model = makeEmbModel(X_words_train)\n",
    "vocab = set(list(emb_model.wv.vocab.keys()))\n",
    "X_train = makeEmbeddings(X_words_train, emb_model, vocab)\n",
    "X_test = makeEmbeddings(X_words_test, emb_model, vocab)\n",
    "\n",
    "print(X_words_train[0])\n",
    "print(X_train[0])\n",
    "print(y_train[0])"
   ]
  },
  {
   "cell_type": "code",
   "execution_count": 9,
   "metadata": {},
   "outputs": [
    {
     "name": "stdout",
     "output_type": "stream",
     "text": [
      "tensor([[ 1.3990e+00,  8.8683e-02,  9.9880e-01, -7.6809e-01, -4.7173e-01,\n",
      "         -1.6840e+00, -1.2902e+00, -9.2626e-01,  8.1890e-01, -1.3432e+00,\n",
      "          2.2312e-03,  1.2770e+00,  7.9036e-01, -6.7012e-01,  8.8616e-01,\n",
      "          1.3248e+00,  2.5153e-02,  1.0273e-01, -5.2508e-01,  3.3964e+00,\n",
      "          8.3041e-01,  2.7098e+00,  7.5951e-01, -8.9021e-01,  4.2830e-01,\n",
      "          1.0009e+00,  1.3329e-01,  1.6721e+00,  4.2446e-01,  2.1832e-01,\n",
      "          2.1828e+00, -2.7460e-01],\n",
      "        [ 4.8968e-01,  9.5036e-01, -2.1633e+00,  3.9993e+00,  2.3069e+00,\n",
      "         -7.3582e-01, -1.9375e+00,  8.9038e-01,  1.6005e+00,  2.5409e+00,\n",
      "          3.5766e-02,  2.2253e+00,  2.1776e-01, -7.7692e-01,  4.5747e+00,\n",
      "          4.3748e-01,  1.8620e+00, -3.7540e+00, -3.2051e+00, -3.6358e-01,\n",
      "          2.3482e+00,  1.8590e+00, -3.0874e+00, -8.3399e-02, -6.1779e-01,\n",
      "          1.6027e+00,  2.8262e+00,  1.0645e+00,  2.7621e+00, -2.6386e+00,\n",
      "         -2.4000e-01, -1.6485e+00],\n",
      "        [-7.4232e-01,  1.9863e+00, -1.2829e+00,  1.9641e+00,  4.8616e-01,\n",
      "         -1.7509e-01, -7.1843e-01,  3.5634e-01,  2.1239e+00, -5.3893e-01,\n",
      "          1.7419e+00,  1.0164e-01, -7.0470e-01,  5.3091e-02,  5.6038e-01,\n",
      "         -2.9987e-01, -1.1809e-01, -1.3119e+00,  5.6444e-01, -6.8870e-01,\n",
      "          5.8405e-01, -5.8998e-01, -1.2815e+00, -4.0742e-01, -2.7669e+00,\n",
      "          7.5066e-01,  1.3919e-01,  1.3113e+00,  2.4791e-01, -6.5766e-01,\n",
      "          2.9356e+00, -7.9258e-01],\n",
      "        [-5.9277e-01, -1.7901e-01, -2.6547e-01,  5.1605e-01,  5.4189e-01,\n",
      "         -5.1279e-01, -3.7357e-01, -2.2088e-01,  6.4738e-01,  6.9952e-01,\n",
      "         -2.7311e-01,  9.6363e-01, -1.2453e+00, -1.0428e+00, -4.0001e-01,\n",
      "         -6.9715e-03, -1.8678e-01, -8.4482e-01,  8.2855e-01,  5.8805e-01,\n",
      "          1.5541e-01, -5.4399e-01,  3.7284e-02, -2.7318e-01,  3.5879e-01,\n",
      "         -3.4766e-01, -7.7212e-01, -3.1219e-01,  1.1666e-01,  7.5426e-01,\n",
      "          5.7289e-01, -9.1968e-01],\n",
      "        [-9.3011e-01,  2.3607e+00, -3.1638e+00, -1.3692e+00,  1.6240e+00,\n",
      "         -5.9883e-01, -1.0814e+00, -1.6841e+00,  4.3054e-01,  1.2263e+00,\n",
      "          3.0357e+00,  1.7216e-01,  6.5213e-01, -1.5080e+00,  3.1232e+00,\n",
      "          3.1948e-01,  6.8335e-01,  5.0272e-01, -5.1586e-02,  2.1934e-01,\n",
      "         -1.9210e+00, -1.1558e+00,  9.5266e-01, -2.5089e+00,  1.1007e-01,\n",
      "         -1.5567e+00, -9.9409e-01,  1.8444e+00,  2.5270e+00, -1.4947e+00,\n",
      "          1.9376e+00,  1.6982e-01]])\n",
      "3\n"
     ]
    }
   ],
   "source": [
    "print(X_train[0])\n",
    "print(y_train[0])"
   ]
  },
  {
   "cell_type": "code",
   "execution_count": 10,
   "metadata": {},
   "outputs": [],
   "source": [
    "#FFNN model\n",
    "class FFNN(nn.Module):\n",
    "    def __init__(self, input_dim, h, output_dim = 15):\n",
    "        super(FFNN, self).__init__()\n",
    "        \n",
    "        #Inputs to hidden layer linear transformation\n",
    "        self.hidden = nn.Linear(input_dim, h)\n",
    "        \n",
    "        #Output layer, 15 one for each emoji\n",
    "        self.output = nn.Linear(h, output_dim)\n",
    "        \n",
    "        #Define sigmoid activiation and softmax output\n",
    "        self.sigmoid = nn.Sigmoid()\n",
    "        self.softmax = nn.Softmax(dim=1)\n",
    "        \n",
    "    def forward(self, x):\n",
    "        x = self.hidden(x)\n",
    "        x = self.sigmoid(x)\n",
    "        x = self.output(x)\n",
    "        x = self.softmax(x)\n",
    "        return x"
   ]
  },
  {
   "cell_type": "code",
   "execution_count": 11,
   "metadata": {},
   "outputs": [],
   "source": [
    "class FFNN2(nn.Module):\n",
    "    def __init__(self, input_dim, hidden_dim, output_dim = 15):\n",
    "        super(FFNN2, self).__init__()\n",
    "        self.fc1 = nn.Linear(input_dim, hidden_dim)\n",
    "        self.relu = nn.ReLU()\n",
    "        self.fc2 = nn.Linear(hidden_dim, output_dim)\n",
    "        self.sm = nn.Softmax(dim=1)\n",
    "        \n",
    "    def forward(self, x):\n",
    "        out = self.fc1(x)\n",
    "        out = self.relu(out)\n",
    "        out = self.fc2(out)\n",
    "        out = self.sm(out)\n",
    "        return out"
   ]
  },
  {
   "cell_type": "code",
   "execution_count": 63,
   "metadata": {},
   "outputs": [],
   "source": [
    "class FFNN3(nn.Module):\n",
    "    def __init__(self, input_size, hidden_size, num_classes):\n",
    "        super(FFNN3, self).__init__()                    \n",
    "        self.fc1 = nn.Linear(input_size, hidden_size)  \n",
    "        self.relu = nn.ReLU()                          \n",
    "        self.fc2 = nn.Linear(hidden_size, num_classes) \n",
    "    \n",
    "    def forward(self, x):                              \n",
    "        out = self.fc1(x)\n",
    "        out = self.relu(out)\n",
    "        out = self.fc2(out)\n",
    "        return out"
   ]
  },
  {
   "cell_type": "code",
   "execution_count": 83,
   "metadata": {},
   "outputs": [
    {
     "name": "stdout",
     "output_type": "stream",
     "text": [
      "\n",
      "\n",
      "-------------\n",
      "EPOCH: 1\n",
      "Training started for epoch: 1\n"
     ]
    },
    {
     "data": {
      "application/vnd.jupyter.widget-view+json": {
       "model_id": "0bc415fd7be442f8b6060201b06151ea",
       "version_major": 2,
       "version_minor": 0
      },
      "text/plain": [
       "HBox(children=(FloatProgress(value=0.0, max=1888.0), HTML(value='')))"
      ]
     },
     "metadata": {},
     "output_type": "display_data"
    },
    {
     "name": "stdout",
     "output_type": "stream",
     "text": [
      "\n",
      "Training completed for epoch: 1\n",
      "Time for train: 18.67247486114502\n",
      "Accuracy: 0.05534957627118644\n",
      "Validation started for epoch: 1\n"
     ]
    },
    {
     "data": {
      "application/vnd.jupyter.widget-view+json": {
       "model_id": "cda515328adc41cdabb483bc146739d3",
       "version_major": 2,
       "version_minor": 0
      },
      "text/plain": [
       "HBox(children=(FloatProgress(value=0.0, max=472.0), HTML(value='')))"
      ]
     },
     "metadata": {},
     "output_type": "display_data"
    },
    {
     "name": "stdout",
     "output_type": "stream",
     "text": [
      "\n",
      "Validation completed for epoch: 1\n",
      "Time for validation: 2.5723466873168945\n",
      "Accuracy: 0.06289724576271187\n",
      "\n",
      "\n",
      "-------------\n",
      "EPOCH: 2\n",
      "Training started for epoch: 2\n"
     ]
    },
    {
     "data": {
      "application/vnd.jupyter.widget-view+json": {
       "model_id": "ba3a235da7de4b2b81054ed08de45703",
       "version_major": 2,
       "version_minor": 0
      },
      "text/plain": [
       "HBox(children=(FloatProgress(value=0.0, max=1888.0), HTML(value='')))"
      ]
     },
     "metadata": {},
     "output_type": "display_data"
    },
    {
     "name": "stdout",
     "output_type": "stream",
     "text": [
      "\n",
      "Training completed for epoch: 2\n",
      "Time for train: 19.522342920303345\n",
      "Accuracy: 0.06778005826271187\n",
      "Validation started for epoch: 2\n"
     ]
    },
    {
     "data": {
      "application/vnd.jupyter.widget-view+json": {
       "model_id": "662fb62d376444bda9dad560a82fffa8",
       "version_major": 2,
       "version_minor": 0
      },
      "text/plain": [
       "HBox(children=(FloatProgress(value=0.0, max=472.0), HTML(value='')))"
      ]
     },
     "metadata": {},
     "output_type": "display_data"
    },
    {
     "name": "stdout",
     "output_type": "stream",
     "text": [
      "\n",
      "Validation completed for epoch: 2\n",
      "Time for validation: 2.7595057487487793\n",
      "Accuracy: 0.06561175847457627\n",
      "\n",
      "\n",
      "-------------\n",
      "EPOCH: 3\n",
      "Training started for epoch: 3\n"
     ]
    },
    {
     "data": {
      "application/vnd.jupyter.widget-view+json": {
       "model_id": "72a47f24ed0f4daa9fc09dc6b7c3ceca",
       "version_major": 2,
       "version_minor": 0
      },
      "text/plain": [
       "HBox(children=(FloatProgress(value=0.0, max=1888.0), HTML(value='')))"
      ]
     },
     "metadata": {},
     "output_type": "display_data"
    },
    {
     "name": "stdout",
     "output_type": "stream",
     "text": [
      "\n",
      "Training completed for epoch: 3\n",
      "Time for train: 20.70965814590454\n",
      "Accuracy: 0.06898834745762712\n",
      "Validation started for epoch: 3\n"
     ]
    },
    {
     "data": {
      "application/vnd.jupyter.widget-view+json": {
       "model_id": "560e63a462d5491cba82069967bdbbae",
       "version_major": 2,
       "version_minor": 0
      },
      "text/plain": [
       "HBox(children=(FloatProgress(value=0.0, max=472.0), HTML(value='')))"
      ]
     },
     "metadata": {},
     "output_type": "display_data"
    },
    {
     "name": "stdout",
     "output_type": "stream",
     "text": [
      "\n",
      "Validation completed for epoch: 3\n",
      "Time for validation: 2.7204699516296387\n",
      "Accuracy: 0.0685248940677966\n",
      "\n",
      "\n",
      "-------------\n",
      "EPOCH: 4\n",
      "Training started for epoch: 4\n"
     ]
    },
    {
     "data": {
      "application/vnd.jupyter.widget-view+json": {
       "model_id": "b23da4de2852430984cd468e5e6a1aa2",
       "version_major": 2,
       "version_minor": 0
      },
      "text/plain": [
       "HBox(children=(FloatProgress(value=0.0, max=1888.0), HTML(value='')))"
      ]
     },
     "metadata": {},
     "output_type": "display_data"
    },
    {
     "name": "stdout",
     "output_type": "stream",
     "text": [
      "\n",
      "Training completed for epoch: 4\n",
      "Time for train: 20.064002990722656\n",
      "Accuracy: 0.0724311440677966\n",
      "Validation started for epoch: 4\n"
     ]
    },
    {
     "data": {
      "application/vnd.jupyter.widget-view+json": {
       "model_id": "266d9cd3cc984ecb8e97c5d85d9324bd",
       "version_major": 2,
       "version_minor": 0
      },
      "text/plain": [
       "HBox(children=(FloatProgress(value=0.0, max=472.0), HTML(value='')))"
      ]
     },
     "metadata": {},
     "output_type": "display_data"
    },
    {
     "name": "stdout",
     "output_type": "stream",
     "text": [
      "\n",
      "Validation completed for epoch: 4\n",
      "Time for validation: 2.6143736839294434\n",
      "Accuracy: 0.06832627118644068\n",
      "\n",
      "\n",
      "-------------\n",
      "EPOCH: 5\n",
      "Training started for epoch: 5\n"
     ]
    },
    {
     "data": {
      "application/vnd.jupyter.widget-view+json": {
       "model_id": "9588a45ae3f24bfc8ffe1e140264ede3",
       "version_major": 2,
       "version_minor": 0
      },
      "text/plain": [
       "HBox(children=(FloatProgress(value=0.0, max=1888.0), HTML(value='')))"
      ]
     },
     "metadata": {},
     "output_type": "display_data"
    },
    {
     "name": "stdout",
     "output_type": "stream",
     "text": [
      "\n",
      "Training completed for epoch: 5\n",
      "Time for train: 20.732178211212158\n",
      "Accuracy: 0.07347391419491525\n",
      "Validation started for epoch: 5\n"
     ]
    },
    {
     "data": {
      "application/vnd.jupyter.widget-view+json": {
       "model_id": "7f7981a480fa4aee8aa7c8d3f03717c0",
       "version_major": 2,
       "version_minor": 0
      },
      "text/plain": [
       "HBox(children=(FloatProgress(value=0.0, max=472.0), HTML(value='')))"
      ]
     },
     "metadata": {},
     "output_type": "display_data"
    },
    {
     "name": "stdout",
     "output_type": "stream",
     "text": [
      "\n",
      "Validation completed for epoch: 5\n",
      "Time for validation: 2.586357593536377\n",
      "Accuracy: 0.07064353813559322\n",
      "\n",
      "\n",
      "-------------\n",
      "EPOCH: 6\n",
      "Training started for epoch: 6\n"
     ]
    },
    {
     "data": {
      "application/vnd.jupyter.widget-view+json": {
       "model_id": "ac7ae004a0ac4eeeb04b2fa507919ddd",
       "version_major": 2,
       "version_minor": 0
      },
      "text/plain": [
       "HBox(children=(FloatProgress(value=0.0, max=1888.0), HTML(value='')))"
      ]
     },
     "metadata": {},
     "output_type": "display_data"
    },
    {
     "name": "stdout",
     "output_type": "stream",
     "text": [
      "\n",
      "Training completed for epoch: 6\n",
      "Time for train: 20.248807191848755\n",
      "Accuracy: 0.07415254237288135\n",
      "Validation started for epoch: 6\n"
     ]
    },
    {
     "data": {
      "application/vnd.jupyter.widget-view+json": {
       "model_id": "9b1a410778bb4690aa43beacb9a2eaa9",
       "version_major": 2,
       "version_minor": 0
      },
      "text/plain": [
       "HBox(children=(FloatProgress(value=0.0, max=472.0), HTML(value='')))"
      ]
     },
     "metadata": {},
     "output_type": "display_data"
    },
    {
     "name": "stdout",
     "output_type": "stream",
     "text": [
      "\n",
      "Validation completed for epoch: 6\n",
      "Time for validation: 2.6700551509857178\n",
      "Accuracy: 0.07064353813559322\n",
      "\n",
      "\n",
      "-------------\n",
      "EPOCH: 7\n",
      "Training started for epoch: 7\n"
     ]
    },
    {
     "data": {
      "application/vnd.jupyter.widget-view+json": {
       "model_id": "a1d4890f9d2d45f7b9aa763b90538710",
       "version_major": 2,
       "version_minor": 0
      },
      "text/plain": [
       "HBox(children=(FloatProgress(value=0.0, max=1888.0), HTML(value='')))"
      ]
     },
     "metadata": {},
     "output_type": "display_data"
    },
    {
     "name": "stdout",
     "output_type": "stream",
     "text": [
      "\n",
      "Training completed for epoch: 7\n",
      "Time for train: 19.975585460662842\n",
      "Accuracy: 0.0757084216101695\n",
      "Validation started for epoch: 7\n"
     ]
    },
    {
     "data": {
      "application/vnd.jupyter.widget-view+json": {
       "model_id": "14049cc05fa643e4872d4a68a712651a",
       "version_major": 2,
       "version_minor": 0
      },
      "text/plain": [
       "HBox(children=(FloatProgress(value=0.0, max=472.0), HTML(value='')))"
      ]
     },
     "metadata": {},
     "output_type": "display_data"
    },
    {
     "name": "stdout",
     "output_type": "stream",
     "text": [
      "\n",
      "Validation completed for epoch: 7\n",
      "Time for validation: 2.551340341567993\n",
      "Accuracy: 0.07084216101694915\n",
      "\n",
      "\n",
      "-------------\n",
      "EPOCH: 8\n",
      "Training started for epoch: 8\n"
     ]
    },
    {
     "data": {
      "application/vnd.jupyter.widget-view+json": {
       "model_id": "930da958fb744d339b1fdcd2b83546a3",
       "version_major": 2,
       "version_minor": 0
      },
      "text/plain": [
       "HBox(children=(FloatProgress(value=0.0, max=1888.0), HTML(value='')))"
      ]
     },
     "metadata": {},
     "output_type": "display_data"
    },
    {
     "name": "stdout",
     "output_type": "stream",
     "text": [
      "\n",
      "Training completed for epoch: 8\n",
      "Time for train: 19.467943906784058\n",
      "Accuracy: 0.07534427966101695\n",
      "Validation started for epoch: 8\n"
     ]
    },
    {
     "data": {
      "application/vnd.jupyter.widget-view+json": {
       "model_id": "4ac649a1956944c5be387f915bb7764e",
       "version_major": 2,
       "version_minor": 0
      },
      "text/plain": [
       "HBox(children=(FloatProgress(value=0.0, max=472.0), HTML(value='')))"
      ]
     },
     "metadata": {},
     "output_type": "display_data"
    },
    {
     "name": "stdout",
     "output_type": "stream",
     "text": [
      "\n",
      "Validation completed for epoch: 8\n",
      "Time for validation: 2.545323371887207\n",
      "Accuracy: 0.06938559322033898\n",
      "\n",
      "\n",
      "-------------\n",
      "EPOCH: 9\n",
      "Training started for epoch: 9\n"
     ]
    },
    {
     "data": {
      "application/vnd.jupyter.widget-view+json": {
       "model_id": "7e29c021a95d450eada3d6bbf0828559",
       "version_major": 2,
       "version_minor": 0
      },
      "text/plain": [
       "HBox(children=(FloatProgress(value=0.0, max=1888.0), HTML(value='')))"
      ]
     },
     "metadata": {},
     "output_type": "display_data"
    },
    {
     "name": "stdout",
     "output_type": "stream",
     "text": [
      "\n",
      "Training completed for epoch: 9\n",
      "Time for train: 19.416521787643433\n",
      "Accuracy: 0.07673463983050847\n",
      "Validation started for epoch: 9\n"
     ]
    },
    {
     "data": {
      "application/vnd.jupyter.widget-view+json": {
       "model_id": "cc35c32e15904a509a66ec23f5abe719",
       "version_major": 2,
       "version_minor": 0
      },
      "text/plain": [
       "HBox(children=(FloatProgress(value=0.0, max=472.0), HTML(value='')))"
      ]
     },
     "metadata": {},
     "output_type": "display_data"
    },
    {
     "name": "stdout",
     "output_type": "stream",
     "text": [
      "\n",
      "Validation completed for epoch: 9\n",
      "Time for validation: 2.6033852100372314\n",
      "Accuracy: 0.06885593220338983\n",
      "\n",
      "\n",
      "-------------\n",
      "EPOCH: 10\n",
      "Training started for epoch: 10\n"
     ]
    },
    {
     "data": {
      "application/vnd.jupyter.widget-view+json": {
       "model_id": "2f47fa725a414f25a63b1d3b51eb256e",
       "version_major": 2,
       "version_minor": 0
      },
      "text/plain": [
       "HBox(children=(FloatProgress(value=0.0, max=1888.0), HTML(value='')))"
      ]
     },
     "metadata": {},
     "output_type": "display_data"
    },
    {
     "name": "stdout",
     "output_type": "stream",
     "text": [
      "\n",
      "Training completed for epoch: 10\n",
      "Time for train: 19.42073082923889\n",
      "Accuracy: 0.07762844279661017\n",
      "Validation started for epoch: 10\n"
     ]
    },
    {
     "data": {
      "application/vnd.jupyter.widget-view+json": {
       "model_id": "1436410e065c4877a261a726f284f866",
       "version_major": 2,
       "version_minor": 0
      },
      "text/plain": [
       "HBox(children=(FloatProgress(value=0.0, max=472.0), HTML(value='')))"
      ]
     },
     "metadata": {},
     "output_type": "display_data"
    },
    {
     "name": "stdout",
     "output_type": "stream",
     "text": [
      "\n",
      "Validation completed for epoch: 10\n",
      "Time for validation: 2.5513384342193604\n",
      "Accuracy: 0.07117319915254237\n",
      "\n",
      "\n",
      "-------------\n",
      "EPOCH: 11\n",
      "Training started for epoch: 11\n"
     ]
    },
    {
     "data": {
      "application/vnd.jupyter.widget-view+json": {
       "model_id": "09ced59bf0044727b4f78ea35c39d33a",
       "version_major": 2,
       "version_minor": 0
      },
      "text/plain": [
       "HBox(children=(FloatProgress(value=0.0, max=1888.0), HTML(value='')))"
      ]
     },
     "metadata": {},
     "output_type": "display_data"
    },
    {
     "name": "stdout",
     "output_type": "stream",
     "text": [
      "\n",
      "Training completed for epoch: 11\n",
      "Time for train: 19.416761875152588\n",
      "Accuracy: 0.07719809322033898\n",
      "Validation started for epoch: 11\n"
     ]
    },
    {
     "data": {
      "application/vnd.jupyter.widget-view+json": {
       "model_id": "4f121bce807a4bfcaa3a85089e5efa66",
       "version_major": 2,
       "version_minor": 0
      },
      "text/plain": [
       "HBox(children=(FloatProgress(value=0.0, max=472.0), HTML(value='')))"
      ]
     },
     "metadata": {},
     "output_type": "display_data"
    },
    {
     "name": "stdout",
     "output_type": "stream",
     "text": [
      "\n",
      "Validation completed for epoch: 11\n",
      "Time for validation: 2.6835451126098633\n",
      "Accuracy: 0.06951800847457627\n",
      "\n",
      "\n",
      "-------------\n",
      "EPOCH: 12\n",
      "Training started for epoch: 12\n"
     ]
    },
    {
     "data": {
      "application/vnd.jupyter.widget-view+json": {
       "model_id": "7cf9a7dd75174304907672f38daf1c3d",
       "version_major": 2,
       "version_minor": 0
      },
      "text/plain": [
       "HBox(children=(FloatProgress(value=0.0, max=1888.0), HTML(value='')))"
      ]
     },
     "metadata": {},
     "output_type": "display_data"
    },
    {
     "name": "stdout",
     "output_type": "stream",
     "text": [
      "\n",
      "Training completed for epoch: 12\n",
      "Time for train: 20.0507390499115\n",
      "Accuracy: 0.07928363347457627\n",
      "Validation started for epoch: 12\n"
     ]
    },
    {
     "data": {
      "application/vnd.jupyter.widget-view+json": {
       "model_id": "4205be0d8c184c81b93de52be0deb2ee",
       "version_major": 2,
       "version_minor": 0
      },
      "text/plain": [
       "HBox(children=(FloatProgress(value=0.0, max=472.0), HTML(value='')))"
      ]
     },
     "metadata": {},
     "output_type": "display_data"
    },
    {
     "name": "stdout",
     "output_type": "stream",
     "text": [
      "\n",
      "Validation completed for epoch: 12\n",
      "Time for validation: 2.8686139583587646\n",
      "Accuracy: 0.0698490466101695\n",
      "\n",
      "\n",
      "-------------\n",
      "EPOCH: 13\n",
      "Training started for epoch: 13\n"
     ]
    },
    {
     "data": {
      "application/vnd.jupyter.widget-view+json": {
       "model_id": "95f86e56cb2c41fda9fc33a70ed2b8fc",
       "version_major": 2,
       "version_minor": 0
      },
      "text/plain": [
       "HBox(children=(FloatProgress(value=0.0, max=1888.0), HTML(value='')))"
      ]
     },
     "metadata": {},
     "output_type": "display_data"
    },
    {
     "name": "stdout",
     "output_type": "stream",
     "text": [
      "\n",
      "Training completed for epoch: 13\n",
      "Time for train: 20.655940771102905\n",
      "Accuracy: 0.07822431144067797\n",
      "Validation started for epoch: 13\n"
     ]
    },
    {
     "data": {
      "application/vnd.jupyter.widget-view+json": {
       "model_id": "8530bbfc8bcc4566829e3139f9c75901",
       "version_major": 2,
       "version_minor": 0
      },
      "text/plain": [
       "HBox(children=(FloatProgress(value=0.0, max=472.0), HTML(value='')))"
      ]
     },
     "metadata": {},
     "output_type": "display_data"
    },
    {
     "name": "stdout",
     "output_type": "stream",
     "text": [
      "\n",
      "Validation completed for epoch: 13\n",
      "Time for validation: 2.6353933811187744\n",
      "Accuracy: 0.06726694915254237\n",
      "\n",
      "\n",
      "-------------\n",
      "EPOCH: 14\n",
      "Training started for epoch: 14\n"
     ]
    },
    {
     "data": {
      "application/vnd.jupyter.widget-view+json": {
       "model_id": "58fa032e124747f687488cc6140237cf",
       "version_major": 2,
       "version_minor": 0
      },
      "text/plain": [
       "HBox(children=(FloatProgress(value=0.0, max=1888.0), HTML(value='')))"
      ]
     },
     "metadata": {},
     "output_type": "display_data"
    },
    {
     "name": "stdout",
     "output_type": "stream",
     "text": [
      "\n",
      "Training completed for epoch: 14\n",
      "Time for train: 19.4169762134552\n",
      "Accuracy: 0.0792339777542373\n",
      "Validation started for epoch: 14\n"
     ]
    },
    {
     "data": {
      "application/vnd.jupyter.widget-view+json": {
       "model_id": "2c6c7b1a09e74729bd149e12794cda0e",
       "version_major": 2,
       "version_minor": 0
      },
      "text/plain": [
       "HBox(children=(FloatProgress(value=0.0, max=472.0), HTML(value='')))"
      ]
     },
     "metadata": {},
     "output_type": "display_data"
    },
    {
     "name": "stdout",
     "output_type": "stream",
     "text": [
      "\n",
      "Validation completed for epoch: 14\n",
      "Time for validation: 2.588881015777588\n",
      "Accuracy: 0.06786281779661017\n",
      "\n",
      "\n",
      "-------------\n",
      "EPOCH: 15\n",
      "Training started for epoch: 15\n"
     ]
    },
    {
     "data": {
      "application/vnd.jupyter.widget-view+json": {
       "model_id": "c7dfa4d3344a45c9bbfcc31d8fb84564",
       "version_major": 2,
       "version_minor": 0
      },
      "text/plain": [
       "HBox(children=(FloatProgress(value=0.0, max=1888.0), HTML(value='')))"
      ]
     },
     "metadata": {},
     "output_type": "display_data"
    },
    {
     "name": "stdout",
     "output_type": "stream",
     "text": [
      "\n",
      "Training completed for epoch: 15\n",
      "Time for train: 19.950130701065063\n",
      "Accuracy: 0.07920087394067797\n",
      "Validation started for epoch: 15\n"
     ]
    },
    {
     "data": {
      "application/vnd.jupyter.widget-view+json": {
       "model_id": "0eb426921e4d470990791b4b2fbf7249",
       "version_major": 2,
       "version_minor": 0
      },
      "text/plain": [
       "HBox(children=(FloatProgress(value=0.0, max=472.0), HTML(value='')))"
      ]
     },
     "metadata": {},
     "output_type": "display_data"
    },
    {
     "name": "stdout",
     "output_type": "stream",
     "text": [
      "\n",
      "Validation completed for epoch: 15\n",
      "Time for validation: 2.8662829399108887\n",
      "Accuracy: 0.07004766949152542\n",
      "\n",
      "\n",
      "-------------\n",
      "EPOCH: 16\n",
      "Training started for epoch: 16\n"
     ]
    },
    {
     "data": {
      "application/vnd.jupyter.widget-view+json": {
       "model_id": "4ddf914f58804dfb97c4be2a86818d65",
       "version_major": 2,
       "version_minor": 0
      },
      "text/plain": [
       "HBox(children=(FloatProgress(value=0.0, max=1888.0), HTML(value='')))"
      ]
     },
     "metadata": {},
     "output_type": "display_data"
    },
    {
     "name": "stdout",
     "output_type": "stream",
     "text": [
      "\n",
      "Training completed for epoch: 16\n",
      "Time for train: 20.002819061279297\n",
      "Accuracy: 0.0793994968220339\n",
      "Validation started for epoch: 16\n"
     ]
    },
    {
     "data": {
      "application/vnd.jupyter.widget-view+json": {
       "model_id": "9c72e3548b174b8a9c682add8f19f52d",
       "version_major": 2,
       "version_minor": 0
      },
      "text/plain": [
       "HBox(children=(FloatProgress(value=0.0, max=472.0), HTML(value='')))"
      ]
     },
     "metadata": {},
     "output_type": "display_data"
    },
    {
     "name": "stdout",
     "output_type": "stream",
     "text": [
      "\n",
      "Validation completed for epoch: 16\n",
      "Time for validation: 2.8296494483947754\n",
      "Accuracy: 0.06554555084745763\n",
      "\n",
      "\n",
      "-------------\n",
      "EPOCH: 17\n",
      "Training started for epoch: 17\n"
     ]
    },
    {
     "data": {
      "application/vnd.jupyter.widget-view+json": {
       "model_id": "f5ef23fb65864cc39a9e2350d2c998d0",
       "version_major": 2,
       "version_minor": 0
      },
      "text/plain": [
       "HBox(children=(FloatProgress(value=0.0, max=1888.0), HTML(value='')))"
      ]
     },
     "metadata": {},
     "output_type": "display_data"
    },
    {
     "name": "stdout",
     "output_type": "stream",
     "text": [
      "\n",
      "Training completed for epoch: 17\n",
      "Time for train: 20.57882332801819\n",
      "Accuracy: 0.07867121292372882\n",
      "Validation started for epoch: 17\n"
     ]
    },
    {
     "data": {
      "application/vnd.jupyter.widget-view+json": {
       "model_id": "f74c130040b549949bf9b39cb703c328",
       "version_major": 2,
       "version_minor": 0
      },
      "text/plain": [
       "HBox(children=(FloatProgress(value=0.0, max=472.0), HTML(value='')))"
      ]
     },
     "metadata": {},
     "output_type": "display_data"
    },
    {
     "name": "stdout",
     "output_type": "stream",
     "text": [
      "\n",
      "Validation completed for epoch: 17\n",
      "Time for validation: 2.633390426635742\n",
      "Accuracy: 0.06892213983050847\n",
      "\n",
      "\n",
      "-------------\n",
      "EPOCH: 18\n",
      "Training started for epoch: 18\n"
     ]
    },
    {
     "data": {
      "application/vnd.jupyter.widget-view+json": {
       "model_id": "cbafa378c0ab49fcb82a10844ecb9df6",
       "version_major": 2,
       "version_minor": 0
      },
      "text/plain": [
       "HBox(children=(FloatProgress(value=0.0, max=1888.0), HTML(value='')))"
      ]
     },
     "metadata": {},
     "output_type": "display_data"
    },
    {
     "name": "stdout",
     "output_type": "stream",
     "text": [
      "\n",
      "Training completed for epoch: 18\n",
      "Time for train: 19.756945610046387\n",
      "Accuracy: 0.0802436440677966\n",
      "Validation started for epoch: 18\n"
     ]
    },
    {
     "data": {
      "application/vnd.jupyter.widget-view+json": {
       "model_id": "9f57368154ca430ab4f40048aa5c9cd6",
       "version_major": 2,
       "version_minor": 0
      },
      "text/plain": [
       "HBox(children=(FloatProgress(value=0.0, max=472.0), HTML(value='')))"
      ]
     },
     "metadata": {},
     "output_type": "display_data"
    },
    {
     "name": "stdout",
     "output_type": "stream",
     "text": [
      "\n",
      "Validation completed for epoch: 18\n",
      "Time for validation: 2.816073417663574\n",
      "Accuracy: 0.06938559322033898\n",
      "\n",
      "\n",
      "-------------\n",
      "EPOCH: 19\n",
      "Training started for epoch: 19\n"
     ]
    },
    {
     "data": {
      "application/vnd.jupyter.widget-view+json": {
       "model_id": "594711e3524e49b6b0768d75767a46ed",
       "version_major": 2,
       "version_minor": 0
      },
      "text/plain": [
       "HBox(children=(FloatProgress(value=0.0, max=1888.0), HTML(value='')))"
      ]
     },
     "metadata": {},
     "output_type": "display_data"
    },
    {
     "name": "stdout",
     "output_type": "stream",
     "text": [
      "\n",
      "Training completed for epoch: 19\n",
      "Time for train: 20.01101541519165\n",
      "Accuracy: 0.07997881355932203\n",
      "Validation started for epoch: 19\n"
     ]
    },
    {
     "data": {
      "application/vnd.jupyter.widget-view+json": {
       "model_id": "a1240ebd27c64a379e3a257cc15f609a",
       "version_major": 2,
       "version_minor": 0
      },
      "text/plain": [
       "HBox(children=(FloatProgress(value=0.0, max=472.0), HTML(value='')))"
      ]
     },
     "metadata": {},
     "output_type": "display_data"
    },
    {
     "name": "stdout",
     "output_type": "stream",
     "text": [
      "\n",
      "Validation completed for epoch: 19\n",
      "Time for validation: 2.6289048194885254\n",
      "Accuracy: 0.07004766949152542\n",
      "\n",
      "\n",
      "-------------\n",
      "EPOCH: 20\n",
      "Training started for epoch: 20\n"
     ]
    },
    {
     "data": {
      "application/vnd.jupyter.widget-view+json": {
       "model_id": "3d1d3af7207b4a15b21b23ceefb14b30",
       "version_major": 2,
       "version_minor": 0
      },
      "text/plain": [
       "HBox(children=(FloatProgress(value=0.0, max=1888.0), HTML(value='')))"
      ]
     },
     "metadata": {},
     "output_type": "display_data"
    },
    {
     "name": "stdout",
     "output_type": "stream",
     "text": [
      "\n",
      "Training completed for epoch: 20\n",
      "Time for train: 19.896791458129883\n",
      "Accuracy: 0.07920087394067797\n",
      "Validation started for epoch: 20\n"
     ]
    },
    {
     "data": {
      "application/vnd.jupyter.widget-view+json": {
       "model_id": "ae45ed71ebf24ad49285cc54cbc1c1dd",
       "version_major": 2,
       "version_minor": 0
      },
      "text/plain": [
       "HBox(children=(FloatProgress(value=0.0, max=472.0), HTML(value='')))"
      ]
     },
     "metadata": {},
     "output_type": "display_data"
    },
    {
     "name": "stdout",
     "output_type": "stream",
     "text": [
      "\n",
      "Validation completed for epoch: 20\n",
      "Time for validation: 2.7321062088012695\n",
      "Accuracy: 0.06951800847457627\n",
      "\n",
      "\n",
      "-------------\n",
      "EPOCH: 21\n",
      "Training started for epoch: 21\n"
     ]
    },
    {
     "data": {
      "application/vnd.jupyter.widget-view+json": {
       "model_id": "1c46341306ec4e9bbab5dfd1646551a0",
       "version_major": 2,
       "version_minor": 0
      },
      "text/plain": [
       "HBox(children=(FloatProgress(value=0.0, max=1888.0), HTML(value='')))"
      ]
     },
     "metadata": {},
     "output_type": "display_data"
    },
    {
     "name": "stdout",
     "output_type": "stream",
     "text": [
      "\n",
      "Training completed for epoch: 21\n",
      "Time for train: 20.30145764350891\n",
      "Accuracy: 0.07933328919491525\n",
      "Validation started for epoch: 21\n"
     ]
    },
    {
     "data": {
      "application/vnd.jupyter.widget-view+json": {
       "model_id": "8c30cdf1b60e4980bd65fd258fd3777f",
       "version_major": 2,
       "version_minor": 0
      },
      "text/plain": [
       "HBox(children=(FloatProgress(value=0.0, max=472.0), HTML(value='')))"
      ]
     },
     "metadata": {},
     "output_type": "display_data"
    },
    {
     "name": "stdout",
     "output_type": "stream",
     "text": [
      "\n",
      "Validation completed for epoch: 21\n",
      "Time for validation: 2.654409646987915\n",
      "Accuracy: 0.0668697033898305\n",
      "\n",
      "\n",
      "-------------\n",
      "EPOCH: 22\n",
      "Training started for epoch: 22\n"
     ]
    },
    {
     "data": {
      "application/vnd.jupyter.widget-view+json": {
       "model_id": "ab304ddba4bd41de897874a3deb8e07c",
       "version_major": 2,
       "version_minor": 0
      },
      "text/plain": [
       "HBox(children=(FloatProgress(value=0.0, max=1888.0), HTML(value='')))"
      ]
     },
     "metadata": {},
     "output_type": "display_data"
    },
    {
     "name": "stdout",
     "output_type": "stream",
     "text": [
      "\n",
      "Training completed for epoch: 22\n",
      "Time for train: 19.699347972869873\n",
      "Accuracy: 0.08047537076271187\n",
      "Validation started for epoch: 22\n"
     ]
    },
    {
     "data": {
      "application/vnd.jupyter.widget-view+json": {
       "model_id": "f22c474e4d46473fb1fa3221785a75ad",
       "version_major": 2,
       "version_minor": 0
      },
      "text/plain": [
       "HBox(children=(FloatProgress(value=0.0, max=472.0), HTML(value='')))"
      ]
     },
     "metadata": {},
     "output_type": "display_data"
    },
    {
     "name": "stdout",
     "output_type": "stream",
     "text": [
      "\n",
      "Validation completed for epoch: 22\n",
      "Time for validation: 2.6149845123291016\n",
      "Accuracy: 0.06859110169491525\n",
      "\n",
      "\n",
      "-------------\n",
      "EPOCH: 23\n",
      "Training started for epoch: 23\n"
     ]
    },
    {
     "data": {
      "application/vnd.jupyter.widget-view+json": {
       "model_id": "d1c0f25906ee4c11bc319884133051cb",
       "version_major": 2,
       "version_minor": 0
      },
      "text/plain": [
       "HBox(children=(FloatProgress(value=0.0, max=1888.0), HTML(value='')))"
      ]
     },
     "metadata": {},
     "output_type": "display_data"
    },
    {
     "name": "stdout",
     "output_type": "stream",
     "text": [
      "\n",
      "Training completed for epoch: 23\n",
      "Time for train: 19.67949151992798\n",
      "Accuracy: 0.0812202065677966\n",
      "Validation started for epoch: 23\n"
     ]
    },
    {
     "data": {
      "application/vnd.jupyter.widget-view+json": {
       "model_id": "eea52b48681f4177acb4fddb5300bc42",
       "version_major": 2,
       "version_minor": 0
      },
      "text/plain": [
       "HBox(children=(FloatProgress(value=0.0, max=472.0), HTML(value='')))"
      ]
     },
     "metadata": {},
     "output_type": "display_data"
    },
    {
     "name": "stdout",
     "output_type": "stream",
     "text": [
      "\n",
      "Validation completed for epoch: 23\n",
      "Time for validation: 2.6167209148406982\n",
      "Accuracy: 0.06931938559322035\n",
      "\n",
      "\n",
      "-------------\n",
      "EPOCH: 24\n",
      "Training started for epoch: 24\n"
     ]
    },
    {
     "data": {
      "application/vnd.jupyter.widget-view+json": {
       "model_id": "71237f9aa36b4003891430a046468962",
       "version_major": 2,
       "version_minor": 0
      },
      "text/plain": [
       "HBox(children=(FloatProgress(value=0.0, max=1888.0), HTML(value='')))"
      ]
     },
     "metadata": {},
     "output_type": "display_data"
    },
    {
     "name": "stdout",
     "output_type": "stream",
     "text": [
      "\n",
      "Training completed for epoch: 24\n",
      "Time for train: 19.503061056137085\n",
      "Accuracy: 0.0799126059322034\n",
      "Validation started for epoch: 24\n"
     ]
    },
    {
     "data": {
      "application/vnd.jupyter.widget-view+json": {
       "model_id": "f59edbfa28eb46878624f925ca90e6c2",
       "version_major": 2,
       "version_minor": 0
      },
      "text/plain": [
       "HBox(children=(FloatProgress(value=0.0, max=472.0), HTML(value='')))"
      ]
     },
     "metadata": {},
     "output_type": "display_data"
    },
    {
     "name": "stdout",
     "output_type": "stream",
     "text": [
      "\n",
      "Validation completed for epoch: 24\n",
      "Time for validation: 2.7225053310394287\n",
      "Accuracy: 0.06905455508474577\n",
      "\n",
      "\n",
      "-------------\n",
      "EPOCH: 25\n",
      "Training started for epoch: 25\n"
     ]
    },
    {
     "data": {
      "application/vnd.jupyter.widget-view+json": {
       "model_id": "2d00555924ab4caeb24f409e10c95e82",
       "version_major": 2,
       "version_minor": 0
      },
      "text/plain": [
       "HBox(children=(FloatProgress(value=0.0, max=1888.0), HTML(value='')))"
      ]
     },
     "metadata": {},
     "output_type": "display_data"
    },
    {
     "name": "stdout",
     "output_type": "stream",
     "text": [
      "\n",
      "Training completed for epoch: 25\n",
      "Time for train: 19.719985723495483\n",
      "Accuracy: 0.08196504237288135\n",
      "Validation started for epoch: 25\n"
     ]
    },
    {
     "data": {
      "application/vnd.jupyter.widget-view+json": {
       "model_id": "f29815c7fb214da58f855f92c32c1549",
       "version_major": 2,
       "version_minor": 0
      },
      "text/plain": [
       "HBox(children=(FloatProgress(value=0.0, max=472.0), HTML(value='')))"
      ]
     },
     "metadata": {},
     "output_type": "display_data"
    },
    {
     "name": "stdout",
     "output_type": "stream",
     "text": [
      "\n",
      "Validation completed for epoch: 25\n",
      "Time for validation: 2.7200005054473877\n",
      "Accuracy: 0.06786281779661017\n",
      "\n",
      "\n",
      "-------------\n",
      "EPOCH: 26\n",
      "Training started for epoch: 26\n"
     ]
    },
    {
     "data": {
      "application/vnd.jupyter.widget-view+json": {
       "model_id": "f212c66d80af44ce91fefd690e65b3a3",
       "version_major": 2,
       "version_minor": 0
      },
      "text/plain": [
       "HBox(children=(FloatProgress(value=0.0, max=1888.0), HTML(value='')))"
      ]
     },
     "metadata": {},
     "output_type": "display_data"
    },
    {
     "name": "stdout",
     "output_type": "stream",
     "text": [
      "\n",
      "Training completed for epoch: 26\n",
      "Time for train: 19.88396668434143\n",
      "Accuracy: 0.080078125\n",
      "Validation started for epoch: 26\n"
     ]
    },
    {
     "data": {
      "application/vnd.jupyter.widget-view+json": {
       "model_id": "822ff72b0ac94e5cafdece277a396bd0",
       "version_major": 2,
       "version_minor": 0
      },
      "text/plain": [
       "HBox(children=(FloatProgress(value=0.0, max=472.0), HTML(value='')))"
      ]
     },
     "metadata": {},
     "output_type": "display_data"
    },
    {
     "name": "stdout",
     "output_type": "stream",
     "text": [
      "\n",
      "Validation completed for epoch: 26\n",
      "Time for validation: 2.8305695056915283\n",
      "Accuracy: 0.07057733050847458\n",
      "\n",
      "\n",
      "-------------\n",
      "EPOCH: 27\n",
      "Training started for epoch: 27\n"
     ]
    },
    {
     "data": {
      "application/vnd.jupyter.widget-view+json": {
       "model_id": "07558018286b48a3a5e6d31ec006db2b",
       "version_major": 2,
       "version_minor": 0
      },
      "text/plain": [
       "HBox(children=(FloatProgress(value=0.0, max=1888.0), HTML(value='')))"
      ]
     },
     "metadata": {},
     "output_type": "display_data"
    },
    {
     "name": "stdout",
     "output_type": "stream",
     "text": [
      "\n",
      "Training completed for epoch: 27\n",
      "Time for train: 19.638548374176025\n",
      "Accuracy: 0.08077330508474577\n",
      "Validation started for epoch: 27\n"
     ]
    },
    {
     "data": {
      "application/vnd.jupyter.widget-view+json": {
       "model_id": "bcee94e042904275918395ca7fbce53b",
       "version_major": 2,
       "version_minor": 0
      },
      "text/plain": [
       "HBox(children=(FloatProgress(value=0.0, max=472.0), HTML(value='')))"
      ]
     },
     "metadata": {},
     "output_type": "display_data"
    },
    {
     "name": "stdout",
     "output_type": "stream",
     "text": [
      "\n",
      "Validation completed for epoch: 27\n",
      "Time for validation: 2.5879011154174805\n",
      "Accuracy: 0.07037870762711865\n",
      "\n",
      "\n",
      "-------------\n",
      "EPOCH: 28\n",
      "Training started for epoch: 28\n"
     ]
    },
    {
     "data": {
      "application/vnd.jupyter.widget-view+json": {
       "model_id": "407aca09b853423eabe6e74e5f274629",
       "version_major": 2,
       "version_minor": 0
      },
      "text/plain": [
       "HBox(children=(FloatProgress(value=0.0, max=1888.0), HTML(value='')))"
      ]
     },
     "metadata": {},
     "output_type": "display_data"
    },
    {
     "name": "stdout",
     "output_type": "stream",
     "text": [
      "\n",
      "Training completed for epoch: 28\n",
      "Time for train: 19.852992296218872\n",
      "Accuracy: 0.08042571504237288\n",
      "Validation started for epoch: 28\n"
     ]
    },
    {
     "data": {
      "application/vnd.jupyter.widget-view+json": {
       "model_id": "d158a92a42b044428f63f2c4567a70aa",
       "version_major": 2,
       "version_minor": 0
      },
      "text/plain": [
       "HBox(children=(FloatProgress(value=0.0, max=472.0), HTML(value='')))"
      ]
     },
     "metadata": {},
     "output_type": "display_data"
    },
    {
     "name": "stdout",
     "output_type": "stream",
     "text": [
      "\n",
      "Validation completed for epoch: 28\n",
      "Time for validation: 2.7555224895477295\n",
      "Accuracy: 0.0701800847457627\n",
      "\n",
      "\n",
      "-------------\n",
      "EPOCH: 29\n",
      "Training started for epoch: 29\n"
     ]
    },
    {
     "data": {
      "application/vnd.jupyter.widget-view+json": {
       "model_id": "50487bb30bbc41108073e00b80ed7b48",
       "version_major": 2,
       "version_minor": 0
      },
      "text/plain": [
       "HBox(children=(FloatProgress(value=0.0, max=1888.0), HTML(value='')))"
      ]
     },
     "metadata": {},
     "output_type": "display_data"
    },
    {
     "name": "stdout",
     "output_type": "stream",
     "text": [
      "\n",
      "Training completed for epoch: 29\n",
      "Time for train: 19.622343063354492\n",
      "Accuracy: 0.08130296610169492\n",
      "Validation started for epoch: 29\n"
     ]
    },
    {
     "data": {
      "application/vnd.jupyter.widget-view+json": {
       "model_id": "014541d674534ba8a424346a2bf7d3cf",
       "version_major": 2,
       "version_minor": 0
      },
      "text/plain": [
       "HBox(children=(FloatProgress(value=0.0, max=472.0), HTML(value='')))"
      ]
     },
     "metadata": {},
     "output_type": "display_data"
    },
    {
     "name": "stdout",
     "output_type": "stream",
     "text": [
      "\n",
      "Validation completed for epoch: 29\n",
      "Time for validation: 2.5883493423461914\n",
      "Accuracy: 0.0680614406779661\n",
      "\n",
      "\n",
      "-------------\n",
      "EPOCH: 30\n",
      "Training started for epoch: 30\n"
     ]
    },
    {
     "data": {
      "application/vnd.jupyter.widget-view+json": {
       "model_id": "ef41c92be92747adb37ea07d08803a9e",
       "version_major": 2,
       "version_minor": 0
      },
      "text/plain": [
       "HBox(children=(FloatProgress(value=0.0, max=1888.0), HTML(value='')))"
      ]
     },
     "metadata": {},
     "output_type": "display_data"
    },
    {
     "name": "stdout",
     "output_type": "stream",
     "text": [
      "\n",
      "Training completed for epoch: 30\n",
      "Time for train: 19.516602039337158\n",
      "Accuracy: 0.08069054555084745\n",
      "Validation started for epoch: 30\n"
     ]
    },
    {
     "data": {
      "application/vnd.jupyter.widget-view+json": {
       "model_id": "a05c5596471b453ab632678705eb7fd1",
       "version_major": 2,
       "version_minor": 0
      },
      "text/plain": [
       "HBox(children=(FloatProgress(value=0.0, max=472.0), HTML(value='')))"
      ]
     },
     "metadata": {},
     "output_type": "display_data"
    },
    {
     "name": "stdout",
     "output_type": "stream",
     "text": [
      "\n",
      "Validation completed for epoch: 30\n",
      "Time for validation: 3.0122408866882324\n",
      "Accuracy: 0.07070974576271187\n"
     ]
    }
   ],
   "source": [
    "#running epochs for training and validation\n",
    "HIDDEN_DIM = 128\n",
    "EPOCHS = 30\n",
    "minibatch_size = 32\n",
    "\n",
    "#device config\n",
    "device = torch.device(\"cuda:0\" if torch.cuda.is_available() else \"cpu\")\n",
    "\n",
    "#Creating models\n",
    "model = FFNN3(WORDEMBSIZE, HIDDEN_DIM, 15)\n",
    "model#.to(device)\n",
    "\n",
    "#Choose Loss Function and Optimizer\n",
    "criterion = nn.CrossEntropyLoss()\n",
    "optimizer = torch.optim.Adam(model.parameters(), lr=.001)\n",
    "\n",
    "#Train Model\n",
    "\n",
    "train_loss = []\n",
    "train_acc = []\n",
    "test_loss = []\n",
    "test_acc = []\n",
    "for epoch in range(EPOCHS):\n",
    "    print(\"\\n\\n-------------\")\n",
    "    print(\"EPOCH: {}\".format(epoch + 1))\n",
    "    print(\"Training started for epoch: {}\".format(epoch + 1))\n",
    "    X_train, y_train = shuffle(X_train, y_train)\n",
    "    start_time = time.time()\n",
    "    correct = total = 0\n",
    "    running_loss = 0.0\n",
    "    N = len(y_train)\n",
    "    optimizer.zero_grad()\n",
    "    \n",
    "    for minibatch_idx in tqdm(range(N // minibatch_size)):\n",
    "        optimizer.zero_grad()\n",
    "        loss = None\n",
    "        \n",
    "        for idx in range(minibatch_size):\n",
    "            text = X_train[minibatch_idx * minibatch_size + idx]\n",
    "            text = torch.unsqueeze(text, 1)\n",
    "            text = text#.to(device)\n",
    "            \n",
    "            labelIdx = y_train[minibatch_idx * minibatch_size + idx]\n",
    "            \n",
    "            outputs = model(text)\n",
    "            outputs#.to(device)\n",
    "            labels = torch.tensor([labelIdx])\n",
    "            labels = labels#.to(device)\n",
    "            \n",
    "            text_loss = criterion(outputs.view(1,-1), labels)\n",
    "            running_loss += text_loss\n",
    "            if loss is None:\n",
    "                loss = text_loss\n",
    "            else:\n",
    "                loss += text_loss\n",
    "            pred_label = torch.argmax(outputs)\n",
    "            correct += int(pred_label == labelIdx)\n",
    "            total += 1\n",
    "        loss = loss / minibatch_size\n",
    "        optimizer.zero_grad()\n",
    "        loss.backward()\n",
    "        optimizer.step()\n",
    "    train_loss.append(running_loss / N)\n",
    "    train_acc.append(correct / total)\n",
    "    print(\"Training completed for epoch: {}\".format(epoch + 1))\n",
    "    print(\"Time for train: {}\".format(time.time() - start_time))\n",
    "    print(\"Accuracy: {}\".format(correct / total))\n",
    "    \n",
    "    #validation\n",
    "    running_loss = 0.0\n",
    "    print(\"Validation started for epoch: {}\".format(epoch + 1))\n",
    "    X_test, y_test = shuffle(X_test, y_test)\n",
    "    start_time = time.time()\n",
    "    correct = total = 0\n",
    "    N = len(y_test)\n",
    "    for minibatch_idx in tqdm(range(N // minibatch_size)):\n",
    "        optimizer.zero_grad()\n",
    "        for idx in range(minibatch_size):\n",
    "            text = X_test[minibatch_idx * minibatch_size + idx]\n",
    "            text = torch.unsqueeze(text, 1)\n",
    "            labelIdx = y_test[minibatch_idx * minibatch_size + idx]\n",
    "            \n",
    "            outputs = model(text)\n",
    "            text_loss = criterion(outputs.view(1,-1), torch.tensor([labelIdx]))\n",
    "            running_loss += text_loss\n",
    "            pred_label = torch.argmax(outputs)\n",
    "            correct += int(pred_label == labelIdx)\n",
    "            total += 1\n",
    "    test_loss.append(running_loss / N)\n",
    "    test_acc.append(correct / total)\n",
    "    print(\"Validation completed for epoch: {}\".format(epoch + 1))\n",
    "    print(\"Time for validation: {}\".format(time.time() - start_time))\n",
    "    print(\"Accuracy: {}\".format(correct / total))"
   ]
  },
  {
   "cell_type": "code",
   "execution_count": 84,
   "metadata": {},
   "outputs": [
    {
     "data": {
      "image/png": "[encoded data removed]",
      "text/plain": [
       "<Figure size 432x288 with 1 Axes>"
      ]
     },
     "metadata": {
      "needs_background": "light"
     },
     "output_type": "display_data"
    },
    {
     "data": {
      "image/png": "[encoded data removed]",
      "text/plain": [
       "<Figure size 432x288 with 1 Axes>"
      ]
     },
     "metadata": {
      "needs_background": "light"
     },
     "output_type": "display_data"
    }
   ],
   "source": [
    "plt.plot(train_loss, label='train loss')\n",
    "plt.plot(test_loss, label='test loss')\n",
    "plt.legend()\n",
    "plt.show()\n",
    "\n",
    "plt.plot(train_acc, label='train acc')\n",
    "plt.plot(test_acc, label='test acc')\n",
    "plt.legend()\n",
    "plt.show()"
   ]
  },
  {
   "cell_type": "code",
   "execution_count": null,
   "metadata": {},
   "outputs": [],
   "source": []
  }
 ],
 "metadata": {
  "kernelspec": {
   "display_name": "Python 3",
   "language": "python",
   "name": "python3"
  },
  "language_info": {
   "codemirror_mode": {
    "name": "ipython",
    "version": 3
   },
   "file_extension": ".py",
   "mimetype": "text/x-python",
   "name": "python",
   "nbconvert_exporter": "python",
   "pygments_lexer": "ipython3",
   "version": "3.8.3"
  }
 },
 "nbformat": 4,
 "nbformat_minor": 4
}
