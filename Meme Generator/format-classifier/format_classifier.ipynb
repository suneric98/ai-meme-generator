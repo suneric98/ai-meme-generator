{
 "cells": [
  {
   "cell_type": "code",
   "execution_count": 10,
   "metadata": {},
   "outputs": [],
   "source": [
    "import json\n",
    "import time\n",
    "import pandas as pd\n",
    "from collections import Counter"
   ]
  },
  {
   "cell_type": "code",
   "execution_count": 6,
   "metadata": {
    "scrolled": true
   },
   "outputs": [
    {
     "name": "stdout",
     "output_type": "stream",
     "text": [
      "          ID                   Name  \\\n",
      "0  112126428   Distracted Boyfriend   \n",
      "1     438680  Batman Slapping Robin   \n",
      "2   87743020            Two Buttons   \n",
      "3  181913649    Drake Hotline Bling   \n",
      "4      61579    One Does Not Simply   \n",
      "\n",
      "                                     Alternate Names  \n",
      "0  distracted bf, guy checking out another girl, ...  \n",
      "1                                                NaN  \n",
      "2  2 red buttons, choice button, which button, da...  \n",
      "3  drakeposting, drakepost, drake hotline approve...  \n",
      "4  one does not simply walk into morder, lord of ...  \n"
     ]
    }
   ],
   "source": [
    "TOP_100_PATH = '../data/popular_100_memes.csv'\n",
    "TOP_100 = pd.read_csv(TOP_100_PATH, encoding = \"ISO-8859-1\")\n",
    "\n",
    "STATS_PATH = '../data/statistics.json'\n",
    "with open(STATS_PATH, 'r') as f:\n",
    "    STATS = json.load(f)\n",
    "print(TOP_100.head())"
   ]
  },
  {
   "cell_type": "code",
   "execution_count": 14,
   "metadata": {
    "scrolled": true
   },
   "outputs": [
    {
     "name": "stdout",
     "output_type": "stream",
     "text": [
      "Bad-Luck-Brian.json 32141\n",
      "One-Does-Not-Simply.json 26186\n",
      "Philosoraptor.json 19971\n",
      "Boardroom-Meeting-Suggestion.json 18164\n",
      "Futurama-Fry.json 17325\n",
      "First-World-Problems.json 17272\n",
      "The-Most-Interesting-Man-In-The-World.json 15850\n",
      "Batman-Slapping-Robin.json 14802\n",
      "Bad-Pun-Dog.json 13194\n",
      "X-X-Everywhere.json 12985\n",
      "Expanding-Brain.json 12826\n",
      "Two-Buttons.json 12232\n",
      "But-Thats-None-Of-My-Business.json 11097\n",
      "Ancient-Aliens.json 10555\n",
      "Creepy-Condescending-Wonka.json 10374\n",
      "Grumpy-Cat.json 9569\n",
      "Y-U-No.json 9370\n",
      "The-Rock-Driving.json 9286\n",
      "That-Would-Be-Great.json 8600\n",
      "Waiting-Skeleton.json 8592\n",
      "Change-My-Mind.json 8563\n",
      "Leonardo-Dicaprio-Cheers.json 8377\n",
      "10-Guy.json 8258\n",
      "Captain-Picard-Facepalm.json 8105\n",
      "Matrix-Morpheus.json 7833\n",
      "Third-World-Skeptical-Kid.json 7782\n",
      "Confession-Bear.json 7778\n",
      "Am-I-The-Only-One-Around-Here.json 7291\n",
      "Success-Kid.json 7074\n",
      "Hide-the-Pain-Harold.json 6973\n",
      "Roll-Safe-Think-About-It.json 6948\n",
      "Evil-Toddler.json 6106\n",
      "Awkward-Moment-Sealion.json 6101\n",
      "Face-You-Make-Robert-Downey-Jr.json 6100\n",
      "Mocking-Spongebob.json 5795\n",
      "Disaster-Girl.json 5742\n",
      "Blank-Nut-Button.json 5714\n",
      "Dont-You-Squidward.json 5599\n",
      "Inhaling-Seagull.json 5539\n",
      "Back-In-My-Day.json 5374\n",
      "Grandma-Finds-The-Internet.json 5160\n",
      "Brace-Yourselves-X-is-Coming.json 5029\n",
      "Conspiracy-Keanu.json 4739\n",
      "Picard-Wtf.json 4640\n",
      "Woman-Yelling-At-Cat.json 4604\n",
      "And-everybody-loses-their-minds.json 4464\n",
      "Ill-Just-Wait-Here.json 4419\n",
      "The-Scroll-Of-Truth.json 4389\n",
      "Left-Exit-12-Off-Ramp.json 4319\n",
      "Unsettled-Tom.json 4101\n",
      "Black-Girl-Wat.json 4010\n",
      "Finding-Neverland.json 3874\n",
      "Third-World-Success-Kid.json 3758\n",
      "Surprised-Pikachu.json 3507\n",
      "Skeptical-Baby.json 3368\n",
      "Doge.json 3323\n",
      "Jack-Sparrow-Being-Chased.json 3313\n",
      "Is-This-A-Pigeon.json 3247\n",
      "Running-Away-Balloon.json 3194\n",
      "X-All-The-Y.json 3119\n",
      "Put-It-Somewhere-Else-Patrick.json 3089\n",
      "Scumbag-Steve.json 2997\n",
      "Too-Damn-High.json 2875\n",
      "Star-Wars-Yoda.json 2753\n",
      "Be-Like-Bill.json 2743\n",
      "Drake-Hotline-Bling.json 2690\n",
      "Tuxedo-Winnie-The-Pooh.json 2558\n",
      "Aaaaand-Its-Gone.json 2557\n",
      "Laughing-Men-In-Suits.json 2515\n",
      "American-Chopper-Argument.json 2468\n",
      "Say-That-Again-I-Dare-You.json 2433\n",
      "Aint-Nobody-Got-Time-For-That.json 2378\n",
      "Evil-Kermit.json 2335\n",
      "Sparta-Leonidas.json 2201\n",
      "Oprah-You-Get-A.json 2137\n",
      "Maury-Lie-Detector.json 2125\n",
      "Dr-Evil-Laser.json 2103\n",
      "Mugatu-So-Hot-Right-Now.json 2006\n",
      "This-Is-Where-Id-Put-My-Trophy-If-I-Had-One.json 1899\n",
      "Trump-Bill-Signing.json 1726\n",
      "Yall-Got-Any-More-Of-That.json 1719\n",
      "See-Nobody-Cares.json 1655\n",
      "Yo-Dawg-Heard-You.json 1520\n",
      "I-Should-Buy-A-Boat-Cat.json 1435\n",
      "Spongebob-Ight-Imma-Head-Out.json 1404\n",
      "Imagination-Spongebob.json 1390\n",
      "Marked-Safe-From.json 1308\n",
      "Steve-Harvey.json 1304\n",
      "Hard-To-Swallow-Pills.json 1135\n",
      "Who-Would-Win.json 1131\n",
      "Who-Killed-Hannibal.json 1008\n",
      "Uncle-Sam.json 1007\n",
      "UNO-Draw-25-Cards.json 800\n",
      "Archer.json 695\n",
      "Epic-Handshake.json 473\n",
      "Look-At-Me.json 392\n",
      "Bernie-I-Am-Once-Again-Asking-For-Your-Support.json 347\n",
      "Monkey-Puppet.json 341\n",
      "Sad-Pablo-Escobar.json 276\n"
     ]
    }
   ],
   "source": [
    "memes_count = Counter(STATS['memes'])\n",
    "for f, c in memes_count.most_common():\n",
    "    print(f, c)"
   ]
  },
  {
   "cell_type": "code",
   "execution_count": null,
   "metadata": {},
   "outputs": [],
   "source": []
  }
 ],
 "metadata": {
  "kernelspec": {
   "display_name": "Python 3",
   "language": "python",
   "name": "python3"
  },
  "language_info": {
   "codemirror_mode": {
    "name": "ipython",
    "version": 3
   },
   "file_extension": ".py",
   "mimetype": "text/x-python",
   "name": "python",
   "nbconvert_exporter": "python",
   "pygments_lexer": "ipython3",
   "version": "3.7.1"
  }
 },
 "nbformat": 4,
 "nbformat_minor": 4
}
