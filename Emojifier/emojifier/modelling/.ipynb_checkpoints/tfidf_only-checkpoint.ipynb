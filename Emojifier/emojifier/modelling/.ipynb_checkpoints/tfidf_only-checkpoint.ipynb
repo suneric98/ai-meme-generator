{
 "cells": [
  {
   "cell_type": "code",
   "execution_count": 1,
   "metadata": {},
   "outputs": [],
   "source": [
    "import pandas as pd\n",
    "import numpy as np\n",
    "import nltk\n",
    "import string\n",
    "import re\n",
    "import emoji\n",
    "import torch\n",
    "import json\n",
    "import time\n",
    "\n",
    "from sklearn.utils import shuffle\n",
    "from gensim.models import Word2Vec\n",
    "from sklearn.feature_extraction.text import TfidfVectorizer\n",
    "from sklearn.ensemble import RandomForestClassifier\n",
    "from sklearn.model_selection import cross_val_score\n",
    "from sklearn.model_selection import train_test_split\n",
    "import matplotlib.pyplot as plt\n",
    "\n",
    "from sklearn.linear_model import SGDClassifier\n",
    "from sklearn.model_selection import GridSearchCV\n",
    "from sklearn.pipeline import Pipeline\n",
    "from sklearn.metrics import accuracy_score\n",
    "from joblib import dump, load"
   ]
  },
  {
   "cell_type": "code",
   "execution_count": 2,
   "metadata": {},
   "outputs": [
    {
     "name": "stdout",
     "output_type": "stream",
     "text": [
      "Tweets\n",
      "['💫 IT’S BURGER MONDAY, CBUS! 💫 Order any Gourmet Burger with a draft beer 🍔🍺 ifor just $9.99 when you dine in. 💪 Cer…', 'Stay strong 💪 You are an amazing man. I appreciate the truth that is told.', 'Code Sale Awesome from Styli 💪']\n",
      "122179\n",
      "Chosen emojis\n",
      "['😂', '😍', '😭', '😊', '💕', '😒', '😉', '👌', '👍', '🙏', '👀', '🔥', '💯', '👏', '💪']\n",
      "15\n"
     ]
    }
   ],
   "source": [
    "# getting the twitter comments\n",
    "DATA_PATH = '../data/twitter-data-cleaned.txt'\n",
    "with open(DATA_PATH, 'r',  encoding=\"utf-8\") as f:\n",
    "    data = f.readlines()\n",
    "data = [d.strip() for d in data if d.strip() != '']\n",
    "print('Tweets')\n",
    "print(data[:3])\n",
    "print(len(data))\n",
    "\n",
    "# getting our chosen emojis\n",
    "SELECTED_EMOJIS_PATH = '../data/best-emojis.json'\n",
    "with open(SELECTED_EMOJIS_PATH, 'r') as f:\n",
    "    EMOJIS = json.load(f)\n",
    "EMOJI_CHARS = [e['char'] for e in EMOJIS]\n",
    "print('Chosen emojis')\n",
    "print(EMOJI_CHARS)\n",
    "print(len(EMOJI_CHARS))\n",
    "\n",
    "ALL_EMOJIS = set(emoji.emojize(emoji_code) for emoji_code in emoji.UNICODE_EMOJI.values())"
   ]
  },
  {
   "cell_type": "code",
   "execution_count": 3,
   "metadata": {
    "scrolled": true
   },
   "outputs": [
    {
     "name": "stdout",
     "output_type": "stream",
     "text": [
      "😂\n",
      "8435\n",
      "[['go', 'lol', 'postmen', 'familiar', 'face'], ['bollywood', 'reality'], ['got', 'even', 'though', 'debates', 'blasphemy'], ['got', 'even', 'though', 'debates', 'blasphemy'], ['game', 'strong'], ['game', 'strong'], ['add', 'head', 'rub', 'razzle', 'dazzle'], ['idea', 'silly', 'google', 'hang', 'santa'], ['sticks', 'stones', 'may', 'break', 'bones'], ['im', 'snowflake', 'hate', 'crime', 'speech']]\n",
      "😍\n",
      "7324\n",
      "[['week', 'studio', 'figura', 'start', 'today'], ['days', 'go'], ['days', 'go'], ['advance', 'happy', 'birthday', 'thalaajith'], ['advance', 'happy', 'birthday', 'thalaajith'], ['advance', 'happy', 'birthday', 'thalaajith'], ['days', 'go'], ['days', 'go'], ['advance', 'happy', 'birthday', 'thalaajith'], ['advance', 'happy', 'birthday', 'thalaajith']]\n",
      "😭\n",
      "7419\n",
      "[['thank', 'lol', 'procrastination', 'almost'], ['change', 'first', 'diaper', 'uncle', 'year'], ['deposit', 'yuan', 'set', 'must', 'buy'], ['deposit', 'yuan', 'set', 'must', 'buy'], ['deposit', 'yuan', 'set', 'must', 'buy'], ['u', 'supporting', 'owe', 'life', 'ma’am'], ['com', 'teu', 'amor', 'nocateou', 'tonteou'], ['wtf'], ['beautiful', 'song', 'white', 'outfits', 'perfect'], ['sebagus', 'itu', 'serius']]\n",
      "😊\n",
      "6327\n",
      "[['moment', 'today', 'credit', 'stacie', 'swift'], ['fantastic', 'well', 'done', 'ladies'], ['congratulations', 'fam', 'best'], ['homerun', 'zs', 'one', 'im', 'anticipating'], ['questions', 'happy', 'answer'], ['fan', 'bear', 'grylls', 'nevergiveup', 'adventure'], ['happy', 'birthday', 'jimin', 'enjoy', 'day'], ['️', 'great', 'morning', 'condo', 'session'], ['second', 'edition', 'mine'], ['least', 'try']]\n",
      "💕\n",
      "6476\n",
      "[['happy', 'birthday', 'mochiiii', 'saranghae', 'take'], ['got', 'soon', 'youre', 'done'], ['got'], ['seu', 'amor', 'pegou', 'ce', 'bateu'], ['angel', 'best', 'support', 'protect', 'masterpiece'], ['seu', 'amor', 'pegou', 'ce', 'bateu'], ['blessings', 'couldn’t', 'happier'], ['seu', 'amor', 'pegou', 'ce', 'bateu'], ['proud', 'moment', 'us', 'daughter', 'become'], ['always', 'place', 'follow', 'ted', 'cruz']]\n",
      "😒\n",
      "5846\n",
      "[['️', '️', 'dunk', 'ang', 'hina'], ['one', 'drink', 'comes', 'uber', 'eats'], ['one', 'drink', 'comes', 'uber', 'eats'], ['one', 'drink', 'comes', 'uber', 'eats'], ['one', 'drink', 'comes', 'uber', 'eats'], ['getting', 'channels', 'dont', 'even', 'like'], ['porn', 'facebook', 'that’d', 'fucking', 'great'], ['ok', 'bloopers', 'content', 'creating', 'going'], ['shit', 'turns', 'much'], ['flu', 'shot', 'gave', 'ear', 'infection']]\n",
      "😉\n",
      "5900\n",
      "[['figura', 'start', 'today', 'choose', 'package'], ['someone', 'said', 'richest', 'man', 'age'], ['yall', 'know', 'rest'], ['guys', 'keep', 'pushing', 'move', 'ball'], ['better', 'stevie'], ['congratulations', 'i’ll', 'add', 'collection', 'know'], ['someone', 'said', 'richest', 'man', 'age'], ['straight', 'love', 'said', 'go', 'houston'], ['semana', 'disponible', 'separa', 'tu', 'cita'], ['mozosgay', 'watch', 'video', 'much', 'passiongay']]\n",
      "👌\n",
      "6017\n",
      "[['yess'], ['nice', 'one', 'born', 'leader', 'keep'], ['nobody', 'perfect', 'best', 'great', 'artist'], ['see', 'good', 'world', 'around', 'becomes'], ['want', 'see', 'homeboy', 'enginakyürek', 'sefirinkızı'], ['wow', 'beautiful', 'work'], ['next', 'overs', 'runs'], ['can’t', 'wait', 'class'], ['hurt', 'always', 'stay', 'healthy', 'happy'], ['congratulations']]\n",
      "👍\n",
      "6445\n",
      "[['promises', 'made'], ['tweets', 'sarkaruvaaripaata'], ['succeed', 'succeed', 'southstl', 'stlallday', 'stllife'], ['forexking', 'team'], ['account', 'management', 'service', 'available'], ['days', 'go'], ['bright', 'future', 'young', 'mans', 'got'], ['days', 'go'], ['dont', 'underestimate', 'power', 'common', 'man'], ['dont', 'underestimate', 'power', 'common', 'man']]\n",
      "🙏\n",
      "6760\n",
      "[['keep', 'going', 'power', 'maam'], ['facts', 'i’m', 'interested', 'want', 'work'], ['didn’t', 'read', 'thread', 'tweet', 'well'], ['advance', 'happy', 'birthday', 'thalaajith'], ['advance', 'happy', 'birthday', 'thalaajith'], ['advance', 'happy', 'birthday', 'thalaajith'], ['yes', 'yes', 'yessss', '️'], ['yes', 'yes', 'yessss', '️'], ['cry', 'im', 'inspired', 'jah', 'bless'], ['advance', 'happy', 'birthday', 'thalaajith']]\n",
      "👀\n",
      "5815\n",
      "[['post', 'app', 'college', 'coaches', 'fans'], ['live', 'tonight', 'pm', 'mst'], ['u', 'make', 'k', 'tweets'], ['please', 'watch', 'amazingly', 'uplifting', 'clip'], ['new', 'blog', 'alert'], ['good', 'shit', 'go౦ԁ', 'shit', 'thats'], ['good', 'shit', 'go౦ԁ', 'shit', 'thats'], ['good', 'shit', 'go౦ԁ', 'shit', 'thats'], ['good', 'shit', 'go౦ԁ', 'shit', 'thats'], ['hard', 'educate']]\n",
      "🔥\n",
      "9876\n",
      "[['wickets', 'broken'], ['nnz'], ['nnz'], ['mac', '…'], ['mac', '…'], ['yayyy', 'go', 'go', 'lol', 'postmen'], ['nnz'], ['nnz'], ['mac'], ['mac']]\n",
      "💯\n",
      "6414\n",
      "[['papa', 'keep', 'bro', 'full', 'support'], ['richest', 'man', 'age', 'didn’t', 'say'], ['days', 'go'], ['support'], ['don’t', 'ever', 'forget', 'image', 'fuel'], ['don’t', 'ever', 'forget', 'image', 'fuel'], ['winners', 'trump'], ['support'], ['days', 'go'], ['college', 'coaches', 'fans', 'watch', 'ball']]\n",
      "👏\n",
      "9211\n",
      "[['bright', 'future', 'young', 'mans', 'got'], ['。', '。', '。'], ['trump'], ['。', '。', '。'], ['trump', '…'], ['remember', 'amazing'], ['piece', 'art', 'tribute', 'inspirational', 'rbg'], ['tonteou', 'foi', 'tona', 'foi', 'tona'], ['congratulations', 'amp'], ['congratulations', 'amp']]\n",
      "💪\n",
      "6477\n",
      "[['burger', 'draft', 'beer', 'ifor', 'dine'], ['stay', 'strong', 'amazing', 'man', 'appreciate'], ['code', 'sale', 'awesome', 'styli'], ['russell', 'beauty'], ['get', 'staying', 'strong', 'heavy', 'dump'], ['coupon', 'discount', 'mo', 'hein', 'hampm'], ['code', 'discount', 'mo', 'hein', 'hampm'], ['green', 'go', 'back', 'highs', 'last'], ['brota', 'rd'], ['perfect', 'famand', 'never', 'killed', 'baby']]\n"
     ]
    }
   ],
   "source": [
    "# preprocessing the data\n",
    "from parsing import Tokenizer, TokenType, Token\n",
    "tokenizer = Tokenizer(EMOJI_CHARS)\n",
    "# take 3 previous words as context for the emoji\n",
    "context = {e:[] for e in EMOJI_CHARS}\n",
    "emojiToId = {e:i for i,e in enumerate(EMOJI_CHARS)}\n",
    "\n",
    "for tweet in data:\n",
    "    tokens = tokenizer.tokenize(tweet)\n",
    "    for i,token in enumerate(tokens):\n",
    "        if token.token_type == TokenType.EMOJIS:\n",
    "            closest = tokenizer.findClosestNWords(5, tokens, i)\n",
    "            if closest:\n",
    "                context[token.raw].append(closest)\n",
    "\n",
    "for e, words in context.items():\n",
    "    print(e)\n",
    "    print(len(words))\n",
    "    print(words[:10])"
   ]
  },
  {
   "cell_type": "code",
   "execution_count": 15,
   "metadata": {
    "scrolled": true
   },
   "outputs": [
    {
     "name": "stdout",
     "output_type": "stream",
     "text": [
      "54017\n"
     ]
    }
   ],
   "source": [
    "# making X and y for TFIDF as a baseline idea of how good our accuracy can expect to be\n",
    "X_words = []\n",
    "y = []\n",
    "sentences = set()\n",
    "for e, words in context.items():\n",
    "    for i,word_list in enumerate(words):\n",
    "        sentence = ' '.join(word_list)\n",
    "        if sentence in sentences:\n",
    "            continue\n",
    "        sentences.add(sentence)\n",
    "        X_words.append(sentence)\n",
    "        y.append(emojiToId[e])\n",
    "        if i > 5000:\n",
    "            break\n",
    "print(len(y))"
   ]
  },
  {
   "cell_type": "code",
   "execution_count": 16,
   "metadata": {
    "scrolled": true
   },
   "outputs": [
    {
     "name": "stdout",
     "output_type": "stream",
     "text": [
      "16205\n",
      "['😂', '😍', '😭', '😊', '💕', '😒', '😉', '👌', '👍', '🙏', '👀', '🔥', '💯', '👏', '💪']\n"
     ]
    },
    {
     "data": {
      "image/png": "[encoded data removed]",
      "text/plain": [
       "<Figure size 432x288 with 1 Axes>"
      ]
     },
     "metadata": {
      "needs_background": "light"
     },
     "output_type": "display_data"
    }
   ],
   "source": [
    "# Get a smaller subset to allow for easier identification of good parameters\n",
    "X_subset, _, y_subset, _ = train_test_split(X_words, y, train_size=0.3, test_size=0.7)\n",
    "print(len(y_subset))\n",
    "# y_pos = list(range(len(EMOJI_CHARS)))\n",
    "plt.hist(y_subset)\n",
    "print(EMOJI_CHARS)\n",
    "plt.show()"
   ]
  },
  {
   "cell_type": "code",
   "execution_count": 13,
   "metadata": {
    "scrolled": true
   },
   "outputs": [
    {
     "name": "stdout",
     "output_type": "stream",
     "text": [
      "Fitting 5 folds for each of 864 candidates, totalling 4320 fits\n"
     ]
    },
    {
     "name": "stderr",
     "output_type": "stream",
     "text": [
      "[Parallel(n_jobs=-1)]: Using backend LokyBackend with 4 concurrent workers.\n",
      "[Parallel(n_jobs=-1)]: Done  24 tasks      | elapsed:    7.4s\n",
      "[Parallel(n_jobs=-1)]: Done 120 tasks      | elapsed:   33.0s\n",
      "[Parallel(n_jobs=-1)]: Done 280 tasks      | elapsed:  1.2min\n",
      "[Parallel(n_jobs=-1)]: Done 504 tasks      | elapsed:  2.2min\n",
      "[Parallel(n_jobs=-1)]: Done 792 tasks      | elapsed:  3.8min\n",
      "[Parallel(n_jobs=-1)]: Done 1144 tasks      | elapsed:  5.7min\n",
      "[Parallel(n_jobs=-1)]: Done 1560 tasks      | elapsed:  7.7min\n",
      "[Parallel(n_jobs=-1)]: Done 2040 tasks      | elapsed: 10.1min\n",
      "[Parallel(n_jobs=-1)]: Done 2584 tasks      | elapsed: 12.6min\n",
      "[Parallel(n_jobs=-1)]: Done 3192 tasks      | elapsed: 16.2min\n",
      "[Parallel(n_jobs=-1)]: Done 3864 tasks      | elapsed: 19.6min\n",
      "[Parallel(n_jobs=-1)]: Done 4320 out of 4320 | elapsed: 22.3min finished\n"
     ]
    },
    {
     "name": "stdout",
     "output_type": "stream",
     "text": [
      "Best score: 0.209\n",
      "Best parameters set:\n",
      "\tclf__alpha: 1e-05\n",
      "\tclf__loss: 'log'\n",
      "\tclf__max_iter: 50\n",
      "\tclf__penalty: 'l2'\n",
      "\ttfidf__max_df: 0.5\n",
      "\ttfidf__min_df: 1\n",
      "\ttfidf__ngram_range: (1, 2)\n",
      "\ttfidf__stop_words: None\n"
     ]
    }
   ],
   "source": [
    "# pipelining tfidf and RF to find the best model\n",
    "\n",
    "pipeline = Pipeline([\n",
    "    ('tfidf',TfidfVectorizer()),\n",
    "    ('clf', SGDClassifier())\n",
    "])\n",
    "\n",
    "# pipeline = Pipeline([\n",
    "#     ('tfidf',TfidfVectorizer()),\n",
    "#     ('clf', RandomForestClassifier())\n",
    "# ])\n",
    "\n",
    "parameters = {\n",
    "    'tfidf__max_df':(0.5,0.75,1.0),\n",
    "    'tfidf__min_df':(0.25,0.4,1),\n",
    "    'tfidf__ngram_range':((1,1),(1,2)),\n",
    "    'tfidf__stop_words':(None,'english'),\n",
    "    'clf__loss':('hinge','log'),\n",
    "    'clf__alpha': (0.00001, 0.000001),\n",
    "    'clf__penalty': ('l2', 'elasticnet'),\n",
    "    'clf__max_iter': (10, 50, 80)\n",
    "}\n",
    "\n",
    "grid_search = GridSearchCV(pipeline, parameters, n_jobs=-1, verbose=3)\n",
    "grid_search.fit(X_subset, y_subset)\n",
    "\n",
    "print(\"Best score: %0.3f\" % grid_search.best_score_)\n",
    "print(\"Best parameters set:\")\n",
    "best_parameters = grid_search.best_estimator_.get_params()\n",
    "for param_name in sorted(parameters.keys()):\n",
    "    print(\"\\t%s: %r\" % (param_name, best_parameters[param_name]))"
   ]
  },
  {
   "cell_type": "code",
   "execution_count": 17,
   "metadata": {
    "scrolled": true
   },
   "outputs": [
    {
     "name": "stdout",
     "output_type": "stream",
     "text": [
      "0.2381525360977416\n"
     ]
    }
   ],
   "source": [
    "# use best params to create and save model\n",
    "X_train, X_test, y_train, y_test = train_test_split(X_words, y, train_size=0.8, test_size=0.2)\n",
    "vectorizer = TfidfVectorizer(max_df=0.5,min_df=1,ngram_range=(1,2)).fit(X_train)\n",
    "X_train_feats = vectorizer.transform(X_train)\n",
    "lr = SGDClassifier(penalty='l2',alpha=0.00001,loss='log',max_iter=50)\n",
    "clf = lr.fit(X_train_feats, y_train)\n",
    "pred = clf.predict(vectorizer.transform(X_test))\n",
    "print(accuracy_score(y_test, pred))"
   ]
  },
  {
   "cell_type": "code",
   "execution_count": 18,
   "metadata": {},
   "outputs": [
    {
     "data": {
      "image/png": "[encoded data removed]",
      "text/plain": [
       "<Figure size 432x288 with 1 Axes>"
      ]
     },
     "metadata": {
      "needs_background": "light"
     },
     "output_type": "display_data"
    }
   ],
   "source": [
    "plt.hist(pred)\n",
    "plt.show()"
   ]
  },
  {
   "cell_type": "code",
   "execution_count": null,
   "metadata": {},
   "outputs": [],
   "source": [
    "dump(vectorizer, '../prediction/emoji_vectorizer.joblib')\n",
    "dump(clf, '../prediction/emoji_predictor.joblib')"
   ]
  }
 ],
 "metadata": {
  "kernelspec": {
   "display_name": "Python 3",
   "language": "python",
   "name": "python3"
  },
  "language_info": {
   "codemirror_mode": {
    "name": "ipython",
    "version": 3
   },
   "file_extension": ".py",
   "mimetype": "text/x-python",
   "name": "python",
   "nbconvert_exporter": "python",
   "pygments_lexer": "ipython3",
   "version": "3.7.1"
  }
 },
 "nbformat": 4,
 "nbformat_minor": 4
}
