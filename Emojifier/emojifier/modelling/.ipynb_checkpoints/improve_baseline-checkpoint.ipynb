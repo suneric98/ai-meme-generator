{
 "cells": [
  {
   "cell_type": "code",
   "execution_count": 1,
   "metadata": {},
   "outputs": [],
   "source": [
    "import pandas as pd\n",
    "import numpy as np\n",
    "import nltk\n",
    "import string\n",
    "import re\n",
    "import emoji\n",
    "from os.path import join\n",
    "import json\n",
    "import time\n",
    "\n",
    "from sklearn.utils import shuffle\n",
    "from gensim.models import Word2Vec, FastText\n",
    "from sklearn.preprocessing import StandardScaler\n",
    "from sklearn.feature_extraction.text import TfidfVectorizer, CountVectorizer\n",
    "from sklearn.ensemble import RandomForestClassifier\n",
    "from sklearn.model_selection import cross_val_score\n",
    "from sklearn.model_selection import train_test_split"
   ]
  },
  {
   "cell_type": "code",
   "execution_count": 2,
   "metadata": {
    "scrolled": true
   },
   "outputs": [
    {
     "name": "stdout",
     "output_type": "stream",
     "text": [
      "Tweets\n",
      "['💫 IT’S BURGER MONDAY, CBUS! 💫 Order any Gourmet Burger with a draft beer 🍔🍺 ifor just $9.99 when you dine in. 💪 Cer…', 'Stay strong 💪 You are an amazing man. I appreciate the truth that is told.', 'Code Sale Awesome from Styli 💪']\n",
      "122179\n",
      "Chosen emojis\n",
      "['😂', '😍', '😭', '😊', '💕', '😒', '😉', '👌', '👍', '🙏', '👀', '🔥', '💯', '👏', '💪']\n",
      "15\n"
     ]
    }
   ],
   "source": [
    "# getting the twitter comments\n",
    "DATA_PATH = join('..','data','twitter-data-cleaned.txt')\n",
    "with open(DATA_PATH, 'r',  encoding=\"utf-8\") as f:\n",
    "    data = f.readlines()\n",
    "data = [d.strip() for d in data if d.strip() != '']\n",
    "print('Tweets')\n",
    "print(data[:3])\n",
    "print(len(data))\n",
    "\n",
    "# getting our chosen emojis\n",
    "SELECTED_EMOJIS_PATH = join('..','data','best-emojis.json')\n",
    "with open(SELECTED_EMOJIS_PATH, 'r', encoding='utf-8') as f:\n",
    "    EMOJIS = json.load(f)\n",
    "EMOJI_CHARS = [e['char'] for e in EMOJIS]\n",
    "print('Chosen emojis')\n",
    "print(EMOJI_CHARS)\n",
    "print(len(EMOJI_CHARS))\n",
    "\n",
    "ALL_EMOJIS = set(emoji.emojize(emoji_code) for emoji_code in emoji.UNICODE_EMOJI.values())"
   ]
  },
  {
   "cell_type": "code",
   "execution_count": 3,
   "metadata": {
    "scrolled": true
   },
   "outputs": [
    {
     "name": "stdout",
     "output_type": "stream",
     "text": [
      "😂\n",
      "8440\n",
      "[['go', 'lol', 'postmen', 'familiar', 'face'], ['bollywood', 'reality'], ['got', 'even', 'though', 'debates', 'blasphemy']]\n",
      "😍\n",
      "7329\n",
      "[['week', 'studio', 'figura', 'start', 'today'], ['200', 'days', 'go'], ['200', 'days', 'go']]\n",
      "😭\n",
      "7428\n",
      "[['thank', 'lol', 'procrastination', 'almost'], ['change', 'first', 'diaper', 'uncle', 'year'], ['deposit', '52', 'yuan', 'set', 'must']]\n",
      "😊\n",
      "6335\n",
      "[['moment', 'today', 'credit', 'stacie', 'swift'], ['fantastic', 'well', 'done', 'ladies'], ['congratulations', 'fam', 'best']]\n",
      "💕\n",
      "6480\n",
      "[['happy', 'birthday', 'mochiiii', 'saranghae', 'take'], ['got', 'soon', 'youre', 'done'], ['got']]\n",
      "😒\n",
      "5852\n",
      "[['️', '️', 'dunk', 'ang', 'hina'], ['drink', 'comes', '17', 'uber', 'eats'], ['drink', 'comes', '17', 'uber', 'eats']]\n",
      "😉\n",
      "5905\n",
      "[['figura', 'start', 'today', 'choose', 'package'], ['someone', 'said', 'richest', 'man', 'age'], ['yall', 'know', 'rest']]\n",
      "👌\n",
      "6023\n",
      "[['yess'], ['nice', 'one', 'born', 'leader', 'keep'], ['nobody', 'perfect', 'best', 'great', 'artist']]\n",
      "👍\n",
      "6446\n",
      "[['promises', 'made'], ['88m', 'tweets', 'sarkaruvaaripaata'], ['succeed', 'succeed', 'southstl', 'stlallday', 'stl4life']]\n",
      "🙏\n",
      "6760\n",
      "[['keep', 'going', 'power', 'maam'], ['facts', 'i’m', 'interested', 'want', 'work'], ['didn’t', 'read', 'thread', 'tweet', 'well']]\n",
      "👀\n",
      "5835\n",
      "[['post', 'app', 'college', 'coaches', 'fans'], ['live', 'tonight', '7pm', 'mst'], ['u', 'make', '5', 'k', 'tweets']]\n",
      "🔥\n",
      "9913\n",
      "[['wickets', 'broken'], ['nnz'], ['nnz']]\n",
      "💯\n",
      "6419\n",
      "[['papa', 'keep', 'bro', 'full', 'support'], ['richest', 'man', 'age', 'didn’t', 'say'], ['200', 'days', 'go']]\n",
      "👏\n",
      "9210\n",
      "[['bright', 'future', 'young', 'mans', 'got'], ['。', '。', '。'], ['trump', '2020']]\n",
      "💪\n",
      "6481\n",
      "[['draft', 'beer', 'ifor', '999', 'dine'], ['stay', 'strong', 'amazing', 'man', 'appreciate'], ['code', 'sale', 'awesome', 'styli']]\n"
     ]
    }
   ],
   "source": [
    "# preprocessing the data\n",
    "from parsing import Tokenizer, TokenType, Token\n",
    "tokenizer = Tokenizer(EMOJI_CHARS)\n",
    "# take 3 previous words as context for the emoji\n",
    "context = {e:[] for e in EMOJI_CHARS}\n",
    "emojiToId = {e:i for i,e in enumerate(EMOJI_CHARS)}\n",
    "\n",
    "for tweet in data:\n",
    "    tokens = tokenizer.tokenize(tweet)\n",
    "    for i,token in enumerate(tokens):\n",
    "        if token.token_type == TokenType.EMOJIS:\n",
    "            closest = tokenizer.findClosestNWords(8, tokens, i)\n",
    "            if closest:\n",
    "                context[token.raw].append(closest)\n",
    "\n",
    "for e, words in context.items():\n",
    "    print(e)\n",
    "    print(len(words))\n",
    "    print(words[:3])"
   ]
  },
  {
   "cell_type": "code",
   "execution_count": 5,
   "metadata": {
    "scrolled": true
   },
   "outputs": [
    {
     "name": "stdout",
     "output_type": "stream",
     "text": [
      "72665\n"
     ]
    }
   ],
   "source": [
    "# making X and y for TFIDF as a baseline idea of how good our accuracy can expect to be\n",
    "X_words = []\n",
    "y = []\n",
    "sentences = set()\n",
    "for e, words in context.items():\n",
    "    for i,word_list in enumerate(words):\n",
    "        sentence = ' '.join(word_list)\n",
    "        if sentence in sentences:\n",
    "            continue\n",
    "        sentences.add(sentence)\n",
    "        X_words.append(sentence)\n",
    "        y.append(emojiToId[e])\n",
    "print(len(y))"
   ]
  },
  {
   "cell_type": "code",
   "execution_count": 8,
   "metadata": {},
   "outputs": [
    {
     "name": "stdout",
     "output_type": "stream",
     "text": [
      "Accuracy: 0.20 (+/- 0.01)\n"
     ]
    }
   ],
   "source": [
    "# attempting to use tfidf and RF\n",
    "# WARNING: can take a decent amount of time: 5 mins or so?\n",
    "vectorizer = TfidfVectorizer()\n",
    "X = vectorizer.fit_transform(X_words)\n",
    "\n",
    "model = RandomForestClassifier(n_estimators=100)\n",
    "scores = cross_val_score(model, X, y, cv=5)\n",
    "print(\"Accuracy: %0.2f (+/- %0.2f)\" % (scores.mean(), scores.std() * 2))"
   ]
  },
  {
   "cell_type": "code",
   "execution_count": 6,
   "metadata": {
    "scrolled": true
   },
   "outputs": [
    {
     "name": "stdout",
     "output_type": "stream",
     "text": [
      "Accuracy: 0.18 (+/- 0.01)\n"
     ]
    }
   ],
   "source": [
    "# attempting to use count_vectorizer and RF\n",
    "# WARNING: can take a decent amount of time: 5 mins or so?\n",
    "vectorizer = CountVectorizer()\n",
    "X = vectorizer.fit_transform(X_words)\n",
    "scaler = StandardScaler(with_mean=False)\n",
    "X = scaler.fit_transform(X)\n",
    "\n",
    "model = RandomForestClassifier(n_estimators=100)\n",
    "scores = cross_val_score(model, X, y, cv=5)\n",
    "print(\"Accuracy: %0.2f (+/- %0.2f)\" % (scores.mean(), scores.std() * 2))"
   ]
  },
  {
   "cell_type": "code",
   "execution_count": 4,
   "metadata": {},
   "outputs": [],
   "source": [
    "# RNN building to predict result\n",
    "import torch\n",
    "import torch.nn as nn\n",
    "import torch.optim as optim\n",
    "import random\n",
    "from tqdm.notebook import tqdm\n",
    "from sklearn.utils import shuffle\n",
    "import matplotlib.pyplot as plt"
   ]
  },
  {
   "cell_type": "code",
   "execution_count": 5,
   "metadata": {},
   "outputs": [
    {
     "name": "stdout",
     "output_type": "stream",
     "text": [
      "['go', 'lol', 'postmen', 'familiar', 'face']\n",
      "72665\n"
     ]
    }
   ],
   "source": [
    "# making X and y for RNN\n",
    "X_words = []\n",
    "y = []\n",
    "sentences = set()\n",
    "for e, words in context.items():\n",
    "    for i, sentence in enumerate(words):\n",
    "        check = ' '.join(sentence)\n",
    "        if check in sentences:\n",
    "            continue\n",
    "        sentences.add(check)\n",
    "        X_words.append(sentence)\n",
    "        y.append(emojiToId[e])\n",
    "print(X_words[0])\n",
    "print(len(y))"
   ]
  },
  {
   "cell_type": "code",
   "execution_count": 6,
   "metadata": {},
   "outputs": [],
   "source": [
    "# making word embeddings for RNN\n",
    "UNK = \"<unk>\"\n",
    "WORDEMBSIZE = 100\n",
    "W2V_WINDOW = 7\n",
    "W2V_COUNT = 1\n",
    "W2V_EPOCH=100\n",
    "\n",
    "def makeVocab(text):\n",
    "    vocab = set()\n",
    "    vocab.add(UNK)\n",
    "    for sentences in text:\n",
    "        for word in sentences:\n",
    "            vocab.add(word)\n",
    "    return vocab\n",
    "\n",
    "def makeEmbModel(data):\n",
    "#     model = FastText(data, size=WORDEMBSIZE, window=3, min_count=1, iter=10, sorted_vocab=1)\n",
    "    model = Word2Vec(window=W2V_WINDOW, min_count=W2V_COUNT, size=WORDEMBSIZE)\n",
    "    model.build_vocab(data)\n",
    "    model.train(data, total_examples=len(data), epochs=W2V_EPOCH)\n",
    "    print(model)\n",
    "    return model\n",
    "\n",
    "def makeEmbeddings(data, model, vocab):\n",
    "    vecData = []\n",
    "    for sentence in data:\n",
    "        wordEmbs = []\n",
    "        for word in sentence:\n",
    "            if word in vocab:\n",
    "#                 print(type(model[word]))\n",
    "#                 print(model[word])\n",
    "                wordEmbs.append(model.wv[word])\n",
    "            else:\n",
    "                wordEmbs.append(np.zeros(WORDEMBSIZE))\n",
    "        wordEmbs = torch.FloatTensor(wordEmbs)\n",
    "        vecData.append(wordEmbs)\n",
    "    return vecData"
   ]
  },
  {
   "cell_type": "code",
   "execution_count": 7,
   "metadata": {
    "scrolled": true
   },
   "outputs": [
    {
     "name": "stdout",
     "output_type": "stream",
     "text": [
      "Word2Vec(vocab=32885, size=100, alpha=0.025)\n",
      "['llores', 'bu']\n",
      "tensor([[-0.1269,  0.0906,  0.1353, -0.1066, -0.1840, -0.0234, -0.2450,  0.1778,\n",
      "         -0.1590,  0.0904,  0.0742, -0.0131, -0.0130,  0.1513, -0.0867,  0.0379,\n",
      "         -0.0322, -0.0041,  0.1156,  0.0803,  0.0428, -0.0167,  0.0347, -0.0142,\n",
      "         -0.0192,  0.1436,  0.0122, -0.1309,  0.0816, -0.1855,  0.1034, -0.0902,\n",
      "          0.0982,  0.0395, -0.0046,  0.0184, -0.2155,  0.1656, -0.3269, -0.1407,\n",
      "          0.0049,  0.0215,  0.1235,  0.2237, -0.2164, -0.3923, -0.0303, -0.0381,\n",
      "          0.0036,  0.2233,  0.1759,  0.0184, -0.1227,  0.0217, -0.1001,  0.0303,\n",
      "          0.3156, -0.0899,  0.3071, -0.0969,  0.0491,  0.2489,  0.0111, -0.2184,\n",
      "         -0.2203, -0.0673, -0.2871,  0.1689, -0.0323, -0.1147,  0.2741,  0.0022,\n",
      "          0.0120, -0.0664, -0.0107, -0.1350, -0.1866, -0.0689,  0.0792, -0.0555,\n",
      "         -0.1943, -0.1689,  0.0706,  0.0690, -0.0523,  0.0937,  0.2492, -0.1218,\n",
      "         -0.0380,  0.0306, -0.0141,  0.0508, -0.0395,  0.0896,  0.1748, -0.1952,\n",
      "          0.0197, -0.2343,  0.1395, -0.0685],\n",
      "        [-0.6765,  0.5570,  0.1287, -0.1569, -0.2401,  0.1342, -0.5981,  0.4630,\n",
      "         -0.5043,  0.1600,  0.5708,  0.2398,  0.1505, -0.1065, -0.0700, -0.1116,\n",
      "         -0.2813,  0.1102,  0.3698,  0.1232, -0.1899,  0.2241, -0.0287,  0.2294,\n",
      "         -0.3021,  0.4055,  0.1267, -0.3782,  0.2544, -0.1514,  0.2972,  0.0801,\n",
      "          0.2657,  0.1935, -0.4061, -0.1193, -0.3451,  0.8614, -1.0264, -0.6184,\n",
      "         -0.0019, -0.2223,  0.0541,  0.8403, -0.3565, -0.9012, -0.0027,  0.1030,\n",
      "         -0.2673,  0.4334,  0.2137, -0.0975, -0.2240,  0.0833, -0.5756, -0.1031,\n",
      "          0.5898,  0.2441,  0.9165, -0.2347,  0.0931,  0.5493,  0.2447, -0.3391,\n",
      "         -0.5983, -0.4439, -0.9685,  0.3721,  0.2790,  0.1203,  0.7999,  0.1877,\n",
      "          0.1768,  0.0270, -0.5729,  0.0384, -0.0641, -0.0831,  0.3902,  0.2230,\n",
      "         -0.7485, -0.4526,  0.3266, -0.2291, -0.2710,  0.3787,  0.0450, -0.6493,\n",
      "         -0.3167,  0.5437,  0.0679, -0.0960, -0.0794,  0.0118,  0.3036, -0.6288,\n",
      "         -0.1709, -0.7611,  0.3028,  0.1498]])\n",
      "4\n"
     ]
    }
   ],
   "source": [
    "# continue making word embeddings\n",
    "X_words_train, X_words_test, y_train, y_test = train_test_split(X_words, y, train_size=0.8, test_size=0.2, random_state=42)\n",
    "vocab = makeVocab(X_words_train)\n",
    "emb_model = makeEmbModel(X_words_train)\n",
    "vocab = set(list(emb_model.wv.vocab.keys()))\n",
    "X_train = makeEmbeddings(X_words_train, emb_model, vocab)\n",
    "X_test = makeEmbeddings(X_words_test, emb_model, vocab)\n",
    "\n",
    "print(X_words_train[0])\n",
    "print(X_train[0])\n",
    "print(y_train[0])"
   ]
  },
  {
   "cell_type": "code",
   "execution_count": 15,
   "metadata": {},
   "outputs": [],
   "source": [
    "# RNN model\n",
    "class RNN(nn.Module):\n",
    "    def __init__(self, input_dim, h, output_dim = 15):\n",
    "        super(RNN, self).__init__()\n",
    "        self.rnn = nn.RNN(input_dim, h, dropout=0.2)\n",
    "        self.finalLayer = nn.Linear(h, output_dim)\n",
    "        self.input_dim = input_dim\n",
    "        self.hidden_dim = h\n",
    "        self.output_dim =  output_dim\n",
    "#         self.word_embeddings = nn.Embedding(vocab_size, input_dim)\n",
    "        self.softmax = nn.LogSoftmax()\n",
    "        self.loss = nn.NLLLoss()\n",
    "    \n",
    "    def compute_loss(self, predicted_vector, gold_label):\n",
    "        return self.loss(predicted_vector, gold_label)\n",
    "    \n",
    "    def forward(self, inputs):\n",
    "        out, hidden = self.rnn(inputs)\n",
    "        hidden = hidden.contiguous().view(-1,self.hidden_dim)\n",
    "        predicted_vector = self.softmax(self.finalLayer(hidden))\n",
    "        return predicted_vector\n",
    "    \n",
    "class biRNN(nn.Module):\n",
    "    def __init__(self, input_dim, h, output_dim = 15):\n",
    "        super(biRNN, self).__init__()\n",
    "        self.rnn = nn.RNN(input_dim, h, dropout=0.2, bidirectional=True)\n",
    "        self.finalLayer = nn.Linear(h, output_dim)\n",
    "        self.input_dim = input_dim\n",
    "        self.hidden_dim = h\n",
    "        self.output_dim =  output_dim\n",
    "#         self.word_embeddings = nn.Embedding(vocab_size, input_dim)\n",
    "        self.softmax = nn.LogSoftmax()\n",
    "        self.loss = nn.NLLLoss()\n",
    "    \n",
    "    def compute_loss(self, predicted_vector, gold_label):\n",
    "        return self.loss(predicted_vector, gold_label)\n",
    "    \n",
    "    def forward(self, inputs):\n",
    "        out, hidden = self.rnn(inputs)\n",
    "        hidden = hidden.contiguous().view(-1,self.hidden_dim)\n",
    "        predicted_vector = self.softmax(self.finalLayer(hidden))\n",
    "        return predicted_vector\n",
    "    \n",
    "class GRU(nn.Module):\n",
    "    def __init__(self, input_dim, h, output_dim = 15):\n",
    "        super(GRU, self).__init__()\n",
    "        self.rnn = nn.GRU(input_dim, h, dropout=0.2)\n",
    "        self.finalLayer = nn.Linear(h, output_dim)\n",
    "        self.input_dim = input_dim\n",
    "        self.hidden_dim = h\n",
    "        self.output_dim =  output_dim\n",
    "#         self.word_embeddings = nn.Embedding(vocab_size, input_dim)\n",
    "        self.softmax = nn.LogSoftmax()\n",
    "        self.loss = nn.NLLLoss()\n",
    "    \n",
    "    def compute_loss(self, predicted_vector, gold_label):\n",
    "        return self.loss(predicted_vector, gold_label)\n",
    "    \n",
    "    def forward(self, inputs):\n",
    "        out, hidden = self.rnn(inputs)\n",
    "        hidden = hidden.contiguous().view(-1,self.hidden_dim)\n",
    "        predicted_vector = self.softmax(self.finalLayer(hidden))\n",
    "        return predicted_vector"
   ]
  },
  {
   "cell_type": "code",
   "execution_count": 16,
   "metadata": {
    "scrolled": true
   },
   "outputs": [
    {
     "name": "stdout",
     "output_type": "stream",
     "text": [
      "\n",
      "\n",
      "-------------\n",
      "EPOCH: 1\n",
      "Training started for epoch: 1\n"
     ]
    },
    {
     "data": {
      "application/vnd.jupyter.widget-view+json": {
       "model_id": "41776a87cdd0479986fba4de6633e5fe",
       "version_major": 2,
       "version_minor": 0
      },
      "text/plain": [
       "HBox(children=(HTML(value=''), FloatProgress(value=0.0, max=908.0), HTML(value='')))"
      ]
     },
     "metadata": {},
     "output_type": "display_data"
    },
    {
     "name": "stderr",
     "output_type": "stream",
     "text": [
      "/Users/ericsun/anaconda3/lib/python3.7/site-packages/ipykernel_launcher.py:41: UserWarning: Implicit dimension choice for log_softmax has been deprecated. Change the call to include dim=X as an argument.\n"
     ]
    },
    {
     "name": "stdout",
     "output_type": "stream",
     "text": [
      "\n",
      "Training completed for epoch: 1\n",
      "Time for train: 134.88682985305786\n",
      "Accuracy: 0.07258397577092511 Loss: 2.654144287109375\n",
      "Validation started for epoch: 1\n"
     ]
    },
    {
     "data": {
      "application/vnd.jupyter.widget-view+json": {
       "model_id": "cf54b919eb8e447480972668654f98d8",
       "version_major": 2,
       "version_minor": 0
      },
      "text/plain": [
       "HBox(children=(HTML(value=''), FloatProgress(value=0.0, max=227.0), HTML(value='')))"
      ]
     },
     "metadata": {},
     "output_type": "display_data"
    },
    {
     "name": "stdout",
     "output_type": "stream",
     "text": [
      "\n",
      "Validation completed for epoch: 1\n",
      "Time for validation: 14.18821406364441\n",
      "Accuracy: 0.11254129955947137 Loss: 2.5907537937164307\n",
      "\n",
      "\n",
      "-------------\n",
      "EPOCH: 2\n",
      "Training started for epoch: 2\n"
     ]
    },
    {
     "data": {
      "application/vnd.jupyter.widget-view+json": {
       "model_id": "fc87382928f445bdbb342c66a3278d1c",
       "version_major": 2,
       "version_minor": 0
      },
      "text/plain": [
       "HBox(children=(HTML(value=''), FloatProgress(value=0.0, max=908.0), HTML(value='')))"
      ]
     },
     "metadata": {},
     "output_type": "display_data"
    },
    {
     "name": "stdout",
     "output_type": "stream",
     "text": [
      "\n",
      "Training completed for epoch: 2\n",
      "Time for train: 126.62766790390015\n",
      "Accuracy: 0.1421737334801762 Loss: 2.531944990158081\n",
      "Validation started for epoch: 2\n"
     ]
    },
    {
     "data": {
      "application/vnd.jupyter.widget-view+json": {
       "model_id": "5f73d1d6334e4d77b4290873b4acce02",
       "version_major": 2,
       "version_minor": 0
      },
      "text/plain": [
       "HBox(children=(HTML(value=''), FloatProgress(value=0.0, max=227.0), HTML(value='')))"
      ]
     },
     "metadata": {},
     "output_type": "display_data"
    },
    {
     "name": "stdout",
     "output_type": "stream",
     "text": [
      "\n",
      "Validation completed for epoch: 2\n",
      "Time for validation: 13.35599398612976\n",
      "Accuracy: 0.1510875550660793 Loss: 2.5068719387054443\n",
      "\n",
      "\n",
      "-------------\n",
      "EPOCH: 3\n",
      "Training started for epoch: 3\n"
     ]
    },
    {
     "data": {
      "application/vnd.jupyter.widget-view+json": {
       "model_id": "c094105842be4068a352bdb581f5640d",
       "version_major": 2,
       "version_minor": 0
      },
      "text/plain": [
       "HBox(children=(HTML(value=''), FloatProgress(value=0.0, max=908.0), HTML(value='')))"
      ]
     },
     "metadata": {},
     "output_type": "display_data"
    },
    {
     "name": "stdout",
     "output_type": "stream",
     "text": [
      "\n",
      "Training completed for epoch: 3\n",
      "Time for train: 124.00192379951477\n",
      "Accuracy: 0.1686398678414097 Loss: 2.4818403720855713\n",
      "Validation started for epoch: 3\n"
     ]
    },
    {
     "data": {
      "application/vnd.jupyter.widget-view+json": {
       "model_id": "2f0b6848ea524edca859fe9c77d855a4",
       "version_major": 2,
       "version_minor": 0
      },
      "text/plain": [
       "HBox(children=(HTML(value=''), FloatProgress(value=0.0, max=227.0), HTML(value='')))"
      ]
     },
     "metadata": {},
     "output_type": "display_data"
    },
    {
     "name": "stdout",
     "output_type": "stream",
     "text": [
      "\n",
      "Validation completed for epoch: 3\n",
      "Time for validation: 14.193125009536743\n",
      "Accuracy: 0.16650605726872247 Loss: 2.477039337158203\n",
      "\n",
      "\n",
      "-------------\n",
      "EPOCH: 4\n",
      "Training started for epoch: 4\n"
     ]
    },
    {
     "data": {
      "application/vnd.jupyter.widget-view+json": {
       "model_id": "9c26b61d6e2842baaf2e1d0ceb1a78a7",
       "version_major": 2,
       "version_minor": 0
      },
      "text/plain": [
       "HBox(children=(HTML(value=''), FloatProgress(value=0.0, max=908.0), HTML(value='')))"
      ]
     },
     "metadata": {},
     "output_type": "display_data"
    },
    {
     "name": "stdout",
     "output_type": "stream",
     "text": [
      "\n",
      "Training completed for epoch: 4\n",
      "Time for train: 123.56421995162964\n",
      "Accuracy: 0.17994562224669602 Loss: 2.458538055419922\n",
      "Validation started for epoch: 4\n"
     ]
    },
    {
     "data": {
      "application/vnd.jupyter.widget-view+json": {
       "model_id": "665de9cc8073461ca670f71147d8d204",
       "version_major": 2,
       "version_minor": 0
      },
      "text/plain": [
       "HBox(children=(HTML(value=''), FloatProgress(value=0.0, max=227.0), HTML(value='')))"
      ]
     },
     "metadata": {},
     "output_type": "display_data"
    },
    {
     "name": "stdout",
     "output_type": "stream",
     "text": [
      "\n",
      "Validation completed for epoch: 4\n",
      "Time for validation: 13.725716352462769\n",
      "Accuracy: 0.17628028634361234 Loss: 2.4603116512298584\n",
      "\n",
      "\n",
      "-------------\n",
      "EPOCH: 5\n",
      "Training started for epoch: 5\n"
     ]
    },
    {
     "data": {
      "application/vnd.jupyter.widget-view+json": {
       "model_id": "2ca0cf60ac2c45ed9daa591226ee7d86",
       "version_major": 2,
       "version_minor": 0
      },
      "text/plain": [
       "HBox(children=(HTML(value=''), FloatProgress(value=0.0, max=908.0), HTML(value='')))"
      ]
     },
     "metadata": {},
     "output_type": "display_data"
    },
    {
     "name": "stdout",
     "output_type": "stream",
     "text": [
      "\n",
      "Training completed for epoch: 5\n",
      "Time for train: 152.3938181400299\n",
      "Accuracy: 0.18693213105726872 Loss: 2.443746328353882\n",
      "Validation started for epoch: 5\n"
     ]
    },
    {
     "data": {
      "application/vnd.jupyter.widget-view+json": {
       "model_id": "8797be491df446969a114a1557020a71",
       "version_major": 2,
       "version_minor": 0
      },
      "text/plain": [
       "HBox(children=(HTML(value=''), FloatProgress(value=0.0, max=227.0), HTML(value='')))"
      ]
     },
     "metadata": {},
     "output_type": "display_data"
    },
    {
     "name": "stdout",
     "output_type": "stream",
     "text": [
      "\n",
      "Validation completed for epoch: 5\n",
      "Time for validation: 13.624887228012085\n",
      "Accuracy: 0.17841409691629956 Loss: 2.451235771179199\n",
      "\n",
      "\n",
      "-------------\n",
      "EPOCH: 6\n",
      "Training started for epoch: 6\n"
     ]
    },
    {
     "data": {
      "application/vnd.jupyter.widget-view+json": {
       "model_id": "b4df5573baaf40f69c549dc39521f16a",
       "version_major": 2,
       "version_minor": 0
      },
      "text/plain": [
       "HBox(children=(HTML(value=''), FloatProgress(value=0.0, max=908.0), HTML(value='')))"
      ]
     },
     "metadata": {},
     "output_type": "display_data"
    },
    {
     "name": "stdout",
     "output_type": "stream",
     "text": [
      "\n",
      "Training completed for epoch: 6\n",
      "Time for train: 124.08844804763794\n",
      "Accuracy: 0.1909760462555066 Loss: 2.4323699474334717\n",
      "Validation started for epoch: 6\n"
     ]
    },
    {
     "data": {
      "application/vnd.jupyter.widget-view+json": {
       "model_id": "962d163c8f924f7aaaee8c157e270192",
       "version_major": 2,
       "version_minor": 0
      },
      "text/plain": [
       "HBox(children=(HTML(value=''), FloatProgress(value=0.0, max=227.0), HTML(value='')))"
      ]
     },
     "metadata": {},
     "output_type": "display_data"
    },
    {
     "name": "stdout",
     "output_type": "stream",
     "text": [
      "\n",
      "Validation completed for epoch: 6\n",
      "Time for validation: 13.661907196044922\n",
      "Accuracy: 0.18102973568281938 Loss: 2.4448657035827637\n",
      "\n",
      "\n",
      "-------------\n",
      "EPOCH: 7\n",
      "Training started for epoch: 7\n"
     ]
    },
    {
     "data": {
      "application/vnd.jupyter.widget-view+json": {
       "model_id": "c25310b2f6604fb487f7ff8631c6feee",
       "version_major": 2,
       "version_minor": 0
      },
      "text/plain": [
       "HBox(children=(HTML(value=''), FloatProgress(value=0.0, max=908.0), HTML(value='')))"
      ]
     },
     "metadata": {},
     "output_type": "display_data"
    },
    {
     "name": "stdout",
     "output_type": "stream",
     "text": [
      "\n",
      "Training completed for epoch: 7\n",
      "Time for train: 131.98740410804749\n",
      "Accuracy: 0.1947790473568282 Loss: 2.4231367111206055\n",
      "Validation started for epoch: 7\n"
     ]
    },
    {
     "data": {
      "application/vnd.jupyter.widget-view+json": {
       "model_id": "0bf7518793e44839bce19be47c43860f",
       "version_major": 2,
       "version_minor": 0
      },
      "text/plain": [
       "HBox(children=(HTML(value=''), FloatProgress(value=0.0, max=227.0), HTML(value='')))"
      ]
     },
     "metadata": {},
     "output_type": "display_data"
    },
    {
     "name": "stdout",
     "output_type": "stream",
     "text": [
      "\n",
      "Validation completed for epoch: 7\n",
      "Time for validation: 15.981598854064941\n",
      "Accuracy: 0.1795842511013216 Loss: 2.4408695697784424\n",
      "\n",
      "\n",
      "-------------\n",
      "EPOCH: 8\n",
      "Training started for epoch: 8\n"
     ]
    },
    {
     "data": {
      "application/vnd.jupyter.widget-view+json": {
       "model_id": "8352ea628ac6474c9e22e9f5e7686a87",
       "version_major": 2,
       "version_minor": 0
      },
      "text/plain": [
       "HBox(children=(HTML(value=''), FloatProgress(value=0.0, max=908.0), HTML(value='')))"
      ]
     },
     "metadata": {},
     "output_type": "display_data"
    },
    {
     "name": "stdout",
     "output_type": "stream",
     "text": [
      "\n",
      "Training completed for epoch: 8\n",
      "Time for train: 123.11065697669983\n",
      "Accuracy: 0.19763560022026433 Loss: 2.4153528213500977\n",
      "Validation started for epoch: 8\n"
     ]
    },
    {
     "data": {
      "application/vnd.jupyter.widget-view+json": {
       "model_id": "95663061c0c2413a9bef895b1f989ee4",
       "version_major": 2,
       "version_minor": 0
      },
      "text/plain": [
       "HBox(children=(HTML(value=''), FloatProgress(value=0.0, max=227.0), HTML(value='')))"
      ]
     },
     "metadata": {},
     "output_type": "display_data"
    },
    {
     "name": "stdout",
     "output_type": "stream",
     "text": [
      "\n",
      "Validation completed for epoch: 8\n",
      "Time for validation: 13.203881978988647\n",
      "Accuracy: 0.181511563876652 Loss: 2.436762571334839\n",
      "\n",
      "\n",
      "-------------\n",
      "EPOCH: 9\n",
      "Training started for epoch: 9\n"
     ]
    },
    {
     "data": {
      "application/vnd.jupyter.widget-view+json": {
       "model_id": "c81ec2b93ae54a5fa60306aa74834f3b",
       "version_major": 2,
       "version_minor": 0
      },
      "text/plain": [
       "HBox(children=(HTML(value=''), FloatProgress(value=0.0, max=908.0), HTML(value='')))"
      ]
     },
     "metadata": {},
     "output_type": "display_data"
    },
    {
     "name": "stdout",
     "output_type": "stream",
     "text": [
      "\n",
      "Training completed for epoch: 9\n",
      "Time for train: 124.21747899055481\n",
      "Accuracy: 0.19963174559471367 Loss: 2.4084928035736084\n",
      "Validation started for epoch: 9\n"
     ]
    },
    {
     "data": {
      "application/vnd.jupyter.widget-view+json": {
       "model_id": "5d0451fbceb14a9fb37c6e6823475f0b",
       "version_major": 2,
       "version_minor": 0
      },
      "text/plain": [
       "HBox(children=(HTML(value=''), FloatProgress(value=0.0, max=227.0), HTML(value='')))"
      ]
     },
     "metadata": {},
     "output_type": "display_data"
    },
    {
     "name": "stdout",
     "output_type": "stream",
     "text": [
      "\n",
      "Validation completed for epoch: 9\n",
      "Time for validation: 14.75459098815918\n",
      "Accuracy: 0.18302588105726872 Loss: 2.4336965084075928\n",
      "\n",
      "\n",
      "-------------\n",
      "EPOCH: 10\n",
      "Training started for epoch: 10\n"
     ]
    },
    {
     "data": {
      "application/vnd.jupyter.widget-view+json": {
       "model_id": "82738635f86646d1b173649731d7168f",
       "version_major": 2,
       "version_minor": 0
      },
      "text/plain": [
       "HBox(children=(HTML(value=''), FloatProgress(value=0.0, max=908.0), HTML(value='')))"
      ]
     },
     "metadata": {},
     "output_type": "display_data"
    },
    {
     "name": "stdout",
     "output_type": "stream",
     "text": [
      "\n",
      "Training completed for epoch: 10\n",
      "Time for train: 164.67484593391418\n",
      "Accuracy: 0.20050936123348018 Loss: 2.40244722366333\n",
      "Validation started for epoch: 10\n"
     ]
    },
    {
     "data": {
      "application/vnd.jupyter.widget-view+json": {
       "model_id": "fddf964fd8d84e70a1a4e8c0a91c96c9",
       "version_major": 2,
       "version_minor": 0
      },
      "text/plain": [
       "HBox(children=(HTML(value=''), FloatProgress(value=0.0, max=227.0), HTML(value='')))"
      ]
     },
     "metadata": {},
     "output_type": "display_data"
    },
    {
     "name": "stdout",
     "output_type": "stream",
     "text": [
      "\n",
      "Validation completed for epoch: 10\n",
      "Time for validation: 14.716086864471436\n",
      "Accuracy: 0.18261288546255505 Loss: 2.430231809616089\n",
      "\n",
      "\n",
      "-------------\n",
      "EPOCH: 11\n",
      "Training started for epoch: 11\n"
     ]
    },
    {
     "data": {
      "application/vnd.jupyter.widget-view+json": {
       "model_id": "f7de679f19cc4b41acb2cf9619e54e56",
       "version_major": 2,
       "version_minor": 0
      },
      "text/plain": [
       "HBox(children=(HTML(value=''), FloatProgress(value=0.0, max=908.0), HTML(value='')))"
      ]
     },
     "metadata": {},
     "output_type": "display_data"
    },
    {
     "name": "stdout",
     "output_type": "stream",
     "text": [
      "\n",
      "Training completed for epoch: 11\n",
      "Time for train: 129.05164003372192\n",
      "Accuracy: 0.2028324614537445 Loss: 2.3964459896087646\n",
      "Validation started for epoch: 11\n"
     ]
    },
    {
     "data": {
      "application/vnd.jupyter.widget-view+json": {
       "model_id": "0c45b89f23834c85bbca8a3e636c3235",
       "version_major": 2,
       "version_minor": 0
      },
      "text/plain": [
       "HBox(children=(HTML(value=''), FloatProgress(value=0.0, max=227.0), HTML(value='')))"
      ]
     },
     "metadata": {},
     "output_type": "display_data"
    },
    {
     "name": "stdout",
     "output_type": "stream",
     "text": [
      "\n",
      "Validation completed for epoch: 11\n",
      "Time for validation: 14.329417943954468\n",
      "Accuracy: 0.18323237885462554 Loss: 2.428896427154541\n",
      "\n",
      "\n",
      "-------------\n",
      "EPOCH: 12\n",
      "Training started for epoch: 12\n"
     ]
    },
    {
     "data": {
      "application/vnd.jupyter.widget-view+json": {
       "model_id": "0379015b1e2d483daa6d9ae8395b461e",
       "version_major": 2,
       "version_minor": 0
      },
      "text/plain": [
       "HBox(children=(HTML(value=''), FloatProgress(value=0.0, max=908.0), HTML(value='')))"
      ]
     },
     "metadata": {},
     "output_type": "display_data"
    },
    {
     "name": "stdout",
     "output_type": "stream",
     "text": [
      "\n",
      "Training completed for epoch: 12\n",
      "Time for train: 152.34994506835938\n",
      "Accuracy: 0.2036068281938326 Loss: 2.391052722930908\n",
      "Validation started for epoch: 12\n"
     ]
    },
    {
     "data": {
      "application/vnd.jupyter.widget-view+json": {
       "model_id": "656866a3f90c4912a7d6303235c73026",
       "version_major": 2,
       "version_minor": 0
      },
      "text/plain": [
       "HBox(children=(HTML(value=''), FloatProgress(value=0.0, max=227.0), HTML(value='')))"
      ]
     },
     "metadata": {},
     "output_type": "display_data"
    },
    {
     "name": "stdout",
     "output_type": "stream",
     "text": [
      "\n",
      "Validation completed for epoch: 12\n",
      "Time for validation: 16.16439986228943\n",
      "Accuracy: 0.18495319383259912 Loss: 2.426849365234375\n",
      "\n",
      "\n",
      "-------------\n",
      "EPOCH: 13\n",
      "Training started for epoch: 13\n"
     ]
    },
    {
     "data": {
      "application/vnd.jupyter.widget-view+json": {
       "model_id": "05222ca303f44ee3b0962c21a1bb5fd7",
       "version_major": 2,
       "version_minor": 0
      },
      "text/plain": [
       "HBox(children=(HTML(value=''), FloatProgress(value=0.0, max=908.0), HTML(value='')))"
      ]
     },
     "metadata": {},
     "output_type": "display_data"
    },
    {
     "name": "stdout",
     "output_type": "stream",
     "text": [
      "\n",
      "Training completed for epoch: 13\n",
      "Time for train: 134.00210690498352\n",
      "Accuracy: 0.20522439427312775 Loss: 2.385930299758911\n",
      "Validation started for epoch: 13\n"
     ]
    },
    {
     "data": {
      "application/vnd.jupyter.widget-view+json": {
       "model_id": "3d3a5cc79dcf465fbc86ef096ca0cad1",
       "version_major": 2,
       "version_minor": 0
      },
      "text/plain": [
       "HBox(children=(HTML(value=''), FloatProgress(value=0.0, max=227.0), HTML(value='')))"
      ]
     },
     "metadata": {},
     "output_type": "display_data"
    },
    {
     "name": "stdout",
     "output_type": "stream",
     "text": [
      "\n",
      "Validation completed for epoch: 13\n",
      "Time for validation: 16.140282154083252\n",
      "Accuracy: 0.1863986784140969 Loss: 2.426435708999634\n",
      "\n",
      "\n",
      "-------------\n",
      "EPOCH: 14\n",
      "Training started for epoch: 14\n"
     ]
    },
    {
     "data": {
      "application/vnd.jupyter.widget-view+json": {
       "model_id": "00b70c56301f488b927ca6f199d78c5a",
       "version_major": 2,
       "version_minor": 0
      },
      "text/plain": [
       "HBox(children=(HTML(value=''), FloatProgress(value=0.0, max=908.0), HTML(value='')))"
      ]
     },
     "metadata": {},
     "output_type": "display_data"
    },
    {
     "name": "stdout",
     "output_type": "stream",
     "text": [
      "\n",
      "Training completed for epoch: 14\n",
      "Time for train: 144.66018199920654\n",
      "Accuracy: 0.20591272026431717 Loss: 2.380878210067749\n",
      "Validation started for epoch: 14\n"
     ]
    },
    {
     "data": {
      "application/vnd.jupyter.widget-view+json": {
       "model_id": "8249db39f08347eb9672ee91af6f4a4e",
       "version_major": 2,
       "version_minor": 0
      },
      "text/plain": [
       "HBox(children=(HTML(value=''), FloatProgress(value=0.0, max=227.0), HTML(value='')))"
      ]
     },
     "metadata": {},
     "output_type": "display_data"
    },
    {
     "name": "stdout",
     "output_type": "stream",
     "text": [
      "\n",
      "Validation completed for epoch: 14\n",
      "Time for validation: 13.924571990966797\n",
      "Accuracy: 0.1842648678414097 Loss: 2.4232144355773926\n",
      "\n",
      "\n",
      "-------------\n",
      "EPOCH: 15\n",
      "Training started for epoch: 15\n"
     ]
    },
    {
     "data": {
      "application/vnd.jupyter.widget-view+json": {
       "model_id": "9717e39525e54b479cadece6ab462c89",
       "version_major": 2,
       "version_minor": 0
      },
      "text/plain": [
       "HBox(children=(HTML(value=''), FloatProgress(value=0.0, max=908.0), HTML(value='')))"
      ]
     },
     "metadata": {},
     "output_type": "display_data"
    },
    {
     "name": "stdout",
     "output_type": "stream",
     "text": [
      "\n",
      "Training completed for epoch: 15\n",
      "Time for train: 138.48485708236694\n",
      "Accuracy: 0.20706566629955947 Loss: 2.3762669563293457\n",
      "Validation started for epoch: 15\n"
     ]
    },
    {
     "data": {
      "application/vnd.jupyter.widget-view+json": {
       "model_id": "175ac51fb7b24f13b3b29db5eef4af1f",
       "version_major": 2,
       "version_minor": 0
      },
      "text/plain": [
       "HBox(children=(HTML(value=''), FloatProgress(value=0.0, max=227.0), HTML(value='')))"
      ]
     },
     "metadata": {},
     "output_type": "display_data"
    },
    {
     "name": "stdout",
     "output_type": "stream",
     "text": [
      "\n",
      "Validation completed for epoch: 15\n",
      "Time for validation: 13.686702966690063\n",
      "Accuracy: 0.18378303964757708 Loss: 2.4223885536193848\n"
     ]
    },
    {
     "data": {
      "image/png": "[encoded data removed]",
      "text/plain": [
       "<Figure size 432x288 with 1 Axes>"
      ]
     },
     "metadata": {
      "needs_background": "light"
     },
     "output_type": "display_data"
    },
    {
     "data": {
      "image/png": "[encoded data removed]",
      "text/plain": [
       "<Figure size 432x288 with 1 Axes>"
      ]
     },
     "metadata": {
      "needs_background": "light"
     },
     "output_type": "display_data"
    }
   ],
   "source": [
    "# running epochs for training and validation\n",
    "HIDDEN_DIM = 124\n",
    "EPOCHS = 15\n",
    "minibatch_size = 64\n",
    "\n",
    "# model = RNN(WORDEMBSIZE, HIDDEN_DIM, 15)\n",
    "# model = biRNN(WORDEMBSIZE, HIDDEN_DIM, 15)\n",
    "model = GRU(WORDEMBSIZE, HIDDEN_DIM, 15)\n",
    "optimizer = optim.SGD(model.parameters(),lr=0.01)\n",
    "train_loss = []\n",
    "train_acc = []\n",
    "test_loss = []\n",
    "test_acc = []\n",
    "for epoch in range(EPOCHS):\n",
    "    print(\"\\n\\n-------------\")\n",
    "    print(\"EPOCH: {}\".format(epoch + 1))\n",
    "    running_loss = 0.0\n",
    "    model.train()\n",
    "    optimizer.zero_grad()\n",
    "    print(\"Training started for epoch: {}\".format(epoch + 1))\n",
    "    X_train, y_train = shuffle(X_train, y_train)\n",
    "    start_time = time.time()\n",
    "    correct = total = 0\n",
    "    N = len(y_train)\n",
    "    for minibatch_idx in tqdm(range(N // minibatch_size)):\n",
    "        optimizer.zero_grad()\n",
    "        loss = None\n",
    "        for idx in range(minibatch_size):\n",
    "            text = X_train[minibatch_idx * minibatch_size + idx]\n",
    "            text = torch.unsqueeze(text, 1)\n",
    "            labelIdx = y_train[minibatch_idx * minibatch_size + idx]\n",
    "            log_probs = model(text)\n",
    "            text_loss = model.compute_loss(log_probs.view(1,-1), torch.tensor([labelIdx]))\n",
    "            running_loss += text_loss\n",
    "            if loss is None:\n",
    "                loss = text_loss\n",
    "            else:\n",
    "                loss += text_loss\n",
    "            pred_label = torch.argmax(log_probs)\n",
    "            correct += int(pred_label == labelIdx)\n",
    "            total += 1\n",
    "        loss = loss / minibatch_size\n",
    "        loss.backward()\n",
    "        optimizer.step()\n",
    "    train_loss.append(running_loss / N)\n",
    "    train_acc.append(correct / total)\n",
    "    print(\"Training completed for epoch: {}\".format(epoch + 1))\n",
    "    print(\"Time for train: {}\".format(time.time() - start_time))\n",
    "    print(\"Accuracy: {} Loss: {}\".format(correct / total, train_loss[-1]))\n",
    "    \n",
    "    #validation\n",
    "    running_loss = 0.0\n",
    "    model.eval()\n",
    "    optimizer.zero_grad()\n",
    "    print(\"Validation started for epoch: {}\".format(epoch + 1))\n",
    "    X_test, y_test = shuffle(X_test, y_test)\n",
    "    start_time = time.time()\n",
    "    correct = total = 0\n",
    "    predictions = []\n",
    "    N = len(y_test)\n",
    "    for minibatch_idx in tqdm(range(N // minibatch_size)):\n",
    "        optimizer.zero_grad()\n",
    "        for idx in range(minibatch_size):\n",
    "            text = X_test[minibatch_idx * minibatch_size + idx]\n",
    "            text = torch.unsqueeze(text, 1)\n",
    "            labelIdx = y_test[minibatch_idx * minibatch_size + idx]\n",
    "            log_probs = model(text)\n",
    "            text_loss = model.compute_loss(log_probs.view(1,-1), torch.tensor([labelIdx]))\n",
    "            running_loss += text_loss\n",
    "            pred_label = torch.argmax(log_probs)\n",
    "            correct += int(pred_label == labelIdx)\n",
    "            total += 1\n",
    "    curr_loss = running_loss / N\n",
    "    test_loss.append(curr_loss)\n",
    "    test_acc.append(correct / total)\n",
    "    print(\"Validation completed for epoch: {}\".format(epoch + 1))\n",
    "    print(\"Time for validation: {}\".format(time.time() - start_time))\n",
    "    print(\"Accuracy: {} Loss: {}\".format(correct / total, curr_loss))\n",
    "    if len(test_loss) > 3 and curr_loss >= test_loss[-3]:\n",
    "        print(\"Stopping progress: no longer learning for validation\")\n",
    "        break\n",
    "\n",
    "plt.plot(train_loss, label='train loss')\n",
    "plt.plot(test_loss, label='test loss')\n",
    "plt.legend()\n",
    "plt.show()\n",
    "\n",
    "plt.plot(train_acc, label='train acc')\n",
    "plt.plot(test_acc, label='test acc')\n",
    "plt.legend()\n",
    "plt.show()"
   ]
  }
 ],
 "metadata": {
  "kernelspec": {
   "display_name": "Python 3",
   "language": "python",
   "name": "python3"
  },
  "language_info": {
   "codemirror_mode": {
    "name": "ipython",
    "version": 3
   },
   "file_extension": ".py",
   "mimetype": "text/x-python",
   "name": "python",
   "nbconvert_exporter": "python",
   "pygments_lexer": "ipython3",
   "version": "3.7.1"
  }
 },
 "nbformat": 4,
 "nbformat_minor": 4
}
